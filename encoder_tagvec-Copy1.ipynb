{
 "cells": [
  {
   "cell_type": "code",
   "execution_count": 1,
   "metadata": {},
   "outputs": [],
   "source": [
    "using JLD,JLD2,Knet\n",
    "using Base.Iterators: flatten\n",
    "using Random, Distributions"
   ]
  },
  {
   "cell_type": "code",
   "execution_count": 2,
   "metadata": {},
   "outputs": [
    {
     "name": "stderr",
     "output_type": "stream",
     "text": [
      "WARNING: redefining constant UPOSTAG\n",
      "WARNING: redefining constant XPOSTAG\n",
      "WARNING: redefining constant FEATS\n",
      "WARNING: redefining constant UDEPREL\n"
     ]
    },
    {
     "data": {
      "text/plain": [
       "fillvecs! (generic function with 1 method)"
      ]
     },
     "execution_count": 2,
     "metadata": {},
     "output_type": "execute_result"
    }
   ],
   "source": [
    "include(\"types.jl\")\n",
    "include(\"pre_processing.jl\")\n",
    "include(\"encoder_utils.jl\")"
   ]
  },
  {
   "cell_type": "code",
   "execution_count": 46,
   "metadata": {
    "scrolled": true
   },
   "outputs": [
    {
     "data": {
      "text/plain": [
       "9-element Array{Array{Float32,2},1}:\n",
       " [0.593419 0.190279 … 0.11003 -0.000173569; -0.236287 0.455614 … 0.138825 -0.0971059; … ; -0.341316 0.0835031 … -0.0285478 -0.0718531; -0.205958 -0.168918 … -0.13226 -0.0319474]\n",
       " [0.0708071 -0.456333 … 0.557484 0.094816; -1.61625 -1.37924 … 0.342474 0.548784; … ; 1.07664 -0.430524 … -0.360356 0.668587; 0.324491 -0.175173 … -0.790751 1.16417]            \n",
       " [1.2185; 1.52402; … ; -1.1745; -1.53404]                                                                                                                                        \n",
       " [1.47578 0.055072 … -0.2823 -1.58338; -1.95253 -0.402249 … -0.221281 -0.667834; … ; 1.28302 -0.0459206 … -2.12551 -0.95058; 0.924036 0.269601 … 0.515548 7.38111]               \n",
       " [-0.916012; -2.25621; … ; -0.166855; 0.169325]                                                                                                                                  \n",
       " [1.70814 0.787587 … -0.636378 -1.76298; 4.32346 5.14362 … 0.705938 -0.0418462; … ; 0.360138 0.894677 … 0.9248 -0.56745; 2.43944 1.57233 … 0.283839 0.257673]                    \n",
       " [-1.57632; -0.465515; … ; 0.232742; 0.0523779]                                                                                                                                  \n",
       " [-0.303084 -1.18525 … -0.281071 -0.2053; -0.105208 -1.07845 … -0.25827 -0.161327; … ; -6.89772 -4.49219 … -6.53177 22.878; -10.3504 -2.46182 … -5.35946 28.4459]                \n",
       " [-23.6416; -24.3744; … ; -1.42056; -3.41009]                                                                                                                                    "
      ]
     },
     "execution_count": 46,
     "metadata": {},
     "output_type": "execute_result"
    }
   ],
   "source": [
    "d = JLD.load(\"english_chmodel2.jld2\")\n",
    "v = create_vocab(d[\"new_d\"])\n",
    "corpus = load_conllu(\"tr_imst-ud-train.conllu\",v)\n",
    "wmodel = makewmodel(d[\"new_d\"])"
   ]
  },
  {
   "cell_type": "code",
   "execution_count": 47,
   "metadata": {},
   "outputs": [
    {
     "data": {
      "text/plain": [
       "Dict{String,Any} with 13 entries:\n",
       "  \"back\"       => Any[Float32[1.70814 0.787587 … -0.636378 -1.76298; 4.32346 5.…\n",
       "  \"word_vocab\" => Dict(\"null\"=>8668,\"Secure\"=>7932,\"Puppy\"=>9040,\"progression\"=…\n",
       "  \"char_vocab\" => Dict('\\x00\\x00\\x00\\x42'=>37,'\\x00\\x00\\x20\\x1d'=>116,'\\x00\\x00…\n",
       "  \"eowchar\"    => '\\x00\\x00\\x00\\x13'\n",
       "  \"sowchar\"    => '\\x00\\x00\\x00\\x12'\n",
       "  \"forw\"       => Any[Float32[1.47578 0.055072 … -0.2823 -1.58338; -1.95253 -0.…\n",
       "  \"eosword\"    => \"</s>\"\n",
       "  \"sosword\"    => \"<s>\"\n",
       "  \"soft\"       => Array{Float32,2}[[-0.303084 -1.18525 … -0.281071 -0.2053; -0.…\n",
       "  \"unkword\"    => \"<unk>\"\n",
       "  \"cembed\"     => Float32[0.593419 0.190279 … 0.11003 -0.000173569; -0.236287 0…\n",
       "  \"char\"       => Any[Float32[0.0708071 -0.456333 … 0.557484 0.094816; -1.61625…\n",
       "  \"unkchar\"    => '\\x00\\x00\\x00\\x11'"
      ]
     },
     "execution_count": 47,
     "metadata": {},
     "output_type": "execute_result"
    }
   ],
   "source": [
    "d[\"new_d\"]"
   ]
  },
  {
   "cell_type": "code",
   "execution_count": 48,
   "metadata": {},
   "outputs": [
    {
     "data": {
      "text/plain": [
       "Sanal parçacıklar sa bunların hiçbirini yapamazlar . "
      ]
     },
     "execution_count": 48,
     "metadata": {},
     "output_type": "execute_result"
    }
   ],
   "source": [
    "s = corpus[1]"
   ]
  },
  {
   "cell_type": "code",
   "execution_count": 49,
   "metadata": {},
   "outputs": [
    {
     "name": "stderr",
     "output_type": "stream",
     "text": [
      "┌ Warning: `getval` is deprecated, use `value` instead.\n",
      "│   caller = #lmloss#18(::Array{Float64,1}, ::Function, ::Array{Array{Float32,2},1}, ::Array{Array{Int64,1},1}, ::Array{Array{Float32,1},1}, ::Array{Any,1}, ::Array{Any,1}) at encoder_utils.jl:59\n",
      "└ @ Main /home/caltan14/gbdp/encoder_utils.jl:59\n"
     ]
    }
   ],
   "source": [
    "fillvecs!(wmodel, corpus, v)"
   ]
  },
  {
   "cell_type": "code",
   "execution_count": 50,
   "metadata": {},
   "outputs": [
    {
     "data": {
      "text/plain": [
       "ExtendedVocab(Dict(\"Abr\"=>26,\"PCNom\"=>18,\"Dup\"=>27,\"PCIns\"=>30,\"Since\"=>32,\"Postp\"=>31,\"Interj\"=>24,\"Ques\"=>14,\"Demons\"=>5,\"NAdj\"=>11…), Dict(\"VerbForm=Vnoun\"=>43,\"Person=3\"=>4,\"Case=Acc\"=>11,\"Number=Sing\"=>7,\"Mood=Nec\"=>54,\"Aspect=Prog\"=>27,\"Person[psor]=3\"=>13,\"VerbForm=Conv\"=>44,\"Aspect=Hab\"=>15,\"Voice=CauPass\"=>46…), Vocab(Dict('\\x00\\x00\\x00\\x42'=>37,'\\x00\\x00\\x20\\x1d'=>116,'\\x00\\x00\\x00\\x58'=>87,'\\x00\\x00\\x20\\x44'=>110,'\\x00\\x00\\x00\\x56'=>59,'\\x00\\x00\\x00\\xd7'=>107,'\\x00\\x00\\x00\\x48'=>29,'\\x00\\x00\\x00\\x75'=>5,'\\x00\\x00\\x00\\x50'=>11,'\\x00\\x00\\x00\\x7a'=>61…), Dict(\"çıkaramayacaklarını\"=>7805,\"apartmanın\"=>13565,\"Güreş\"=>2733,\"karıştı\"=>1790,\"ikibin'de\"=>7225,\"formülü\"=>4676,\"ANAP'ı\"=>4506,\"ihmal\"=>5116,\"Virgülden\"=>9483,\"il\"=>6725…), Dict(\"null\"=>8668,\"Secure\"=>7932,\"Puppy\"=>9040,\"progression\"=>11757,\"gathered\"=>6954,\"Core\"=>3600,\"lovers\"=>8832,\"underground\"=>9093,\"backup\"=>5047,\"caught\"=>2501…), \"<s>\", \"</s>\", \"<unk>\", '\\x00\\x00\\x00\\x12', '\\x00\\x00\\x00\\x13', '\\x00\\x00\\x00\\x11', Dict(\"NUM\"=>0x09,\"DET\"=>0x06,\"X\"=>0x11,\"VERB\"=>0x10,\"PROPN\"=>0x0c,\"ADV\"=>0x03,\"ADJ\"=>0x01,\"AUX\"=>0x04,\"PUNCT\"=>0x0d,\"PRON\"=>0x0b…), Dict(\"reparandum\"=>0x23,\"root\"=>0x01,\"vocative\"=>0x24,\"csubj\"=>0x0f,\"advmod\"=>0x04,\"expl\"=>0x14,\"iobj\"=>0x18,\"mark\"=>0x1a,\"advcl\"=>0x03,\"nmod\"=>0x1b…)))"
      ]
     },
     "execution_count": 50,
     "metadata": {},
     "output_type": "execute_result"
    }
   ],
   "source": [
    "ev = extend_vocab!(v, corpus)"
   ]
  },
  {
   "cell_type": "code",
   "execution_count": 51,
   "metadata": {},
   "outputs": [],
   "source": [
    "mutable struct FeatureSource\n",
    "    postags::Array{Float64}\n",
    "    xpostags::Array{Float64}\n",
    "    feats::Array{Float64}\n",
    "end"
   ]
  },
  {
   "cell_type": "code",
   "execution_count": 52,
   "metadata": {},
   "outputs": [
    {
     "data": {
      "text/plain": [
       "MersenneTwister(UInt32[0x00000005], Random.DSFMT.DSFMT_state(Int32[-85655800, 1072952617, -522203688, 1073721902, 1588056292, 1072823262, 1930843968, 1073164255, -719121749, 1073022455  …  647343590, 1073165527, 1405924594, 1072769931, 1969171087, 42945320, -226019479, -1469955508, 382, 0]), [0.0, 0.0, 0.0, 0.0, 0.0, 0.0, 0.0, 0.0, 0.0, 0.0  …  0.0, 0.0, 0.0, 0.0, 0.0, 0.0, 0.0, 0.0, 0.0, 0.0], UInt128[0x00000000000000000000000000000000, 0x00000000000000000000000000000000, 0x00000000000000000000000000000000, 0x00000000000000000000000000000000, 0x00000000000000000000000000000000, 0x00000000000000000000000000000000, 0x00000000000000000000000000000000, 0x00000000000000000000000000000000, 0x00000000000000000000000000000000, 0x00000000000000000000000000000000  …  0x00000000000000000000000000000000, 0x00000000000000000000000000000000, 0x00000000000000000000000000000000, 0x00000000000000000000000000000000, 0x00000000000000000000000000000000, 0x00000000000000000000000000000000, 0x00000000000000000000000000000000, 0x00000000000000000000000000000000, 0x00000000000000000000000000000000, 0x00000000000000000000000000000000], 1002, 0)"
      ]
     },
     "execution_count": 52,
     "metadata": {},
     "output_type": "execute_result"
    }
   ],
   "source": [
    "Random.seed!(5)"
   ]
  },
  {
   "cell_type": "code",
   "execution_count": 53,
   "metadata": {},
   "outputs": [
    {
     "data": {
      "text/plain": [
       "32"
      ]
     },
     "execution_count": 53,
     "metadata": {},
     "output_type": "execute_result"
    }
   ],
   "source": [
    "# Size of the randomly initialized column vectors that represents features such that xpostag, upostag, feats\n",
    "tagrepsize = 32"
   ]
  },
  {
   "cell_type": "code",
   "execution_count": 54,
   "metadata": {},
   "outputs": [
    {
     "data": {
      "text/plain": [
       "createcolvecs (generic function with 1 method)"
      ]
     },
     "execution_count": 54,
     "metadata": {},
     "output_type": "execute_result"
    }
   ],
   "source": [
    "function createcolvecs(corpus,ev)\n",
    "    dist = Normal()\n",
    "    xpostags = rand(dist, (tagrepsize, length(keys(ev.xpostags))))\n",
    "    postags = rand(dist, (tagrepsize, length(keys(ev.vocab.postags))))\n",
    "    feats = rand(dist, (tagrepsize, length(keys(ev.feats))))\n",
    "    return FeatureSource(postags,xpostags,feats)\n",
    "end"
   ]
  },
  {
   "cell_type": "code",
   "execution_count": 55,
   "metadata": {},
   "outputs": [
    {
     "data": {
      "text/plain": [
       "FeatureSource([-0.542853 -0.992666 … 1.6983 -2.17757; 0.584793 1.14789 … 0.609551 -2.53964; … ; -0.825722 -2.10416 … 1.05649 -0.0918268; -2.90343 -0.18003 … -0.493267 1.06719], [1.46431 -0.123083 … 0.537261 0.982212; 0.260871 0.318797 … 0.798075 0.462872; … ; 1.29726 0.789473 … -0.589126 0.00480883; -1.61916 1.94446 … -1.57499 -1.55228], [0.819346 0.699932 … -0.915596 -1.791; 0.504342 -2.51908 … -0.0451559 0.201541; … ; 0.493422 0.875163 … -0.962536 1.63154; 0.395833 0.817469 … -1.82224 0.441632])"
      ]
     },
     "execution_count": 55,
     "metadata": {},
     "output_type": "execute_result"
    }
   ],
   "source": [
    "fs = createcolvecs(corpus,ev)"
   ]
  },
  {
   "cell_type": "code",
   "execution_count": 56,
   "metadata": {
    "scrolled": true
   },
   "outputs": [
    {
     "data": {
      "text/plain": [
       "32-element Array{Float64,1}:\n",
       " -0.12308284078752839 \n",
       "  0.3187970252733201  \n",
       " -0.7910831402314742  \n",
       "  0.4421427803274385  \n",
       " -1.0104910883715064  \n",
       "  0.4859593864808637  \n",
       "  0.07200507807828677 \n",
       " -1.2444991825818057  \n",
       "  0.7321681826266581  \n",
       " -1.1034372169774     \n",
       "  1.9233445877702353  \n",
       "  1.3775612444949075  \n",
       " -1.867527226614093   \n",
       "  ⋮                   \n",
       " -0.050779830784901565\n",
       " -0.7361552384181024  \n",
       " -0.9948592466621384  \n",
       " -0.27768412415298127 \n",
       " -0.4450002990337082  \n",
       "  0.9776749351851451  \n",
       " -0.7948204573786628  \n",
       "  0.8486637089024585  \n",
       " -1.4446783561804906  \n",
       " -0.6733567529686127  \n",
       "  0.7894731805379925  \n",
       "  1.9444589221380262  "
      ]
     },
     "execution_count": 56,
     "metadata": {},
     "output_type": "execute_result"
    }
   ],
   "source": [
    "fs.xpostags[:,s.xpostag[1]]"
   ]
  },
  {
   "cell_type": "code",
   "execution_count": 57,
   "metadata": {},
   "outputs": [
    {
     "data": {
      "text/plain": [
       "sumfeats (generic function with 1 method)"
      ]
     },
     "execution_count": 57,
     "metadata": {},
     "output_type": "execute_result"
    }
   ],
   "source": [
    "function sumfeats(feats, fs)\n",
    "    sum = zeros(length(fs.feats[:,1]))\n",
    "    for i in 1:length(feats)\n",
    "        sum .+= fs.feats[:,feats[i]]\n",
    "    end\n",
    "    return sum\n",
    "end"
   ]
  },
  {
   "cell_type": "code",
   "execution_count": 58,
   "metadata": {},
   "outputs": [
    {
     "data": {
      "text/plain": [
       "createfeatvec! (generic function with 1 method)"
      ]
     },
     "execution_count": 58,
     "metadata": {},
     "output_type": "execute_result"
    }
   ],
   "source": [
    "function createfeatvec!(corpus, fs)\n",
    "    for sent in corpus\n",
    "        for i in 1:length(sent)\n",
    "            push!(sent.cavec, vcat(sent.wvec[i], sent.fvec[i], sent.bvec[i], fs.postags[:,sent.postag[i]], fs.xpostags[:,sent.xpostag[i]], sumfeats(sent.feats[i],fs)))\n",
    "        end\n",
    "    end\n",
    "end"
   ]
  },
  {
   "cell_type": "code",
   "execution_count": 59,
   "metadata": {},
   "outputs": [
    {
     "data": {
      "text/plain": [
       "0-element Array{Any,1}"
      ]
     },
     "execution_count": 59,
     "metadata": {},
     "output_type": "execute_result"
    }
   ],
   "source": [
    "s.cavec"
   ]
  },
  {
   "cell_type": "code",
   "execution_count": 60,
   "metadata": {},
   "outputs": [],
   "source": [
    "createfeatvec!(corpus, fs)"
   ]
  },
  {
   "cell_type": "code",
   "execution_count": 61,
   "metadata": {},
   "outputs": [
    {
     "data": {
      "text/plain": [
       "32-element Array{Float64,1}:\n",
       " -0.1311150143919328  \n",
       " -1.677971571112714   \n",
       " -1.2598708654940836  \n",
       "  0.37398323197209205 \n",
       "  0.7517536501770229  \n",
       "  1.0319548655085806  \n",
       "  0.30156213535618165 \n",
       " -0.7764951705395398  \n",
       " -0.3284245341477391  \n",
       " -1.995153243063271   \n",
       "  1.1956060383577813  \n",
       " -0.773249822675974   \n",
       "  1.3211269528055156  \n",
       "  ⋮                   \n",
       " -0.8533704218618776  \n",
       " -1.1505363442394707  \n",
       "  0.9761759177025612  \n",
       " -1.171026399033072   \n",
       "  1.793692224176808   \n",
       " -0.546172172962383   \n",
       " -0.37601361704464076 \n",
       "  1.6577882662957313  \n",
       "  0.016430384331410506\n",
       " -0.68076827209089    \n",
       " -1.7906290138997918  \n",
       "  1.2019453653596417  "
      ]
     },
     "execution_count": 61,
     "metadata": {},
     "output_type": "execute_result"
    }
   ],
   "source": [
    "s.cavec[2][951:982]"
   ]
  },
  {
   "cell_type": "code",
   "execution_count": 62,
   "metadata": {},
   "outputs": [
    {
     "data": {
      "text/plain": [
       "7-element Array{UInt8,1}:\n",
       " 0x01\n",
       " 0x08\n",
       " 0x04\n",
       " 0x0b\n",
       " 0x0b\n",
       " 0x10\n",
       " 0x0d"
      ]
     },
     "execution_count": 62,
     "metadata": {},
     "output_type": "execute_result"
    }
   ],
   "source": [
    "s.postag"
   ]
  },
  {
   "cell_type": "code",
   "execution_count": 63,
   "metadata": {},
   "outputs": [
    {
     "data": {
      "text/plain": [
       "(Array{Int64,1}[[1, 1, 1], [1, 1, 1, 1], [1, 1, 1, 1, 1], [1, 1, 1, 1, 1, 1, 1, 1, 1, 1, 1], [1, 1], [1, 1, 1, 1, 1, 1, 1, 1], [1, 1, 1, 1, 1, 1, 1, 1, 1], [1, 1, 1, 1, 1, 1, 1, 1, 1, 1], [1], [1, 1, 1]  …  [1, 1, 1, 1, 1, 1], [1, 1, 1, 1, 1, 1, 1, 1], [1, 1, 1, 1, 1, 1, 1], [1, 1, 1, 1, 1, 1, 1, 1], [1, 1, 1, 1, 1, 1, 1, 1], [1, 1, 1, 1, 1, 1, 1, 1], [1, 1, 1, 1, 1, 1, 1, 1, 1, 1, 1], [1, 1, 1, 1, 1, 1, 1, 1, 1], [1, 1, 1, 1, 1, 1, 1, 1, 1, 1, 1], [1, 1, 1, 1, 1, 1]], Array{Int64,1}[[3, 4, 5, 6, 7, 8, 9], [10, 11, 12, 13, 9], [14, 15, 16, 17, 18, 19, 15, 20, 21, 22, 23, 24, 25, 26, 9], [27, 28, 9], [29, 30, 31, 9], [32, 33, 34, 9], [35, 36, 37, 9], [38, 39], [40, 41, 9], [42, 43, 44, 9]  …  [13779, 13780, 1124, 73, 13781, 13782, 9633, 9], [13783, 13784, 15, 13785, 13786, 13787, 606, 607, 99, 39], [13788, 9628, 1915, 215, 9], [13789, 15, 854, 658, 4761, 13790, 9], [13791, 13792, 9], [5308, 13793, 6209, 146, 9], [8698, 5901, 160, 13794, 7669, 3910, 13795, 15, 13796, 13797, 1161, 941, 13798, 9], [13799, 5739, 13800, 15, 10256, 13801, 9], [1076, 15, 3222, 13802, 613, 73, 13803, 1595, 9], [2787, 2948, 79, 13804, 11635, 6047, 13805, 15, 663, 912  …  13198, 58, 3996, 866, 15, 1028, 13808, 1982, 282, 9]], 32, 57)"
      ]
     },
     "execution_count": 63,
     "metadata": {},
     "output_type": "execute_result"
    }
   ],
   "source": [
    "words, sents, maxwordlen, maxsentlen = maptoint(corpus, v)"
   ]
  },
  {
   "cell_type": "code",
   "execution_count": 64,
   "metadata": {},
   "outputs": [
    {
     "data": {
      "text/plain": [
       "13808-element Array{Array{Int64,1},1}:\n",
       " [1, 1, 1]                        \n",
       " [1, 1, 1, 1]                     \n",
       " [1, 1, 1, 1, 1]                  \n",
       " [1, 1, 1, 1, 1, 1, 1, 1, 1, 1, 1]\n",
       " [1, 1]                           \n",
       " [1, 1, 1, 1, 1, 1, 1, 1]         \n",
       " [1, 1, 1, 1, 1, 1, 1, 1, 1]      \n",
       " [1, 1, 1, 1, 1, 1, 1, 1, 1, 1]   \n",
       " [1]                              \n",
       " [1, 1, 1]                        \n",
       " [1, 1, 1]                        \n",
       " [1, 1, 1, 1, 1, 1]               \n",
       " [1, 1, 1, 1, 1, 1]               \n",
       " ⋮                                \n",
       " [1, 1, 1, 1, 1, 1, 1, 1, 1, 1, 1]\n",
       " [1, 1, 1, 1, 1, 1, 1, 1]         \n",
       " [1, 1, 1, 1, 1, 1]               \n",
       " [1, 1, 1, 1, 1, 1, 1, 1]         \n",
       " [1, 1, 1, 1, 1, 1, 1]            \n",
       " [1, 1, 1, 1, 1, 1, 1, 1]         \n",
       " [1, 1, 1, 1, 1, 1, 1, 1]         \n",
       " [1, 1, 1, 1, 1, 1, 1, 1]         \n",
       " [1, 1, 1, 1, 1, 1, 1, 1, 1, 1, 1]\n",
       " [1, 1, 1, 1, 1, 1, 1, 1, 1]      \n",
       " [1, 1, 1, 1, 1, 1, 1, 1, 1, 1, 1]\n",
       " [1, 1, 1, 1, 1, 1]               "
      ]
     },
     "execution_count": 64,
     "metadata": {},
     "output_type": "execute_result"
    }
   ],
   "source": [
    "words"
   ]
  },
  {
   "cell_type": "code",
   "execution_count": 65,
   "metadata": {},
   "outputs": [
    {
     "data": {
      "text/plain": [
       "3685-element Array{Array{Int64,1},1}:\n",
       " [3, 4, 5, 6, 7, 8, 9]                                                                                            \n",
       " [10, 11, 12, 13, 9]                                                                                              \n",
       " [14, 15, 16, 17, 18, 19, 15, 20, 21, 22, 23, 24, 25, 26, 9]                                                      \n",
       " [27, 28, 9]                                                                                                      \n",
       " [29, 30, 31, 9]                                                                                                  \n",
       " [32, 33, 34, 9]                                                                                                  \n",
       " [35, 36, 37, 9]                                                                                                  \n",
       " [38, 39]                                                                                                         \n",
       " [40, 41, 9]                                                                                                      \n",
       " [42, 43, 44, 9]                                                                                                  \n",
       " [45, 46, 47, 9]                                                                                                  \n",
       " [48, 49, 50, 51, 52, 53, 54, 55, 56, 57, 58, 59, 9]                                                              \n",
       " [60, 61, 15, 62, 63, 64, 9]                                                                                      \n",
       " ⋮                                                                                                                \n",
       " [502, 104, 1338, 13775, 1206, 9]                                                                                 \n",
       " [104, 13776, 6840, 13777, 185, 4179, 697, 6659, 9745, 73, 235, 13778, 9]                                         \n",
       " [13779, 13780, 1124, 73, 13781, 13782, 9633, 9]                                                                  \n",
       " [13783, 13784, 15, 13785, 13786, 13787, 606, 607, 99, 39]                                                        \n",
       " [13788, 9628, 1915, 215, 9]                                                                                      \n",
       " [13789, 15, 854, 658, 4761, 13790, 9]                                                                            \n",
       " [13791, 13792, 9]                                                                                                \n",
       " [5308, 13793, 6209, 146, 9]                                                                                      \n",
       " [8698, 5901, 160, 13794, 7669, 3910, 13795, 15, 13796, 13797, 1161, 941, 13798, 9]                               \n",
       " [13799, 5739, 13800, 15, 10256, 13801, 9]                                                                        \n",
       " [1076, 15, 3222, 13802, 613, 73, 13803, 1595, 9]                                                                 \n",
       " [2787, 2948, 79, 13804, 11635, 6047, 13805, 15, 663, 912  …  13198, 58, 3996, 866, 15, 1028, 13808, 1982, 282, 9]"
      ]
     },
     "execution_count": 65,
     "metadata": {},
     "output_type": "execute_result"
    }
   ],
   "source": [
    "sents"
   ]
  },
  {
   "cell_type": "code",
   "execution_count": 66,
   "metadata": {},
   "outputs": [],
   "source": [
    "count = 0\n",
    "unq = []\n",
    "for s in corpus\n",
    "   for w in s.word\n",
    "        if !(w in unq)\n",
    "           push!(unq, w) \n",
    "        end\n",
    "    end\n",
    "end"
   ]
  },
  {
   "cell_type": "code",
   "execution_count": 67,
   "metadata": {},
   "outputs": [
    {
     "data": {
      "text/plain": [
       "13806-element Array{Any,1}:\n",
       " \"Sanal\"      \n",
       " \"parçacıklar\"\n",
       " \"sa\"         \n",
       " \"bunların\"   \n",
       " \"hiçbirini\"  \n",
       " \"yapamazlar\" \n",
       " \".\"          \n",
       " \"Ona\"        \n",
       " \"her\"        \n",
       " \"şeyimi\"     \n",
       " \"verdim\"     \n",
       " \"Karşısında\" \n",
       " \",\"          \n",
       " ⋮            \n",
       " \"imalatından\"\n",
       " \"olmuşlar\"   \n",
       " \"Geçici\"     \n",
       " \"tasarısı\"   \n",
       " \"sunuldu\"    \n",
       " \"peynirin\"   \n",
       " \"efsanesi\"   \n",
       " \"başbakan\"   \n",
       " \"düzenlemede\"\n",
       " \"getirecek\"  \n",
       " \"yetmişsekiz\"\n",
       " \"mesajı\"     "
      ]
     },
     "execution_count": 67,
     "metadata": {},
     "output_type": "execute_result"
    }
   ],
   "source": [
    "unq"
   ]
  },
  {
   "cell_type": "code",
   "execution_count": 68,
   "metadata": {},
   "outputs": [
    {
     "data": {
      "text/plain": [
       "'\\x00\\x00\\x00\\x11': Malformed UTF-8 (category Ma: Malformed, bad data)"
      ]
     },
     "execution_count": 68,
     "metadata": {},
     "output_type": "execute_result"
    }
   ],
   "source": [
    "v.unkchar"
   ]
  },
  {
   "cell_type": "code",
   "execution_count": 69,
   "metadata": {},
   "outputs": [
    {
     "data": {
      "text/plain": [
       "1"
      ]
     },
     "execution_count": 69,
     "metadata": {},
     "output_type": "execute_result"
    }
   ],
   "source": [
    "v.cdict[v.unkchar]"
   ]
  },
  {
   "cell_type": "code",
   "execution_count": 70,
   "metadata": {},
   "outputs": [
    {
     "data": {
      "text/plain": [
       "Dict{String,Int64} with 13808 entries:\n",
       "  \"çıkaramayacaklarını\" => 7805\n",
       "  \"apartmanın\"          => 13565\n",
       "  \"Güreş\"               => 2733\n",
       "  \"karıştı\"             => 1790\n",
       "  \"ikibin'de\"           => 7225\n",
       "  \"formülü\"             => 4676\n",
       "  \"ANAP'ı\"              => 4506\n",
       "  \"ihmal\"               => 5116\n",
       "  \"Virgülden\"           => 9483\n",
       "  \"il\"                  => 6725\n",
       "  \"devrimlerle\"         => 11077\n",
       "  \"Kıyı\"                => 11182\n",
       "  \"azla\"                => 8931\n",
       "  \"Duvarlarla\"          => 4778\n",
       "  \"tı\"                  => 1253\n",
       "  \"bağlamasını\"         => 10389\n",
       "  \"geçme\"               => 13795\n",
       "  \"geceye\"              => 6674\n",
       "  \"böyle\"               => 613\n",
       "  \"yasaklamanın\"        => 422\n",
       "  \"anlayışıyla\"         => 8282\n",
       "  \"yaklaştığını\"        => 12469\n",
       "  \"bakınır\"             => 9900\n",
       "  \"buruşturdu\"          => 9728\n",
       "  \"eritme\"              => 8462\n",
       "  ⋮                     => ⋮"
      ]
     },
     "execution_count": 70,
     "metadata": {},
     "output_type": "execute_result"
    }
   ],
   "source": [
    "v.idict"
   ]
  },
  {
   "cell_type": "code",
   "execution_count": 71,
   "metadata": {},
   "outputs": [
    {
     "data": {
      "text/plain": [
       "3-element Array{Int64,1}:\n",
       " 1\n",
       " 2\n",
       " 3"
      ]
     },
     "execution_count": 71,
     "metadata": {},
     "output_type": "execute_result"
    }
   ],
   "source": [
    "aaa = [1,2,3]"
   ]
  },
  {
   "cell_type": "code",
   "execution_count": 72,
   "metadata": {},
   "outputs": [
    {
     "data": {
      "text/plain": [
       "0-element Array{Int64,1}"
      ]
     },
     "execution_count": 72,
     "metadata": {},
     "output_type": "execute_result"
    }
   ],
   "source": [
    "don = empty!(aaa)"
   ]
  },
  {
   "cell_type": "code",
   "execution_count": 73,
   "metadata": {},
   "outputs": [
    {
     "data": {
      "text/plain": [
       "0-element Array{Int64,1}"
      ]
     },
     "execution_count": 73,
     "metadata": {},
     "output_type": "execute_result"
    }
   ],
   "source": [
    "don"
   ]
  },
  {
   "cell_type": "code",
   "execution_count": 74,
   "metadata": {
    "scrolled": true
   },
   "outputs": [
    {
     "data": {
      "text/plain": [
       "Dict{Char,Int64} with 122 entries:\n",
       "  '\\x00\\x00\\x00\\x42' => 37\n",
       "  '\\x00\\x00\\x20\\x1d' => 116\n",
       "  '\\x00\\x00\\x00\\x58' => 87\n",
       "  '\\x00\\x00\\x20\\x44' => 110\n",
       "  '\\x00\\x00\\x00\\x56' => 59\n",
       "  '\\x00\\x00\\x00\\xd7' => 107\n",
       "  '\\x00\\x00\\x00\\x48' => 29\n",
       "  '\\x00\\x00\\x00\\x75' => 5\n",
       "  '\\x00\\x00\\x00\\x50' => 11\n",
       "  '\\x00\\x00\\x00\\x7a' => 61\n",
       "  '\\x00\\x00\\x00\\x63' => 9\n",
       "  '\\x00\\x00\\x00\\x3b' => 93\n",
       "  '\\x00\\x00\\x00\\x7c' => 85\n",
       "  '\\x00\\x00\\x00\\x4a' => 60\n",
       "  '\\x00\\x00\\x00\\x21' => 83\n",
       "  '\\x00\\x00\\x00\\x6c' => 6\n",
       "  '\\x00\\x00\\x00\\x70' => 12\n",
       "  '\\x00\\x00\\x00\\xae' => 80\n",
       "  '\\x00\\x00\\x00\\x27' => 84\n",
       "  '\\x00\\x00\\x00\\x23' => 98\n",
       "  '\\x00\\x00\\x00\\x3d' => 71\n",
       "  '\\x00\\x00\\xd0\\xa5' => 122\n",
       "  '\\x00\\x00\\x00\\x2d' => 62\n",
       "  '\\x00\\x00\\x00\\x79' => 13\n",
       "  '\\x00\\x00\\x00\\x69' => 17\n",
       "  ⋮                  => ⋮"
      ]
     },
     "execution_count": 74,
     "metadata": {},
     "output_type": "execute_result"
    }
   ],
   "source": [
    "v.cdict"
   ]
  },
  {
   "cell_type": "code",
   "execution_count": 75,
   "metadata": {},
   "outputs": [
    {
     "data": {
      "text/plain": [
       "'¥': Unicode U+00a5 (category Sc: Symbol, currency)"
      ]
     },
     "execution_count": 75,
     "metadata": {},
     "output_type": "execute_result"
    }
   ],
   "source": [
    "Char(0xa5)"
   ]
  },
  {
   "cell_type": "code",
   "execution_count": 76,
   "metadata": {},
   "outputs": [
    {
     "data": {
      "text/plain": [
       "2"
      ]
     },
     "execution_count": 76,
     "metadata": {},
     "output_type": "execute_result"
    }
   ],
   "source": [
    "v.cdict[v.sowchar]"
   ]
  },
  {
   "cell_type": "code",
   "execution_count": 77,
   "metadata": {},
   "outputs": [
    {
     "ename": "LoadError",
     "evalue": "syntax: invalid character literal",
     "output_type": "error",
     "traceback": [
      "syntax: invalid character literal",
      ""
     ]
    }
   ],
   "source": [
    "malformed = '\\x00\\x00\\x00\\x2d'"
   ]
  },
  {
   "cell_type": "code",
   "execution_count": null,
   "metadata": {},
   "outputs": [],
   "source": []
  },
  {
   "cell_type": "code",
   "execution_count": 78,
   "metadata": {},
   "outputs": [
    {
     "name": "stdout",
     "output_type": "stream",
     "text": [
      "<s>\n",
      "</s>\n"
     ]
    }
   ],
   "source": [
    "for w in (v.sosword, v.eosword)\n",
    "    println(w)\n",
    "end"
   ]
  },
  {
   "cell_type": "code",
   "execution_count": 79,
   "metadata": {},
   "outputs": [
    {
     "data": {
      "text/plain": [
       "\"<s>\""
      ]
     },
     "execution_count": 79,
     "metadata": {},
     "output_type": "execute_result"
    }
   ],
   "source": [
    "w = v.sosword"
   ]
  },
  {
   "cell_type": "code",
   "execution_count": 80,
   "metadata": {},
   "outputs": [
    {
     "name": "stdout",
     "output_type": "stream",
     "text": [
      "<\n",
      "s\n",
      ">\n"
     ]
    }
   ],
   "source": [
    "for c in w\n",
    "  println(c)  \n",
    "end"
   ]
  },
  {
   "cell_type": "code",
   "execution_count": 81,
   "metadata": {
    "scrolled": true
   },
   "outputs": [
    {
     "data": {
      "text/plain": [
       "Dict{Char,Int64} with 122 entries:\n",
       "  '\\x00\\x00\\x00\\x42' => 37\n",
       "  '\\x00\\x00\\x20\\x1d' => 116\n",
       "  '\\x00\\x00\\x00\\x58' => 87\n",
       "  '\\x00\\x00\\x20\\x44' => 110\n",
       "  '\\x00\\x00\\x00\\x56' => 59\n",
       "  '\\x00\\x00\\x00\\xd7' => 107\n",
       "  '\\x00\\x00\\x00\\x48' => 29\n",
       "  '\\x00\\x00\\x00\\x75' => 5\n",
       "  '\\x00\\x00\\x00\\x50' => 11\n",
       "  '\\x00\\x00\\x00\\x7a' => 61\n",
       "  '\\x00\\x00\\x00\\x63' => 9\n",
       "  '\\x00\\x00\\x00\\x3b' => 93\n",
       "  '\\x00\\x00\\x00\\x7c' => 85\n",
       "  '\\x00\\x00\\x00\\x4a' => 60\n",
       "  '\\x00\\x00\\x00\\x21' => 83\n",
       "  '\\x00\\x00\\x00\\x6c' => 6\n",
       "  '\\x00\\x00\\x00\\x70' => 12\n",
       "  '\\x00\\x00\\x00\\xae' => 80\n",
       "  '\\x00\\x00\\x00\\x27' => 84\n",
       "  '\\x00\\x00\\x00\\x23' => 98\n",
       "  '\\x00\\x00\\x00\\x3d' => 71\n",
       "  '\\x00\\x00\\xd0\\xa5' => 122\n",
       "  '\\x00\\x00\\x00\\x2d' => 62\n",
       "  '\\x00\\x00\\x00\\x79' => 13\n",
       "  '\\x00\\x00\\x00\\x69' => 17\n",
       "  ⋮                  => ⋮"
      ]
     },
     "execution_count": 81,
     "metadata": {},
     "output_type": "execute_result"
    }
   ],
   "source": [
    "v.cdict"
   ]
  },
  {
   "cell_type": "code",
   "execution_count": 82,
   "metadata": {},
   "outputs": [
    {
     "ename": "LoadError",
     "evalue": "syntax: invalid character literal",
     "output_type": "error",
     "traceback": [
      "syntax: invalid character literal",
      ""
     ]
    }
   ],
   "source": [
    "get(v.cdict, '\\x00\\x00\\x00\\x42', 1)"
   ]
  },
  {
   "cell_type": "code",
   "execution_count": 83,
   "metadata": {},
   "outputs": [
    {
     "ename": "LoadError",
     "evalue": "syntax: invalid character literal",
     "output_type": "error",
     "traceback": [
      "syntax: invalid character literal",
      ""
     ]
    }
   ],
   "source": [
    "typeof('\\x00\\x00\\x00\\x42')"
   ]
  },
  {
   "cell_type": "code",
   "execution_count": 84,
   "metadata": {},
   "outputs": [
    {
     "data": {
      "text/plain": [
       "Dict{Char,Int64} with 122 entries:\n",
       "  '\\x00\\x00\\x00\\x42' => 37\n",
       "  '\\x00\\x00\\x20\\x1d' => 116\n",
       "  '\\x00\\x00\\x00\\x58' => 87\n",
       "  '\\x00\\x00\\x20\\x44' => 110\n",
       "  '\\x00\\x00\\x00\\x56' => 59\n",
       "  '\\x00\\x00\\x00\\xd7' => 107\n",
       "  '\\x00\\x00\\x00\\x48' => 29\n",
       "  '\\x00\\x00\\x00\\x75' => 5\n",
       "  '\\x00\\x00\\x00\\x50' => 11\n",
       "  '\\x00\\x00\\x00\\x7a' => 61\n",
       "  '\\x00\\x00\\x00\\x63' => 9\n",
       "  '\\x00\\x00\\x00\\x3b' => 93\n",
       "  '\\x00\\x00\\x00\\x7c' => 85\n",
       "  '\\x00\\x00\\x00\\x4a' => 60\n",
       "  '\\x00\\x00\\x00\\x21' => 83\n",
       "  '\\x00\\x00\\x00\\x6c' => 6\n",
       "  '\\x00\\x00\\x00\\x70' => 12\n",
       "  '\\x00\\x00\\x00\\xae' => 80\n",
       "  '\\x00\\x00\\x00\\x27' => 84\n",
       "  '\\x00\\x00\\x00\\x23' => 98\n",
       "  '\\x00\\x00\\x00\\x3d' => 71\n",
       "  '\\x00\\x00\\xd0\\xa5' => 122\n",
       "  '\\x00\\x00\\x00\\x2d' => 62\n",
       "  '\\x00\\x00\\x00\\x79' => 13\n",
       "  '\\x00\\x00\\x00\\x69' => 17\n",
       "  ⋮                  => ⋮"
      ]
     },
     "execution_count": 84,
     "metadata": {},
     "output_type": "execute_result"
    }
   ],
   "source": [
    "v.cdict"
   ]
  },
  {
   "cell_type": "code",
   "execution_count": 85,
   "metadata": {},
   "outputs": [
    {
     "ename": "KeyError",
     "evalue": "KeyError: key \"char_vocab\" not found",
     "output_type": "error",
     "traceback": [
      "KeyError: key \"char_vocab\" not found",
      "",
      "Stacktrace:",
      " [1] getindex(::Dict{String,Any}, ::String) at ./dict.jl:478",
      " [2] top-level scope at In[85]:1"
     ]
    }
   ],
   "source": []
  },
  {
   "cell_type": "code",
   "execution_count": null,
   "metadata": {},
   "outputs": [],
   "source": []
  }
 ],
 "metadata": {
  "kernelspec": {
   "display_name": "Julia 1.1.0",
   "language": "julia",
   "name": "julia-1.1"
  },
  "language_info": {
   "file_extension": ".jl",
   "mimetype": "application/julia",
   "name": "julia",
   "version": "1.1.0"
  }
 },
 "nbformat": 4,
 "nbformat_minor": 2
}
