{
 "cells": [
  {
   "cell_type": "code",
   "execution_count": 1,
   "metadata": {
    "scrolled": false
   },
   "outputs": [],
   "source": [
    "using JLD,JLD2,Knet\n",
    "using Base.Iterators: flatten"
   ]
  },
  {
   "cell_type": "code",
   "execution_count": 2,
   "metadata": {},
   "outputs": [
    {
     "name": "stderr",
     "output_type": "stream",
     "text": [
      "WARNING: redefining constant UPOSTAG\n",
      "WARNING: redefining constant XPOSTAG\n",
      "WARNING: redefining constant FEATS\n",
      "WARNING: redefining constant UDEPREL\n"
     ]
    },
    {
     "data": {
      "text/plain": [
       "fillvecs! (generic function with 1 method)"
      ]
     },
     "execution_count": 2,
     "metadata": {},
     "output_type": "execute_result"
    }
   ],
   "source": [
    "include(\"types.jl\")\n",
    "include(\"pre_processing.jl\")\n",
    "include(\"encoder_utils.jl\")"
   ]
  },
  {
   "cell_type": "code",
   "execution_count": 3,
   "metadata": {},
   "outputs": [
    {
     "name": "stderr",
     "output_type": "stream",
     "text": [
      "┌ Warning: `getval` is deprecated, use `value` instead.\n",
      "│   caller = #lmloss#18(::Array{Float64,1}, ::Function, ::Array{Array{Float32,2},1}, ::Array{Array{Int64,1},1}, ::Array{Array{Float32,1},1}, ::Array{Any,1}, ::Array{Any,1}) at encoder_utils.jl:59\n",
      "└ @ Main /home/ilayda/GBDP/encoder_utils.jl:59\n"
     ]
    }
   ],
   "source": [
    "d = JLD.load(\"pretrained_model.jld2\")\n",
    "v = create_vocab(d)\n",
    "corpus = load_conllu(\"tr_imst-ud-train.conllu\",v)\n",
    "wmodel = makewmodel(d)\n",
    "fillvecs!(wmodel, corpus, v)"
   ]
  },
  {
   "cell_type": "code",
   "execution_count": 4,
   "metadata": {},
   "outputs": [
    {
     "data": {
      "text/plain": [
       "3685-element Array{Any,1}:\n",
       " Sanal parçacıklar sa bunların hiçbirini yapamazlar .                                                                                                                                                                                                                   \n",
       " Ona her şeyimi verdim .                                                                                                                                                                                                                                                \n",
       " Karşısında , pantolonu dizlerine dek ıslak , önlük torbası ham eriklerle dolu İbrahim dikiliyordu .                                                                                                                                                                    \n",
       " Nereden biliyorsunuz .                                                                                                                                                                                                                                                 \n",
       " Aradığımı Buldum Sandım .                                                                                                                                                                                                                                              \n",
       " Kahveleri bende içelim .                                                                                                                                                                                                                                               \n",
       " Ne diyeceğimi bilemedim .                                                                                                                                                                                                                                              \n",
       " Kanamıyordu ...                                                                                                                                                                                                                                                        \n",
       " Süpürgen nerede .                                                                                                                                                                                                                                                      \n",
       " Bir taksi bulduk .                                                                                                                                                                                                                                                     \n",
       " Mebrure birden heyecanlanmıştı .                                                                                                                                                                                                                                       \n",
       " \" Burada ki üst düzey görüşmelerimizde turizm için ellerinden geleni yapacaklarını söylediler .                                                                                                                                                                        \n",
       " Gel bak , sana evi göstereyim .                                                                                                                                                                                                                                        \n",
       " ⋮                                                                                                                                                                                                                                                                      \n",
       " - Bu senin şalın mış .                                                                                                                                                                                                                                                 \n",
       " Bu kuruluşların ciro büyüklüklerine göre yaklaşık elli trilyon luk bir gelir sağlanacak .                                                                                                                                                                              \n",
       " Bartın gecesinden soğuk bir yel esmeye başlamıştı .                                                                                                                                                                                                                    \n",
       " Yerleştir yerleştirme , devşir devşirme sınavları falan filan yok ...                                                                                                                                                                                                  \n",
       " Rolü başkasına verdik dediler .                                                                                                                                                                                                                                        \n",
       " Derken , ev sahibi beyan değiştiriyor .                                                                                                                                                                                                                                \n",
       " MART'I BEKLİYORLARDI .                                                                                                                                                                                                                                                 \n",
       " Almanya'dan parlamento heyeti gelmiş .                                                                                                                                                                                                                                 \n",
       " Üç ocak lı demirci dükkanı deyip geçme , fayton imalatından zengin bile olmuşlar .                                                                                                                                                                                     \n",
       " Geçici bütçe tasarısı , Meclis'e sunuldu .                                                                                                                                                                                                                             \n",
       " Oysa , beyaz peynirin böyle bir efsanesi olsa .                                                                                                                                                                                                                        \n",
       " Erdoğan'ın milletvekili ve başbakan olmasını sağlayacak düzenlemede , Sezer'in karşı çıktığı , doğrudan başbakanlık getirecek yüzdokuz . madde yerine ara seçimi düzenleyen yetmişsekiz . madde üzerinde değişiklik yapacaklarını belirten Şahin , şu mesajı verdi : . "
      ]
     },
     "execution_count": 4,
     "metadata": {},
     "output_type": "execute_result"
    }
   ],
   "source": [
    "corpus"
   ]
  },
  {
   "cell_type": "code",
   "execution_count": 5,
   "metadata": {},
   "outputs": [
    {
     "data": {
      "text/plain": [
       "Sanal parçacıklar sa bunların hiçbirini yapamazlar . "
      ]
     },
     "execution_count": 5,
     "metadata": {},
     "output_type": "execute_result"
    }
   ],
   "source": [
    "s = corpus[1]"
   ]
  },
  {
   "cell_type": "code",
   "execution_count": 6,
   "metadata": {},
   "outputs": [
    {
     "data": {
      "text/plain": [
       "ExtendedVocab(Dict(\"Abr\"=>26,\"PCNom\"=>18,\"Dup\"=>27,\"PCIns\"=>30,\"Since\"=>32,\"Postp\"=>31,\"Interj\"=>24,\"Ques\"=>14,\"Demons\"=>5,\"NAdj\"=>11…), Dict(\"VerbForm=Vnoun\"=>43,\"Person=3\"=>4,\"Case=Acc\"=>11,\"Number=Sing\"=>7,\"Mood=Nec\"=>54,\"Aspect=Prog\"=>27,\"Person[psor]=3\"=>13,\"VerbForm=Conv\"=>44,\"Aspect=Hab\"=>15,\"Voice=CauPass\"=>46…), Vocab(Dict('\\x00\\x00\\x00\\x42'=>37,'\\x00\\x00\\x20\\x1d'=>116,'\\x00\\x00\\x00\\x58'=>87,'\\x00\\x00\\x20\\x44'=>110,'\\x00\\x00\\x00\\x56'=>59,'\\x00\\x00\\x00\\xd7'=>107,'\\x00\\x00\\x00\\x48'=>29,'\\x00\\x00\\x00\\x75'=>5,'\\x00\\x00\\x00\\x50'=>11,'\\x00\\x00\\x00\\x7a'=>61…), Dict(\"çıkaramayacaklarını\"=>7805,\"apartmanın\"=>13565,\"Güreş\"=>2733,\"karıştı\"=>1790,\"ikibin'de\"=>7225,\"formülü\"=>4676,\"ANAP'ı\"=>4506,\"ihmal\"=>5116,\"Virgülden\"=>9483,\"il\"=>6725…), Dict(\"null\"=>8668,\"Secure\"=>7932,\"Puppy\"=>9040,\"progression\"=>11757,\"gathered\"=>6954,\"Core\"=>3600,\"lovers\"=>8832,\"underground\"=>9093,\"backup\"=>5047,\"caught\"=>2501…), \"<s>\", \"</s>\", \"<unk>\", '\\x00\\x00\\x00\\x12', '\\x00\\x00\\x00\\x13', '\\x00\\x00\\x00\\x11', Dict(\"NUM\"=>0x09,\"DET\"=>0x06,\"X\"=>0x11,\"VERB\"=>0x10,\"PROPN\"=>0x0c,\"ADV\"=>0x03,\"ADJ\"=>0x01,\"AUX\"=>0x04,\"PUNCT\"=>0x0d,\"PRON\"=>0x0b…), Dict(\"reparandum\"=>0x23,\"root\"=>0x01,\"vocative\"=>0x24,\"csubj\"=>0x0f,\"advmod\"=>0x04,\"expl\"=>0x14,\"iobj\"=>0x18,\"mark\"=>0x1a,\"advcl\"=>0x03,\"nmod\"=>0x1b…)))"
      ]
     },
     "execution_count": 6,
     "metadata": {},
     "output_type": "execute_result"
    }
   ],
   "source": [
    "ev = extend_vocab!(v, corpus)"
   ]
  },
  {
   "cell_type": "code",
   "execution_count": 7,
   "metadata": {
    "collapsed": true
   },
   "outputs": [],
   "source": [
    "createfeatvec!(corpus)"
   ]
  },
  {
   "cell_type": "code",
   "execution_count": 8,
   "metadata": {
    "collapsed": true
   },
   "outputs": [],
   "source": [
    "padfeatvec!(corpus)"
   ]
  },
  {
   "cell_type": "code",
   "execution_count": 9,
   "metadata": {},
   "outputs": [
    {
     "data": {
      "text/plain": [
       "mlp (generic function with 1 method)"
      ]
     },
     "execution_count": 9,
     "metadata": {},
     "output_type": "execute_result"
    }
   ],
   "source": [
    "function mlp(w,x)\n",
    "    for i=1:2:length(w)-2\n",
    "        x = relu.(w[i]*x .+ w[i+1])\n",
    "    end\n",
    "    return w[end-1]*x .+ w[end]\n",
    "end"
   ]
  },
  {
   "cell_type": "code",
   "execution_count": 10,
   "metadata": {},
   "outputs": [
    {
     "data": {
      "text/plain": [
       "create_input_matrix (generic function with 1 method)"
      ]
     },
     "execution_count": 10,
     "metadata": {},
     "output_type": "execute_result"
    }
   ],
   "source": [
    "function create_input_matrix(corpus)\n",
    "    input = []\n",
    "    for i in 1:length(corpus)\n",
    "        for j in 1:length(corpus[i].word)\n",
    "            push!(input,corpus[i].cavec[j])\n",
    "        end\n",
    "    end\n",
    "    return transpose(hcat(input...))\n",
    "end"
   ]
  },
  {
   "cell_type": "code",
   "execution_count": 11,
   "metadata": {},
   "outputs": [
    {
     "data": {
      "text/plain": [
       "37918×965 LinearAlgebra.Transpose{Real,Array{Real,2}}:\n",
       " -1.26117e-44  -0.00206863   -0.348087   …   0   0   0   0   0  0  0  0  0  0\n",
       " -0.0          -0.000105809  -0.999725       0   0   0   0   0  0  0  0  0  0\n",
       " -1.43166e-26  -0.96306      -0.891741       4   8   0   0   0  0  0  0  0  0\n",
       " -0.0          -0.0692767     0.126127      10   0   0   0   0  0  0  0  0  0\n",
       " -0.0          -0.000671956  -0.999997       4  13  14   0   0  0  0  0  0  0\n",
       " -0.0          -0.0170195    -0.99987    …   4  17   8   0   0  0  0  0  0  0\n",
       " -4.85072e-15   0.631611      0.73056        0   0   0   0   0  0  0  0  0  0\n",
       " -2.69957e-40  -0.994933     -0.779651      19   0   0   0   0  0  0  0  0  0\n",
       " -2.69957e-40  -0.994933     -0.779651       0   0   0   0   0  0  0  0  0  0\n",
       " -0.0          -0.00137349   -0.944697       4  20   0   0   0  0  0  0  0  0\n",
       " -0.0          -0.00137349   -0.944697   …  22  23  24   0   0  0  0  0  0  0\n",
       " -4.85072e-15   0.631611      0.73056        0   0   0   0   0  0  0  0  0  0\n",
       " -0.0          -0.0170195    -0.99987        4  13   0   0   0  0  0  0  0  0\n",
       "  ⋮                                      ⋱   ⋮                  ⋮            \n",
       " -1.26117e-44  -0.00206863   -0.348087       0   0   0   0   0  0  0  0  0  0\n",
       " -0.0          -0.0692767     0.126127       4  13   0   0   0  0  0  0  0  0\n",
       " -0.0          -0.0170195    -0.99987        0   0   0   0   0  0  0  0  0  0\n",
       " -0.0          -2.97675e-5    0.0428736     37  13  23  33  31  0  0  0  0  0\n",
       " -0.0          -0.0692767     0.126127   …   8  31  45   0   0  0  0  0  0  0\n",
       " -1.26117e-44  -0.00206863   -0.348087       0   0   0   0   0  0  0  0  0  0\n",
       " -4.85072e-15   0.631611      0.73056        0   0   0   0   0  0  0  0  0  0\n",
       " -1.43166e-26  -0.96306      -0.891741       0   0   0   0   0  0  0  0  0  0\n",
       " -0.0          -0.00137349   -0.944697       0   0   0   0   0  0  0  0  0  0\n",
       " -1.26117e-44  -0.00206863   -0.348087   …   4  23  24   0   0  0  0  0  0  0\n",
       " -4.85072e-15   0.631611      0.73056        0   0   0   0   0  0  0  0  0  0\n",
       " -4.85072e-15   0.631611      0.73056        0   0   0   0   0  0  0  0  0  0"
      ]
     },
     "execution_count": 11,
     "metadata": {},
     "output_type": "execute_result"
    }
   ],
   "source": [
    "input = create_input_matrix(corpus)"
   ]
  },
  {
   "cell_type": "code",
   "execution_count": 12,
   "metadata": {},
   "outputs": [
    {
     "data": {
      "text/plain": [
       "findmaxnumofwords (generic function with 1 method)"
      ]
     },
     "execution_count": 12,
     "metadata": {},
     "output_type": "execute_result"
    }
   ],
   "source": [
    "function findmaxnumofwords(corpus)\n",
    "    max_ = 0\n",
    "    for i in 1:length(corpus)\n",
    "        if length(corpus[i].word) > max_\n",
    "            max_ = length(corpus[i].word)\n",
    "        end\n",
    "    end\n",
    "    return max_\n",
    "end"
   ]
  },
  {
   "cell_type": "code",
   "execution_count": 13,
   "metadata": {},
   "outputs": [
    {
     "data": {
      "text/plain": [
       "37"
      ]
     },
     "execution_count": 13,
     "metadata": {},
     "output_type": "execute_result"
    }
   ],
   "source": [
    "totalnumofwords = size(input,1)\n",
    "totalnumoffeatures = size(input,2)\n",
    "#max number of words that can be head in a sentence, number of columns for head output\n",
    "numofhead = findmaxnumofwords(corpus)\n",
    "\n",
    "numofdeprel = length(keys(UDEPREL))"
   ]
  },
  {
   "cell_type": "code",
   "execution_count": 14,
   "metadata": {},
   "outputs": [
    {
     "data": {
      "text/plain": [
       "37918"
      ]
     },
     "execution_count": 14,
     "metadata": {},
     "output_type": "execute_result"
    }
   ],
   "source": [
    "totalnumofwords"
   ]
  },
  {
   "cell_type": "code",
   "execution_count": 15,
   "metadata": {},
   "outputs": [
    {
     "data": {
      "text/plain": [
       "Linear([-0.011069 0.020075 … -0.00774068 0.0071282; 0.0119896 0.0233192 … 0.00423888 -0.0169738; … ; 0.00562591 0.0054656 … -0.0115236 -0.0054924; -0.00639511 0.0140415 … -0.00637549 0.0115399], [0.0, 0.0, 0.0, 0.0, 0.0, 0.0, 0.0, 0.0, 0.0, 0.0  …  0.0, 0.0, 0.0, 0.0, 0.0, 0.0, 0.0, 0.0, 0.0, 0.0])"
      ]
     },
     "execution_count": 15,
     "metadata": {},
     "output_type": "execute_result"
    }
   ],
   "source": [
    "struct Linear; w; b; end\n",
    "Linear(i::Int,o::Int,scale=0.01) = Linear(scale * randn(o,i), zeros(o))\n",
    "batchsize = totalnumoffeatures\n",
    "# This one allows instances to be defined using input and output sizes:\n",
    "model_head = Linear(totalnumoffeatures,numofhead)"
   ]
  },
  {
   "cell_type": "code",
   "execution_count": 16,
   "metadata": {},
   "outputs": [
    {
     "data": {
      "text/plain": [
       "createoutputheadmatrix (generic function with 1 method)"
      ]
     },
     "execution_count": 16,
     "metadata": {},
     "output_type": "execute_result"
    }
   ],
   "source": [
    "function createoutputheadmatrix(corpus)\n",
    "    outputhead = []\n",
    "    for i in 1:length(corpus)\n",
    "        push!(outputhead, corpus[i].head)\n",
    "    end\n",
    "    return vcat(outputhead...)\n",
    "end"
   ]
  },
  {
   "cell_type": "code",
   "execution_count": 17,
   "metadata": {},
   "outputs": [
    {
     "data": {
      "text/plain": [
       "37918-element Array{Int16,1}:\n",
       "  2\n",
       "  6\n",
       "  2\n",
       "  5\n",
       "  6\n",
       "  0\n",
       "  6\n",
       "  4\n",
       "  4\n",
       "  2\n",
       "  0\n",
       "  4\n",
       " 14\n",
       "  ⋮\n",
       " 23\n",
       " 27\n",
       " 29\n",
       " 27\n",
       " 30\n",
       " 33\n",
       " 33\n",
       " 33\n",
       "  0\n",
       " 33\n",
       " 33\n",
       " 33"
      ]
     },
     "execution_count": 17,
     "metadata": {},
     "output_type": "execute_result"
    }
   ],
   "source": [
    "outputhead = createoutputheadmatrix(corpus)"
   ]
  },
  {
   "cell_type": "code",
   "execution_count": 18,
   "metadata": {
    "collapsed": true
   },
   "outputs": [],
   "source": [
    "(m::Linear)(x) = m.w * x  .+ m.b"
   ]
  },
  {
   "cell_type": "code",
   "execution_count": 19,
   "metadata": {},
   "outputs": [
    {
     "data": {
      "text/plain": [
       "57×37918 Array{Float64,2}:\n",
       "  0.0487514    0.172209     0.176784   …   0.189082     0.206849  \n",
       "  0.0297051    0.0786793   -0.171697       0.1964       0.2191    \n",
       " -0.0556483   -0.107392    -0.0266461      0.0382266    0.050543  \n",
       " -0.0767017   -0.102559    -0.12744       -0.0620159   -0.0648712 \n",
       " -0.145578    -0.0964007   -0.225958      -0.213302    -0.202106  \n",
       "  0.0222121   -0.0861415   -0.100643   …  -0.0222819   -0.0210301 \n",
       " -0.0661469   -0.0832804   -0.323503      -0.483773    -0.498799  \n",
       " -0.0149115    0.0639541    0.0715107      0.0989472    0.101329  \n",
       " -0.177335    -0.192154    -0.189258       0.0138225    0.00958456\n",
       "  0.0191917   -0.0464829   -0.27806       -0.0291775   -0.0259536 \n",
       "  0.0858667    0.16703      0.0398327  …  -0.127651    -0.10206   \n",
       "  0.00556456   0.13023      0.15102       -0.111653    -0.0878171 \n",
       "  0.0467678    0.144115     0.333738      -0.0494457   -0.00878315\n",
       "  ⋮                                    ⋱                          \n",
       "  0.0985541   -0.0276165   -0.0759283  …  -0.0538149   -0.0689175 \n",
       "  0.0402608    0.208442     0.252951       0.0358621    0.0700416 \n",
       " -0.00663817   0.0354262    0.226646      -0.00131407   0.0199268 \n",
       " -0.0885077   -0.0497425   -0.093245      -0.227567    -0.205616  \n",
       "  0.0508939   -0.160437    -0.231303      -0.0860777   -0.100909  \n",
       " -0.0122733   -0.00433462   0.0324422  …   0.182892     0.163023  \n",
       "  0.0664362    0.199237     0.228095       0.221053     0.220477  \n",
       " -0.111876     0.0872634    0.233795      -0.201048    -0.200928  \n",
       "  0.0709203    0.112059    -0.0396839      0.141373     0.139094  \n",
       " -0.0146786   -0.105286    -0.0486372     -0.148596    -0.126573  \n",
       "  0.0266762    0.158654     0.155132   …   0.192648     0.229243  \n",
       "  0.0038385   -0.0560609    0.0488734      0.0818823    0.0615595 "
      ]
     },
     "execution_count": 19,
     "metadata": {},
     "output_type": "execute_result"
    }
   ],
   "source": [
    "ypred = model_head(transpose(input))"
   ]
  },
  {
   "cell_type": "code",
   "execution_count": 20,
   "metadata": {},
   "outputs": [
    {
     "data": {
      "text/plain": [
       "0.00925681734268685"
      ]
     },
     "execution_count": 20,
     "metadata": {},
     "output_type": "execute_result"
    }
   ],
   "source": [
    "accuracy(model_head,transpose(input),outputhead)"
   ]
  },
  {
   "cell_type": "code",
   "execution_count": 21,
   "metadata": {},
   "outputs": [
    {
     "data": {
      "text/plain": [
       "nll (generic function with 1 method)"
      ]
     },
     "execution_count": 21,
     "metadata": {},
     "output_type": "execute_result"
    }
   ],
   "source": [
    "function nll(scores, y)\n",
    "    expscores = exp.(scores)\n",
    "    probabilities = expscores ./ sum(expscores, dims=1)\n",
    "    answerprobs = (probabilities[y[i],i] for i in 1:length(y))\n",
    "    mean(-log.(answerprobs))\n",
    "end"
   ]
  },
  {
   "cell_type": "code",
   "execution_count": 22,
   "metadata": {},
   "outputs": [
    {
     "data": {
      "text/plain": [
       "4.139774876550762"
      ]
     },
     "execution_count": 22,
     "metadata": {},
     "output_type": "execute_result"
    }
   ],
   "source": [
    "(m::Linear)(x, y) = Knet.nll(m(x), y)\n",
    "model_head(transpose(input),outputhead)"
   ]
  },
  {
   "cell_type": "code",
   "execution_count": 23,
   "metadata": {},
   "outputs": [
    {
     "data": {
      "text/plain": [
       "Dict{Char,Int64} with 122 entries:\n",
       "  '\\x00\\x00\\x00\\x42' => 37\n",
       "  '\\x00\\x00\\x20\\x1d' => 116\n",
       "  '\\x00\\x00\\x00\\x58' => 87\n",
       "  '\\x00\\x00\\x20\\x44' => 110\n",
       "  '\\x00\\x00\\x00\\x56' => 59\n",
       "  '\\x00\\x00\\x00\\xd7' => 107\n",
       "  '\\x00\\x00\\x00\\x48' => 29\n",
       "  '\\x00\\x00\\x00\\x75' => 5\n",
       "  '\\x00\\x00\\x00\\x50' => 11\n",
       "  '\\x00\\x00\\x00\\x7a' => 61\n",
       "  '\\x00\\x00\\x00\\x63' => 9\n",
       "  '\\x00\\x00\\x00\\x3b' => 93\n",
       "  '\\x00\\x00\\x00\\x7c' => 85\n",
       "  '\\x00\\x00\\x00\\x4a' => 60\n",
       "  '\\x00\\x00\\x00\\x21' => 83\n",
       "  '\\x00\\x00\\x00\\x6c' => 6\n",
       "  '\\x00\\x00\\x00\\x70' => 12\n",
       "  '\\x00\\x00\\x00\\xae' => 80\n",
       "  '\\x00\\x00\\x00\\x27' => 84\n",
       "  '\\x00\\x00\\x00\\x23' => 98\n",
       "  '\\x00\\x00\\x00\\x3d' => 71\n",
       "  '\\x00\\x00\\xd0\\xa5' => 122\n",
       "  '\\x00\\x00\\x00\\x2d' => 62\n",
       "  '\\x00\\x00\\x00\\x79' => 13\n",
       "  '\\x00\\x00\\x00\\x69' => 17\n",
       "  ⋮                  => ⋮"
      ]
     },
     "execution_count": 23,
     "metadata": {},
     "output_type": "execute_result"
    }
   ],
   "source": [
    "v.cdict"
   ]
  },
  {
   "cell_type": "code",
   "execution_count": 24,
   "metadata": {},
   "outputs": [
    {
     "data": {
      "text/plain": [
       "'i': ASCII/Unicode U+0069 (category Ll: Letter, lowercase)"
      ]
     },
     "execution_count": 24,
     "metadata": {},
     "output_type": "execute_result"
    }
   ],
   "source": [
    "a ='i'"
   ]
  },
  {
   "cell_type": "code",
   "execution_count": 25,
   "metadata": {},
   "outputs": [
    {
     "data": {
      "text/plain": [
       "'i': ASCII/Unicode U+0069 (category Ll: Letter, lowercase)"
      ]
     },
     "execution_count": 25,
     "metadata": {},
     "output_type": "execute_result"
    }
   ],
   "source": [
    "a"
   ]
  },
  {
   "cell_type": "code",
   "execution_count": 26,
   "metadata": {},
   "outputs": [
    {
     "ename": "LoadError",
     "evalue": "syntax: invalid character literal",
     "output_type": "error",
     "traceback": [
      "syntax: invalid character literal",
      ""
     ]
    }
   ],
   "source": [
    "'\\x00\\x00\\x00\\x69'"
   ]
  },
  {
   "cell_type": "code",
   "execution_count": 27,
   "metadata": {},
   "outputs": [
    {
     "data": {
      "text/plain": [
       "'\\x00\\x00\\x00\\x12': Malformed UTF-8 (category Ma: Malformed, bad data)"
      ]
     },
     "execution_count": 27,
     "metadata": {},
     "output_type": "execute_result"
    }
   ],
   "source": [
    "v.sowchar"
   ]
  },
  {
   "cell_type": "code",
   "execution_count": 28,
   "metadata": {},
   "outputs": [
    {
     "data": {
      "text/plain": [
       "Dict{String,Int64} with 13808 entries:\n",
       "  \"çıkaramayacaklarını\" => 7805\n",
       "  \"apartmanın\"          => 13565\n",
       "  \"Güreş\"               => 2733\n",
       "  \"karıştı\"             => 1790\n",
       "  \"ikibin'de\"           => 7225\n",
       "  \"formülü\"             => 4676\n",
       "  \"ANAP'ı\"              => 4506\n",
       "  \"ihmal\"               => 5116\n",
       "  \"Virgülden\"           => 9483\n",
       "  \"il\"                  => 6725\n",
       "  \"devrimlerle\"         => 11077\n",
       "  \"Kıyı\"                => 11182\n",
       "  \"azla\"                => 8931\n",
       "  \"Duvarlarla\"          => 4778\n",
       "  \"tı\"                  => 1253\n",
       "  \"bağlamasını\"         => 10389\n",
       "  \"geçme\"               => 13795\n",
       "  \"geceye\"              => 6674\n",
       "  \"böyle\"               => 613\n",
       "  \"yasaklamanın\"        => 422\n",
       "  \"anlayışıyla\"         => 8282\n",
       "  \"yaklaştığını\"        => 12469\n",
       "  \"bakınır\"             => 9900\n",
       "  \"buruşturdu\"          => 9728\n",
       "  \"eritme\"              => 8462\n",
       "  ⋮                     => ⋮"
      ]
     },
     "execution_count": 28,
     "metadata": {},
     "output_type": "execute_result"
    }
   ],
   "source": [
    "v.idict"
   ]
  },
  {
   "cell_type": "code",
   "execution_count": null,
   "metadata": {
    "collapsed": true
   },
   "outputs": [],
   "source": []
  }
 ],
 "metadata": {
  "kernelspec": {
   "display_name": "Julia 1.1.0",
   "language": "julia",
   "name": "julia-1.1"
  },
  "language_info": {
   "file_extension": ".jl",
   "mimetype": "application/julia",
   "name": "julia",
   "version": "1.1.0"
  }
 },
 "nbformat": 4,
 "nbformat_minor": 2
}
