{
 "cells": [
  {
   "cell_type": "code",
   "execution_count": 1,
   "metadata": {},
   "outputs": [
    {
     "data": {
      "text/plain": [
       "MersenneTwister(UInt32[0x00000005], Random.DSFMT.DSFMT_state(Int32[-85655800, 1072952617, -522203688, 1073721902, 1588056292, 1072823262, 1930843968, 1073164255, -719121749, 1073022455  …  647343590, 1073165527, 1405924594, 1072769931, 1969171087, 42945320, -226019479, -1469955508, 382, 0]), [0.0, 0.0, 0.0, 0.0, 0.0, 0.0, 0.0, 0.0, 0.0, 0.0  …  0.0, 0.0, 0.0, 0.0, 0.0, 0.0, 0.0, 0.0, 0.0, 0.0], UInt128[0x00000000000000000000000000000000, 0x00000000000000000000000000000000, 0x00000000000000000000000000000000, 0x00000000000000000000000000000000, 0x00000000000000000000000000000000, 0x00000000000000000000000000000000, 0x00000000000000000000000000000000, 0x00000000000000000000000000000000, 0x00000000000000000000000000000000, 0x00000000000000000000000000000000  …  0x00000000000000000000000000000000, 0x00000000000000000000000000000000, 0x00000000000000000000000000000000, 0x00000000000000000000000000000000, 0x00000000000000000000000000000000, 0x00000000000000000000000000000000, 0x00000000000000000000000000000000, 0x00000000000000000000000000000000, 0x00000000000000000000000000000000, 0x00000000000000000000000000000000], 1002, 0)"
      ]
     },
     "execution_count": 1,
     "metadata": {},
     "output_type": "execute_result"
    }
   ],
   "source": [
    "using JLD,JLD2,Knet\n",
    "using Base.Iterators: flatten\n",
    "using Random, Distributions\n",
    "Random.seed!(5)"
   ]
  },
  {
   "cell_type": "code",
   "execution_count": 2,
   "metadata": {},
   "outputs": [
    {
     "name": "stderr",
     "output_type": "stream",
     "text": [
      "WARNING: redefining constant UPOSTAG\n",
      "WARNING: redefining constant XPOSTAG\n",
      "WARNING: redefining constant FEATS\n",
      "WARNING: redefining constant UDEPREL\n"
     ]
    },
    {
     "data": {
      "text/plain": [
       "collectygold (generic function with 1 method)"
      ]
     },
     "execution_count": 2,
     "metadata": {},
     "output_type": "execute_result"
    }
   ],
   "source": [
    "include(\"types.jl\")\n",
    "include(\"pre_processing.jl\")\n",
    "include(\"encoder_utils.jl\")\n",
    "include(\"decoder_utils.jl\")"
   ]
  },
  {
   "cell_type": "code",
   "execution_count": 3,
   "metadata": {
    "scrolled": true
   },
   "outputs": [
    {
     "data": {
      "text/plain": [
       "'\\x13': ASCII/Unicode U+0013 (category Cc: Other, control)"
      ]
     },
     "execution_count": 3,
     "metadata": {},
     "output_type": "execute_result"
    }
   ],
   "source": [
    "d = JLD.load(\"english_chmodel3.jld2\")\n",
    "d[\"new_d2\"][\"unkchar\"] = Char(0x11)\n",
    "d[\"new_d2\"][\"sowchar\"] = Char(0x12)\n",
    "d[\"new_d2\"][\"eowchar\"] = Char(0x13)"
   ]
  },
  {
   "cell_type": "code",
   "execution_count": 4,
   "metadata": {},
   "outputs": [
    {
     "data": {
      "text/plain": [
       "9-element Array{KnetArray{Float32,2},1}:\n",
       " KFloat32[0.593419 0.190279 … 0.11003 -0.000173569; -0.236287 0.455614 … 0.138825 -0.0971059; … ; -0.341316 0.0835031 … -0.0285478 -0.0718531; -0.205958 -0.168918 … -0.13226 -0.0319474]\n",
       " KFloat32[0.0708071 -0.456333 … 0.557484 0.094816; -1.61625 -1.37924 … 0.342474 0.548784; … ; 1.07664 -0.430524 … -0.360356 0.668587; 0.324491 -0.175173 … -0.790751 1.16417]            \n",
       " KFloat32[1.2185; 1.52402; … ; -1.1745; -1.53404]                                                                                                                                        \n",
       " KFloat32[1.47578 0.055072 … -0.2823 -1.58338; -1.95253 -0.402249 … -0.221281 -0.667834; … ; 1.28302 -0.0459206 … -2.12551 -0.95058; 0.924036 0.269601 … 0.515548 7.38111]               \n",
       " KFloat32[-0.916012; -2.25621; … ; -0.166855; 0.169325]                                                                                                                                  \n",
       " KFloat32[1.70814 0.787587 … -0.636378 -1.76298; 4.32346 5.14362 … 0.705938 -0.0418462; … ; 0.360138 0.894677 … 0.9248 -0.56745; 2.43944 1.57233 … 0.283839 0.257673]                    \n",
       " KFloat32[-1.57632; -0.465515; … ; 0.232742; 0.0523779]                                                                                                                                  \n",
       " KFloat32[-0.303084 -1.18525 … -0.281071 -0.2053; -0.105208 -1.07845 … -0.25827 -0.161327; … ; -6.89772 -4.49219 … -6.53177 22.878; -10.3504 -2.46182 … -5.35946 28.4459]                \n",
       " KFloat32[-23.6416; -24.3744; … ; -1.42056; -3.41009]                                                                                                                                    "
      ]
     },
     "execution_count": 4,
     "metadata": {},
     "output_type": "execute_result"
    }
   ],
   "source": [
    "v = create_vocab(d[\"new_d2\"])\n",
    "corpus = load_conllu(\"tr_imst-ud-train.conllu\",v)\n",
    "wmodel = makewmodel(d[\"new_d2\"])"
   ]
  },
  {
   "cell_type": "code",
   "execution_count": 5,
   "metadata": {},
   "outputs": [
    {
     "data": {
      "text/plain": [
       "Sanal parçacıklar sa bunların hiçbirini yapamazlar . "
      ]
     },
     "execution_count": 5,
     "metadata": {},
     "output_type": "execute_result"
    }
   ],
   "source": [
    "s = corpus[1]"
   ]
  },
  {
   "cell_type": "code",
   "execution_count": 6,
   "metadata": {
    "scrolled": false
   },
   "outputs": [
    {
     "data": {
      "text/plain": [
       "FeatureSource([-0.542853 -0.992666 … 1.6983 -2.17757; 0.584793 1.14789 … 0.609551 -2.53964; … ; -0.825722 -2.10416 … 1.05649 -0.0918268; -2.90343 -0.18003 … -0.493267 1.06719], [1.46431 -0.123083 … 0.537261 0.982212; 0.260871 0.318797 … 0.798075 0.462872; … ; 1.29726 0.789473 … -0.589126 0.00480883; -1.61916 1.94446 … -1.57499 -1.55228], [0.819346 0.699932 … -0.915596 -1.791; 0.504342 -2.51908 … -0.0451559 0.201541; … ; 0.493422 0.875163 … -0.962536 1.63154; 0.395833 0.817469 … -1.82224 0.441632])"
      ]
     },
     "execution_count": 6,
     "metadata": {},
     "output_type": "execute_result"
    }
   ],
   "source": [
    "ev = extend_vocab!(v, corpus)\n",
    "fs = createcolvecs(corpus,ev)"
   ]
  },
  {
   "cell_type": "code",
   "execution_count": 7,
   "metadata": {
    "scrolled": true
   },
   "outputs": [
    {
     "name": "stderr",
     "output_type": "stream",
     "text": [
      "┌ Warning: `getval` is deprecated, use `value` instead.\n",
      "│   caller = #lmloss#18(::Array{Float64,1}, ::Function, ::Array{KnetArray{Float32,2},1}, ::Array{Array{Int64,1},1}, ::Array{Array{Float32,1},1}, ::Array{Any,1}, ::Array{Any,1}) at encoder_utils.jl:63\n",
      "└ @ Main /home/ec2-user/GBDP/encoder_utils.jl:63\n"
     ]
    }
   ],
   "source": [
    "fillvecs!(wmodel, corpus, v, fs)"
   ]
  },
  {
   "cell_type": "code",
   "execution_count": 8,
   "metadata": {},
   "outputs": [],
   "source": [
    "fillcavec!(corpus)\n"
   ]
  },
  {
   "cell_type": "code",
   "execution_count": 9,
   "metadata": {},
   "outputs": [
    {
     "data": {
      "text/plain": [
       "non_lin (generic function with 1 method)"
      ]
     },
     "execution_count": 9,
     "metadata": {},
     "output_type": "execute_result"
    }
   ],
   "source": [
    "function non_lin(w,x)\n",
    "   return transpose(w[1:length(w)-1])*x .+ w[length(w)] \n",
    "end"
   ]
  },
  {
   "cell_type": "code",
   "execution_count": 10,
   "metadata": {},
   "outputs": [],
   "source": [
    "# Going into autograd"
   ]
  },
  {
   "cell_type": "code",
   "execution_count": 11,
   "metadata": {},
   "outputs": [
    {
     "data": {
      "text/plain": [
       "Linear"
      ]
     },
     "execution_count": 11,
     "metadata": {},
     "output_type": "execute_result"
    }
   ],
   "source": [
    "# ******\n",
    "struct Linear; w; b; end\n",
    "(m::Linear)(x) = m.w * x .+ m.b\n",
    "(m::Linear)(x, y) = Knet.nll(reshape(m(x), (length(y), length(y))), y)\n",
    "#(m::Linear)(data::Data) = mean(m(x,y) for (x,y) in data)\n",
    "Linear(i::Int,o::Int,scale=0.01) = Linear(Param(KnetArray(map(Float32,scale * randn(o,i)))), Param(KnetArray(map(Float32,zeros(o)))))"
   ]
  },
  {
   "cell_type": "code",
   "execution_count": 12,
   "metadata": {},
   "outputs": [
    {
     "data": {
      "text/plain": [
       "Linear(P(KnetArray{Float32,2}(1,1900)), P(KnetArray{Float32,1}(1)))"
      ]
     },
     "execution_count": 12,
     "metadata": {},
     "output_type": "execute_result"
    }
   ],
   "source": [
    "# ***\n",
    "model = Linear(length(corpus[1].cavec[1]) * 2, 1)"
   ]
  },
  {
   "cell_type": "code",
   "execution_count": 13,
   "metadata": {},
   "outputs": [
    {
     "data": {
      "text/plain": [
       "sgdupdate! (generic function with 1 method)"
      ]
     },
     "execution_count": 13,
     "metadata": {},
     "output_type": "execute_result"
    }
   ],
   "source": [
    "function sgdupdate!(func, args; lr=0.1)\n",
    "    fval = @diff func(args...)\n",
    "    for param in Knet.params(fval)\n",
    "        ∇param = grad(fval, param)\n",
    "        param .-= lr * ∇param\n",
    "    end\n",
    "    return value(fval)\n",
    "end"
   ]
  },
  {
   "cell_type": "code",
   "execution_count": 14,
   "metadata": {
    "scrolled": true
   },
   "outputs": [
    {
     "data": {
      "text/plain": [
       "369-element Array{Any,1}:\n",
       " Any[.. , .. , ... , . , . , ... , Kanamıyordu ... , Gülümsemeler . , Niye ? , Tiyatrocular . ]                                                                                                                                                                                                                                                                                                                                                                                                                                                                                                                                                                                                                                                                                                                                                                                                                                                                                                                                                                                                                                                                                                                                                                                                                                                                                                                                                                                                                                                                                                                                                                                                                                                                                                                                                                                                                                                                                                                                                                                                                                                                                                                                                                                                                                                                                                                                                                                                                                                                                                                                                                                                                                                                                                                                                                                                                                                  \n",
       " Any[Biliyorum . , Galiba ... , \" . , Anlatırım . , Anlaştık . , Gittik . , Üşümüyordum . , Buyurun . , Sağolun . , Kaçtım . ]                                                                                                                                                                                                                                                                                                                                                                                                                                                                                                                                                                                                                                                                                                                                                                                                                                                                                                                                                                                                                                                                                                                                                                                                                                                                                                                                                                                                                                                                                                                                                                                                                                                                                                                                                                                                                                                                                                                                                                                                                                                                                                                                                                                                                                                                                                                                                                                                                                                                                                                                                                                                                                                                                                                                                                                                                   \n",
       " Any[Boşver . , Doğru ... , Yarayabilir . , Bilmiyorum ... , Tabii . , Anlarız . , Döndüm . , Düştü . , Değilim . , Yanılmışım . ]                                                                                                                                                                                                                                                                                                                                                                                                                                                                                                                                                                                                                                                                                                                                                                                                                                                                                                                                                                                                                                                                                                                                                                                                                                                                                                                                                                                                                                                                                                                                                                                                                                                                                                                                                                                                                                                                                                                                                                                                                                                                                                                                                                                                                                                                                                                                                                                                                                                                                                                                                                                                                                                                                                                                                                                                               \n",
       " Any[Benzemiyor . , Patlıcan . , Çeker . , Kasten . , Merhaba ... , Durdu . , Merhaba ... , Düşünüyordum . , Bilmiyorum . , Girdik . ]                                                                                                                                                                                                                                                                                                                                                                                                                                                                                                                                                                                                                                                                                                                                                                                                                                                                                                                                                                                                                                                                                                                                                                                                                                                                                                                                                                                                                                                                                                                                                                                                                                                                                                                                                                                                                                                                                                                                                                                                                                                                                                                                                                                                                                                                                                                                                                                                                                                                                                                                                                                                                                                                                                                                                                                                           \n",
       " Any[Vermedim . , Arkadaşlar . , Karışmasın . , Seveceksin . , Sinirlendirir . , Ayaklandı . , Evet . , Sinirlendim . , Pazar . , Heyecanlanmıştı . ]                                                                                                                                                                                                                                                                                                                                                                                                                                                                                                                                                                                                                                                                                                                                                                                                                                                                                                                                                                                                                                                                                                                                                                                                                                                                                                                                                                                                                                                                                                                                                                                                                                                                                                                                                                                                                                                                                                                                                                                                                                                                                                                                                                                                                                                                                                                                                                                                                                                                                                                                                                                                                                                                                                                                                                                            \n",
       " Any[Hayır . , Geldi . , Kim . , Döndüm . , Saydık . , Birdenbire . , Evet . , Olgun . , Haklı . , Var . ]                                                                                                                                                                                                                                                                                                                                                                                                                                                                                                                                                                                                                                                                                                                                                                                                                                                                                                                                                                                                                                                                                                                                                                                                                                                                                                                                                                                                                                                                                                                                                                                                                                                                                                                                                                                                                                                                                                                                                                                                                                                                                                                                                                                                                                                                                                                                                                                                                                                                                                                                                                                                                                                                                                                                                                                                                                       \n",
       " Any[İnanır . , Çünkü ... , Biliyorum . , adı . , Açılıyor . , Bağışlayın . , Duymuyorlardı . , Olmadı . , Kalkındım . , Geliştiler . ]                                                                                                                                                                                                                                                                                                                                                                                                                                                                                                                                                                                                                                                                                                                                                                                                                                                                                                                                                                                                                                                                                                                                                                                                                                                                                                                                                                                                                                                                                                                                                                                                                                                                                                                                                                                                                                                                                                                                                                                                                                                                                                                                                                                                                                                                                                                                                                                                                                                                                                                                                                                                                                                                                                                                                                                                          \n",
       " Any[Öyle ... , Öğretmenler . , İmambayıldı . , Neticelenmişti . , ) . , Sıkılmıştı . , Dinlenin . , Kalktım . , Reformlar . , Olabilir ... ]                                                                                                                                                                                                                                                                                                                                                                                                                                                                                                                                                                                                                                                                                                                                                                                                                                                                                                                                                                                                                                                                                                                                                                                                                                                                                                                                                                                                                                                                                                                                                                                                                                                                                                                                                                                                                                                                                                                                                                                                                                                                                                                                                                                                                                                                                                                                                                                                                                                                                                                                                                                                                                                                                                                                                                                                    \n",
       " Any[Keşke ... , gir . , Biliyorum . , Düşündüler ... , Demokratikleşme ... , ) . , Bırakın ... , Giremiyorum . , Kapattım . , Biliyorum . ]                                                                                                                                                                                                                                                                                                                                                                                                                                                                                                                                                                                                                                                                                                                                                                                                                                                                                                                                                                                                                                                                                                                                                                                                                                                                                                                                                                                                                                                                                                                                                                                                                                                                                                                                                                                                                                                                                                                                                                                                                                                                                                                                                                                                                                                                                                                                                                                                                                                                                                                                                                                                                                                                                                                                                                                                     \n",
       " Any[Hukukçular . , Biliyorum . , Gitmeliyim . , Onda ... , Yapamam . , Verdim . , Nereden biliyorsunuz . , Süpürgen nerede . , Balıklardan hamsi . , Keşfetmeyi severler . ]                                                                                                                                                                                                                                                                                                                                                                                                                                                                                                                                                                                                                                                                                                                                                                                                                                                                                                                                                                                                                                                                                                                                                                                                                                                                                                                                                                                                                                                                                                                                                                                                                                                                                                                                                                                                                                                                                                                                                                                                                                                                                                                                                                                                                                                                                                                                                                                                                                                                                                                                                                                                                                                                                                                                                                    \n",
       " Any[Ütüden anlamam . , Siyah rugan . , Ne diyecektik . , Dirisi kanlı . , üç gece ... , Ağabeyim dahi . , Ben tarafsız . , Göklere çıkarıyordun . , Galiba haklı . , Kızardı yanakları . ]                                                                                                                                                                                                                                                                                                                                                                                                                                                                                                                                                                                                                                                                                                                                                                                                                                                                                                                                                                                                                                                                                                                                                                                                                                                                                                                                                                                                                                                                                                                                                                                                                                                                                                                                                                                                                                                                                                                                                                                                                                                                                                                                                                                                                                                                                                                                                                                                                                                                                                                                                                                                                                                                                                                                                      \n",
       " Any[Kim o ? , Kara sevda ... , Anlarsın ya ... , Buldum işte . , Yazın mektubu . , Almanlar için . , Çayırlığa çıktılar . , Ne anlatayım . , Pikabı vardı . , Neniz var . ]                                                                                                                                                                                                                                                                                                                                                                                                                                                                                                                                                                                                                                                                                                                                                                                                                                                                                                                                                                                                                                                                                                                                                                                                                                                                                                                                                                                                                                                                                                                                                                                                                                                                                                                                                                                                                                                                                                                                                                                                                                                                                                                                                                                                                                                                                                                                                                                                                                                                                                                                                                                                                                                                                                                                                                     \n",
       " Any[Milas 'lı . , Sessizce onayladık . , Ruhen demokrat . , Ayhan imrenmiş . , Ama düşündüm ... , İllet sözcük . , Bilene rastlamadım . , Onlar bunlar . , Gözgöze geldik . , Onun tutsağı . ]                                                                                                                                                                                                                                                                                                                                                                                                                                                                                                                                                                                                                                                                                                                                                                                                                                                                                                                                                                                                                                                                                                                                                                                                                                                                                                                                                                                                                                                                                                                                                                                                                                                                                                                                                                                                                                                                                                                                                                                                                                                                                                                                                                                                                                                                                                                                                                                                                                                                                                                                                                                                                                                                                                                                                  \n",
       " ⋮                                                                                                                                                                                                                                                                                                                                                                                                                                                                                                                                                                                                                                                                                                                                                                                                                                                                                                                                                                                                                                                                                                                                                                                                                                                                                                                                                                                                                                                                                                                                                                                                                                                                                                                                                                                                                                                                                                                                                                                                                                                                                                                                                                                                                                                                                                                                                                                                                                                                                                                                                                                                                                                                                                                                                                                                                                                                                                                                               \n",
       " Any[Adını önce İngiltere ve Amerika'da duyuran Çağlayan , Paris'te yükselen yıldızını , başkentin gözde konser salonlarından ' Salla Gaveau'da ki çılgın defilesiyle ' en iyiler ' arasına yazdırdı . , Niye olmasın ; iş hayatında ki başarının sırrı , ciddiyet ; güvenilir olmak , ama en çok da takipçilik tir , bütün bunlar da yeğenlerde fazlasıyla var doğrusu . , Ulaştırma Bakanı Binali Yıldırım da , kazayla ilgili beşi bakanlık , biri THY görevlisi altı kişiden oluşan kaza - kırım ekibi oluşturduklarını ve kaza yerinde incelemelerini sürdüreceklerini kaydetti . , Ancak çok deneyimli bir psikiyatrist ya da psikolog bu kabuğun altında ki duygusal boşluğu sezebilir ve pek çok aydının çok dokunaklı bulduğu bu zeka parıltılarından etkilenmeden tanısını koyabilir . , Kemal Wolfowitz yükseköğretim sisteminin üzerinde \" adeta bir Grossman'ın gibi \" oturan bir kişi olduğunu ileri sürerek , \" Hiç kimsenin rejimin jandarmalığına soyunmasına gerek yok \" dedi . , Arının ki petek , kuşun ki yuva , ayının ki in ; ama insanın barınağı hemen ev olmamış , çünkü ev başlangıcı barınak olan bir sürecin ifadesi aynı zamanda . , Onun güzelliğine duyduğum hayranlıkla başlayan ilişki daha sonra kesin bir cinsel bağımlılığa dönüşmüş ve hep öyle sürmüştü , hatta bir ara artık onun güzelliğini bile fark edemez hale gelmiştim . , ' Grup Başkanvekilleri Salih Kapusuz , Eyüp Fatsa ve CHP Grup Başkanvekili Haluk Koç ile Büyükelçilik Konutu'nda dün sabah kahvaltıda bir araya gelen ' , milletvekilleri ile Irak'ı görüştü . , Ana Jet Üs Komutanlığı'na ait iki adet CASA - dört keşif uçağı , eğitim uçuşu için Erhaç Havaalanı'ndan kalkışlarından kısa bir süre sonra iddiaya göre havada çarpıştıktan sonra çakıldı . , Yine cevap vermesine fırsat bırakmadan , Bir erkek gibi değil yani , erkekler yalnızca sevişebilmek için yalan söyleyebilir , ama seviştikten sonra sevebilir , bundan sonra ise yalan söylemez . ]                                                                                                                                                                                                                                                                                                                                                                                                                                                                                                                                                                                                                                                                                                                                                                                                                                                                                                                                                                     \n",
       " Any[Bu davanın sağlık lı görülebilmesi için de askeri savcının hazırladığı kararların ve bu kararlara alt yapı oluşturan raporların tamamının askeri savcılıktan istenmesi ve dava ile ilgili kişilerce incelenmesi gerekiyordu . , Kaç kez denemişti ; iki türküden sonra balıkçılar , utangaç hallerinden sıyrılıp , tarihin değil , doğanın kendilerine verdiği niteliği yeğleyerek , masalarda oturan yabancı kadınlara göz süzmeye başlıyorlardı . , Sol eliyle içki kadehini kavradığında , içinde ki zıkkımın bir yudumunu bile ziyan etmeden ağzına götürebilmesi için sağ eliyle tuttuğu kravatın ucunu yavaş yavaş çekerek sol elini harekete geçirirdi . , Bir o , bir ben , hiç önceden kararlaştırmadan , kendiliğinden bir o , bir ben , olup bitenleri anlatmaya başladık ... dese diye , sabırsızlana sabırsızlana dinledim onu . , Konuya ilişkin ücretli işçi ile kapitalist arasında ki ilişki ne ise , kiracı ile evsahibi arasında ki ilişki de o dur yargısını yıllar önce , Friedrich Engels şöyle eleştirmiş . , İhracatta ki olumlu gelişmeleri devam ettirmenin öncelik li hedeflerinden olduğunu belirten Esgin , şunları kaydetti : \" Amacımız , ikibinbeş yılında ihracatın ciro içinde ki payını yüzde elli'ye çıkarmak . , ATO Başkanı Sinan Aygün , Maliye Bakanı Kemal Yazıcıoğlu ziyaretinden sonra da Bakan'ın \" Vergi Barışı Projesi \" konusunda , ocak ayının ilk haftasında mükelleflere müjde verebileceklerini söylediğini bildirdi . , Sözgelimi , Gümrük Birliği gibi bir yolculuğa çıkarken , çevresinde ki duvarları yıkmaya çalışınca , eski eşyayla yenilerin bakışması gibi , hüzün lü ve çarpıcı yalnızlıklar yaşayan bir ülkeyi ... , Demek ki ; toplumların kültür ve yaşantı farklılıkları ortadan kalktıkça , yörelerde ki yapı teknolojisi benzeştikçe ve yapı endüstrisinin durumu benzeşip , malzemeler aynılaştıkça , evlerin farklılığı ortadan kalkabilir . , Arının ki petek , kuşun ki yuva , ayının ki in ; ama insanın barınağı hemen ev olmamış , çünkü ev başlangıcı barınak olan bir sürecin ifadesi aynı zamanda . ]                                                                                                                                                                                                                                                                                                                                                                                                                                                                                                                                                                                                                                                                                                                                                                                                                                                          \n",
       " Any[Dizinin bir önce ki öğesi olan eski kuramın öngörülerinin sınanması için geliştirilen ve yeni teknolojiyle donanmış olan bilimsel aygıtlar yeni süreçlerin , olayların ve ilişkilerin ortaya çıkmasına neden olur . , Sonra sen de bir kertenkele oluverip o göbek li , geniş burun lu , kırmızı yüzlü adamın öptüğü , ellerini gezdirdiği ince beyaz derinden ve hatta ruhundan kurtulmak istemiştin . , Planla Kıbrıs'ın Rumların denetimi altına verildiğini , nüfus aktarımının da Rumlar lehine gelişeceğini ifade eden Linn , \" Bu da Kıbrıslı Türklerin kendi ülkelerinde bağımsızlıklarının sonu olacaktır \" dedi . , Yok sa bilim ile din arasında ki bu karşılık lı hoşgörü , bazılarının ileri sürdüğü gibi , Batı demokrasisinin ulaştığı ve örnek alınması gereken olgunluk düzeyinin bir sonucu değildir . , entelektüel yetilerde uzunca bir süre bozulma görülmeyeceğinden bağımlı kişilerde temelde yatan kişilik bozukluğuyla da beslenmiş , parlak bir zeka ve yalancı bir filozofluk çok belirgin bir ortak özellik tir . , Akşamları lokantada , kenar köşe bir masa kendilerine ayrılıyor , hesaptan ayrı getirdikleri balıklarla , bedava bir küçük rakıyla , ufak tefek mezelerle ucuz , güzel bir gece geçiriyorlardı . , Çocukluğunda duygularını bastırmak zorunda kalmış , uyuşturucu alırken duygularını öldürmüş yetişkin çocuk birdenbire maddeyi bıraktığında psikolojik bunalımlar yaşıyor : bastırılmış ; nevroz , depresyon , takıntılar , kleptomani vb . , Ekibe , Avrupalı müzisyenler , Cemal Reşit Rey Senfoni Orkestrası , ve Türkiye ve yurtdışında yaşayan semahçılar da destek verdi , Arif Sağ ve Ayla Algan da düet yaptı . , Olayın ikiyüzkırkyedi mağduru olduğu ifade edilen fezlekede , Akgündüz'ün , TCK'nın \" W dolandırıcılık \" suçunu tanımlayan beşyüzdört . maddesinin sekiz . fıkrasının ikiyüzkırkyedi kez uygulanması suretiyle cezalandırılması istendi . , Bunlar olup biterken küçük sarışın çocuk , kucağında , bacaklarının arasına sıkıştırdığı darbukaya sol eliyle hiç ses çıkarmadan , okşarcasına vuruyor , sağ eliyle de tabağında kileri ağzına tıkıştırıyordu . ]                                                                                                                                                                                                                                                                                                                                                                                                                                                                                                                                                                                                                                                                                                                                                                                                   \n",
       " Any[Görüldüğü gibi , dışarıdan bakıldığında doktor baba , sadık eş ve üniversite bitirmiş , iş hayatına atıl mış delikanlı ; toplumun aile imajına ve değerlerine ne de uygun bir aile . , Ankara Savaş Karşıtı Platformu üyesi bir grup , yarın yapılacak \" Savaşa Hayır Mitingi \" öncesi ABD'nin olası Irak operasyonunu protesto etmek amacıyla , Ankara Büyükelçiliği önüne siyah çelenk bıraktı . , Belki de güzel olan , gerçekten de yararlı olan dır ; ama o zaman da bu demek tir ki , makinelerimiz güzel değil , çünkü onların bizim için yararı yok . , Şunu niçin düşünmüyorsun , diye başladı Hülya yeniden , bu insanların hemen hepsi çeşitli zamanlarda özel birtakım konularını seninle konuşurlar , sana danışırlar , senin söyleyeceklerine önem vermeye hazır dırlar . , ABD'nin Ankara Büyükelçisi Robert ' , Irak konusunda barışçı çözümde ısrar edeceklerini ve sorunun savaş sız bitmesini arzu ettiklerini belirterek , \" Saddam giderse savaş şartları ortadan kalkar \" dedi . , Başbakanlık'ta gazeteciler ile sohbet eden Şahin , önce ki hükümetin memur maaşlarına hedef enflasyona göre zam yapma sözü verdiğini , ancak kendilerinin ikibinüç zammını geçmiş enflasyonlara göre vermeyi planladıklarını söyledi . , Bodrum evi için bir anlamı ve güzelliği olan gumbillinin ( Bodrum evine özgü çatı parapeti köşelerinde yer alan süs elemanı ) ve beyazın , binlerce tekrardan sonra mide bulandırdığını söylemeliyim . , Sonra , patron olduğunu anımsatmak için , soymakta olduğu patatesleri bırakıp , bir çay doldurdu , masalardan birine geçti , sabahtan beri bakıla bakıla paçavra gibi olmuş gazeteyi eline aldı . , Kemal , Günah çıkarma esprisine , bir çeşit yakıt alma gibi , yıkanıp temizlenme gibi , yüzeysel , hatta bazen köklü bir tamirat gibi yaklaşmalıyız , bunu kastediyorum , dedi . , Oradan oraya seğirtmelerim bitecek , bitip de baş başa kalacak , baş başa kalınca da uzun uzun hayatlarımızın özetlerini çıkarıp bu hayatların görünen ucuna doğru birbirimize el verecek durumda değilim . ]                                                                                                                                                                                                                                                                                                                                                                                                                                                                                                                                                                                                                                                                                                                                                                                                                                                                             \n",
       " Any[Geyiklerin alışık olmadıkları bu durum karşısında ki olgun davranışları , hatta kızak hattının tam ortasında ki düşüşlerimde dahi bana basmamaya özen göstermeleri çarpıcı ydı ; sanki aramızda bir sıcaklık doğmuştu . , Yine sekizonikibindokuzyuzdoksansekiz tarih li bildirisinde yazarları şunları yazıyorlar : Kısacası , maddenin yoktan varolduğu gerçeği , bugün bilim dünyasında en yaygın olarak kabul gören teori olan big bang tarafından ortaya konmuştur . , Ancak bu çalışmalar , bilimi , yeni teorik atılımlarla yeni düzlemlere taşımaktan çok , ya eski düzlemde ki boşlukları doldurmaya , ya da daha önce elde edilmiş bulguların uygulanmasına yönelik tir . , Hazine , ikibinüç yılı dış borçlanma programı çerçevesinde ikinci ihracını gerçekleştirerek , beşyüz milyon Finnur tutarında beş yıl vade li ve yüzde on kupon faiz li ' cinsi tahvil ihracı yaptı . , Bazen şarkı söylerken de olur bu , arkadaşlar bilir ( arkadaşlar , yani bıyıklarına ak düşmüş emekli sarhoşlar gözlerini yumup başlarını hafifçe eğerek onaylıyorlar ) okursa hüzzam okur , herkesi kahırlandırır . , Kamu Personeli Seçme Sınavı Sistemini değiştireceklerini kaydeden Şahin , şimdiye kadar sınavı kazananların haklarının sak lı tutulacağını , ancak bundan böyle her yıl ihtiyaç kadar alım için yeni sınavlar yapılacağını belirtti . , Perakendecilikte araştırmaları ve metodoljik çalışmalarıyla tanınan Underhill , dünyada \" Why We Buy : The Science of Shopping \" ( Neden satın Alıyoruz : Alışveriş Bilimi ) ad lı kitabıyla tanındı . , Dayım , Eee , kes şu şarkıyı , demişti de , o da dayıma , Bu şarkı değil bi defa - , marş bu marş , akıllım , diye karşılık vermişti . , DYP Genel Başkanlığı için Türkiye turuna çıkan Elazığ Milletvekili Mehmet Ağar , hakkında çıkarılan şaibe söylentilerinin arkasında başka hesaplar olduğunu savunarak , \" Ben im için şu anda hukuki problem yok . , Eski Devlet Bakanı ve Başbakan Yardımcısı , Toplumcu Kurtuluş Partisi ( TKP ) Lefkoşa Milletvekili Mustafa Akıncı da , \" Denktaş'ın , izlediği politikayla Kıbrıs'ı kalıcı taksime götürdüğünü \" öne sürdü . ]                                                                                                                                                                                                                                                                                                                                                                                                                                                                                                                                                                                                                                                                                                                                                                                            \n",
       " Any[İkincisi de teknik raporun , Kara Havacılık Okulu'ndan bir albayın ve uçak şirketinden iki yetkilinin düzenlediği raporda ki bilgilerin aslında sadece enkazla ilgili olduğunu , uçağın düşüş nedeniyle ilgili olmadığını söylüyor . , Bağcılar Cumhuriyet Başsavcılığı , Siirt'te ki seçimin iptaliyle milletvekilliği düştükten sonra gıyabi tutuklama kararı vicahiye çevrilerek cezaevine konulan Fadıl Akgündüz hakkında , dörtyüzdoksandört - binikiyüzotuzbeş yıl arasında hapis cezası istemiyle fezleke hazırladı . , Bir zaman boş lokantada sesimizi çıkarmadan karşı karşıya oturduk , çatallarla , bıçaklarla oynayıp hepsini tek tek kaldırıp tekrar yerine bıraktıktan sonra sanki daha önceden başladığımız bir konuşmayı sürdürüyormuş gibi birden konuştu . , Tüketici kredisinin yabancı para birimi cinsinden kullanılması durumunda , geri ödemeye ilişkin taksitlerin ve toplam kredi tutarının hesaplanmasında , hangi tarihte ki kurun dikkate alınacağına ilişkin bilginin sözleşmede yer alması koşulu getiriliyor . , Cumhurbaşkanı Ahmet Necdet Sezer , Akgüney Genel Başkanı Recep Tayyip Erdoğan'ın TCK'nın üçyüzoniki . maddesinden aldığı cezaya ilişkin hak kısıtlamalarını tamamen ortadan kaldıran basın yoluyla işlenen suçların ertelenmesine ilişkin yasayı veto etti . , İki hafta önce Türkiye toplumunun yeni sivil , ideolojik ve ekonomik egemenlerini ve onların yaşam tarzlarını anlatmak üzere bu köşede doğan Kozanoğlu Kırmızı Türkler Maksim'den kavramı \" artık reşit oldu \" diyebiliriz . , Şimdi hiçbir şeye yaramadıklarını düşünsem de , yaşayabilmek için yazmak ! Böylece , o beklemekle , aramakla , bütün bu zaman parçalarını dolduracak olan boşlukla ve sıkıntıyla dolu yaşam çizgimi belirledim sanıyorum . , Ama bir ihtimal var , değil mi ? Sırf sana olan kızgınlığımı birine anlatmam halinde üzerimden bir yük kalkar , gerilimim azalır , sana daha hoşgörü lü yaklaşabilirim , daha bağışlayıcı olabilirim . , Esin'le Özer birbirlerine baktılar Özer Prensesi ben koruyacağım ! dedi , Esin de gülümseyerek odanın ortasında dönmeye başladı yeniden : Ben bir prensesim , ben bizim evin prensesi yim . diye mırıldanarak . , İşte o zaman , bu turistik yörenin olağanüstü tarihine merak duyanlar , burada ki insanların birkaç bin yıl önce ki bir uygarlığın torunları olduğunu bilenler , tarihten bir sahnenin canlanmakta olduğunu sezerlerdi . ]                                                                                                                                                                                                                                                                                                                                                                                                                                                                                                           \n",
       " Any[Harun Yahya ve yazarlarının herbiri sanki reenkarnasyona uğramış Berkeley ! İlgili okura , Bertrand Russell'ın Türkçe'ye de çevrilmiş olan The History of Western Philosophy ad lı kitabının Berkeley bölümünü okumalarını salık veririm . , Ancak , dün bu programı Gül'ün eşi Hayrünnisa Gül'ün türbanı olması nedeniyle gerçekleştirmeyen ve geleneği bozan Genelkurmay Başkanı Org . Hilmi Özkök'ün eşi Özenç Özkök , YAŞ üyelerinin eşlerine öğle yemeği vermedi . , Ne kadar zengin olursan ol , diyor , seyirci olduktan sonra ( al işte Nurettin Bey ; sattı yedi , sattı yedi şimdi beş parasız , onun bunun eline bakıyor ) sıfırı tüketirsin . , Lange Leidsewards Straat'da Kierkegaard okuyan kıza , kendisiyle yeniden görüşmekten sevinç duyacağımı söylemiş , ertesi gün öğleye doğru , onun oturduğu sokağın başında ki o güzel , iki kat lı kahveye çağırmıştım onu . , Niye mutsuz olduklarını ise söylemezlerdi , mutsuzluklarının nedenini siz keşfetmek zorunda ydınız , bunu keşfedemezseniz biraz daha düşmanlaşırlardı ; bu düşmanlık gerçek değildi , yalnızca mutsuzluklarının üstüne örtmeye çalıştıkları yakıcı bir örtü ydü . , Toplantıyı evinde yapacak olan kişi , Sakarya caddesinde eki iki büyük bakkaldan , ya da Bulvar üzerinde ki Trakya Şarküterisi'nden peynir , salam , tarama , Rus salatası , dolma gibi şeyler alırdı . , Bu yüzden , çaldığı iki ağır türkünün ardından yine kıvrak bir göbek dansına , ya da bir bozlağa geçer , balıkçılar oturmayacak olurlarsa , kaş göz işaretleri yaparak , masalarına gitmeleri gerektiğini anlatırdı . , Bilimde bu tür mucizevi elatmalara yer olmadığı gibi , varlığı , Tanrı'ya inananlar için tehlike yaratır : diferansiyel eşitliklerinizde ki matematiksel tekillikleri daha iyi bir modelle ortadan kaldırdığınızda Tanrınız da tekillikle birlikte ortadan kalkar . , Aygün , kredi kartı faiz oranlarının yüzde 118'lere kadar çıktığını , bir aylık ödemenin yapılmaması halinde temerrüdün devreye girmesiyle faiz oranlarının yüzde 375'e kadar yükseldiğini belirterek bunun akılla , Anayasa'yla ve demokrasiyle bağdaşmadığını söyledi . , Bir romanda anlatılmaya değmeyecek kadar bildik , binlerce yıldan beri yaşanan duygular dı bunlar , ama deneyimlerim bana bir şey öğretmişti : En korkunç gerçekler , söylenmeye değmeyecek kadar basit olan bildik gerçekler di . ]                                                                                                                                                                                                                                                                                                                                                                                                                                                                                                                                                      \n",
       " Any[yazarları Termodinamiğin İkinci Yasası'nın tanımını ve yorumunu yanlış yapıyorlar ! Yanlış ! Entropinin sürekli arttığını savunan Boltzmann yorumu , dizgede ki entropi üretiminin ısı akısı ve bu akıya neden olan sıcaklık gradyentinden hesaplandığını söyler . , CHP Genel Sekreter Yardımcısı Algan Hacaloğlu'nun hazırladığı pakette , \" Kürt sorunu \" ve \" Güneydoğu sorunu \" ifadeleri yerine \" etnik duyarlılıklara demokratik çözüm \" ve \" kültürel çoğulculuk \" kavramları tercih edildi . , Oysa insan bir kez anımsamaya başlarsa gizlediklerini , beyninin içine giren kurt onu kemirir , yeni korkular , daha büyük , daha dehşet li korkular , en olmayacak düşünceler , günahlar , suçlar yaratır . , FDR'nin altıyüzotuzdört sefer sayılı Konya uçağının tekerleklerinin , yaklaşma hattının soluna kaydığı , ancak kaptanın uçağı düzeltme manevrası yaparken sol ana iniş takımının tepeye çarptığı ve pist başına yakın bir noktada parçalandığı ileri sürüldü . , Üniversiteyi bitirdikten sonra ilk girdiği şirketin müdürü delikanlıya yakın ilgi gösteriyor , baba ilgisi açlığı çeken delikanlı , çocuksu bir ben merkezcilikle müdürün ilgisini bir baba ilgisi olarak algılıyordu : Değerini bilen bir baba . , Başbakan Yardımcısı Mehmet Ali Şahin , Biriçim lideri Recep Tayyip Erdoğan'ın başbakanlığıyla ilgili olarak Anayasa'nın yüzdokuz . maddesinde değişiklik yapılmasına karşı çıkan Cumhurbaşkanı Ahmet Necdet Sezer ile sürtüşmemek için diğer maddelerde değişiklik yapacaklarını söyledi . , Nedenini anlayamadığım bu terk edilme korkusu ve kendime itiraf etmekten bile utandığım hırpalayıcı kıskançlığımla , aptalca olduğunu bile bile daha çok kadınla birlikte oluyor ve sonunda korktuğuma uğrayıp bir başka erkek için terk ediliyordum . , Bu kaybın , \" turizm gelirlerinde ki kesilme \" , \" petrol fiyatlarında ki artış \" , \" faiz oranlarında ki artış \" ve \" yabancı yatırımcının Türkiye'den kaçışı \" gibi nedenlerden ortaya çıkması bekleniyor . , Dolayısıyla başkaları için ev yapmak - o evi yapan mimar da olsa - o başkalarının , o ailenin yaşantısını ve hatta hayatını yönlendirmek demek tir : Ne büyük bir sorumluluk , acaba altından kalkılabilinir mi ? , \" Yapılan düzenleme , suç türü ve suç tarihi ayrımı yapılmaksızın , tüm hak yasaklamaları için öngörülmüş sürekli bir uygulama niteliğinde olmayıp af yasalarına özgü olduğu biçimde , yalnızca belli tarihe kadar işlenen suçları kapsamaktadır . ]                                                                                                                                                                                                                                                                                                                                                                                                                                                  \n",
       " Any[Erdoğan'ın milletvekili ve başbakan olmasını sağlayacak düzenlemede , Sezer'in karşı çıktığı , doğrudan başbakanlık getirecek yüzdokuz . madde yerine ara seçimi düzenleyen yetmişsekiz . madde üzerinde değişiklik yapacaklarını belirten Şahin , şu mesajı verdi : . , İnsanları ikiye ayırıyor annem ( sayacağı iki kalem de olsa mutlaka parmaklarını avucuna kapatarak sayacak ; birincisi yaşayanlar ( bunlar başkalarını da yaşatıyor ) , ikincisi yaşayanları seyredenler ( bunlar da başkalarının sırtına yük oluyorlar ) . , Uçağın gövde ( tekne ) sigortasının tüm riskinin Türk Hava Yolları ( THY ) tarafından yabancı reasürans şirketlerine sigorta ettirildiğini bildiren Ray Sigorta Genel Müdürü Ercüment Çetin Alanya , yolcu mali mesuliyeti sigortalarının kendilerinde olduğunu söyledi . , Burjuvazinin siyasal devrimlerle iktidarı ele geçirip , hakim sınıf konumunu sağlamlaştırmasıyla birlikte , bilimi , idealizme karşı mücadelede materyalizmin temel mevzisi olmaktan çıkartacak , bilim ile dini barıştıracak yeni bir ideolojik ortam yaratma arayışları baş göstermiştir . , NA'ya devam edip , basamakları takip etme , duygularıyla tanışma , yüzleşme ve duygularını oldukları gibi kabul etme sabrını gösterebilen kişilerin başarıları ve NA'nın başarısı bugün dünyada bağımlılık tedavisi yapan tüm merkezlerin kabul ettiği bir gerçek . , Yoğun siste uçak piste doğru gelirken pilota \" Yaklaşma hattının solunda kaldın \" uyarısı yapıldığı , bunun üzerine pilotun uçağı düzeltmeye çalıştığı , ancak sol dikmenin ( ana iniş takımı solu ) tepeye çarptığı ifade edildi . , Bu büyüme için öncelikle makroekonomik istikrarın en geç iki yıl içinde sağlanması gerektiğine dikkat çeken Özilhan , işsizlik konusunda yalnızca büyümenin yeterli olmadığını , aynı zamanda AKP'nin istihdamın önünde yükselen duvarların da yıkılması Arch gerektiğini belirtti . , Celal uzaktan kumandayı elimden alıp , yuzelli yıl önce yağmur grisi gökler altında yağmur yeşili çayırlarda bir metre mesafeyle yürüyerek sevişen aşıklar hakkında ki İngiliz TV filmlerinden birini buldu , kumanda aletini aramıza değil öbür yanına koydu . , TBMM Başkanı Bülent Arınç , önce ki akşam CNN Türk'te Taha Akyol'un sunduğu \" Eğrisi Doğrusu programında \" Milliyet'te yirmialtı Kasım ikibiniki tarihinde \" Yanlışlara Ortak Olmam \" başlığıyla yayımlanan röportajında ki ifadesinin farklı yansıtıldığını iddia etti . , Ben akşama vurulacak insanların o sırada neler yaptığını merak ederek cinayet haberlerini kesip dosyalarına koyardım ; arada ilginç bir cinayet çıkar sa , kimin , nerede , nasıl öldürdüğünü yanımda taşıdığım özel cinayet defterime kendim için kaydederdim . ]                                                                                                                                                                                                       \n",
       " Any[Bunu nasıl daha mümkün hale getiririz diye düşünür ken Amerikalı şirket aleyhine bir dava açarak belgeleri , savcılığın soruşturma belgelerini Kara Kuvvetleri'nin müşterek kanaat raporuna konu olan belgeleri oraya getirtmek mümkün olur gibi bir fikir geldi aklımıza . , \" Bu tanımla , örneğin Almanya'da şirket kuran vergisini Alman hükümetine ödeyen fakat Türk vatandaşı olan kimseler yerli ama Türkiye'de yıllardan beri yerleşik bulunan biz ler yabancı oluyoruz \" diyen ' , teknik bir hata olabileceğine dikkat çekti . , Nereye yönelsem arkamdan yetişiyordu , Sen kömür sobasını beceremezsin , yan odadan elektrik li zamazingoyu al , dolapta ki rakı çok soğuk tur , en iyisi yattığım odanın aç kapısını , bak hemen kapının arkasında , kap gel ... , Şirketin patronu olan okul arkadaşım her zaman giydiği birbirinin aynı siyah takım elbiseleri , inanılmaz derecede parlak kravatlarıyla öğlen yemeğine giderken kapıdan kafasını uzatıp Kaç ? diye soruyordu , ona o ana kadar okuyup kaydettiğim cinayetlerin sayısını söylüyordum . , Fizik yasası olarak nitelendirebileceğimiz ilk bulguları elde eden Arşimed'in , kumun üstüne çizdiği şekillerle bu geometri problemini çözmeye çalışırken , Siraküza'yı işgal eden Roma ordusunun bir askeri tarafından öldürülmesi , adeta Roma'nın teori düşmanlığının bir simgesi olarak tarihe geçmiştir . , Özellikle biyoloji ve jeolojinin insanın ve dünyanın kökenine ilişkin bulguları , evrenin merkezinde ki durağan dünyasının sıradan bir gezegen olmasına yeni yeni kendini alıştırmaya başlamış olan Kilise'nin elinde kalan son önem li alana - Yaratılış Efsanesine - cepheden darbeler indirmiştir . , Sesinden tanıyordum kadınların mutsuzluğunu , sanki seslerinin özel bir kokusu oluyordu , kıyılmış tütün kıvamında , yanık gül yaprağı gibi kokuyordu sesleri , daha ilk notasında alıyordunuz kokusunu , bezgin , mesafe li ve biraz da düşmanca bir ses çıkarıyorlardı . , Eğer tazminat davası açmak istersem bu davayı alabileceklerini , ama diğer davalar için veya araştırmalar için karşılarında Silah lı Kuvvetler olduğu için böyle bir işe girişmek istemediklerini , netice çıkaramayacaklarını , yani kapalı kapılar ardında mücadeleyi göze alamayacaklarını söyleyerek kabul etmediler . , Saffet , kent li turizm işletmecilerinden çok şey öğrenmekle kalmamış ; yüzyılların , denizin , balıkçılığın bu köy halkına verdiği bilgece hoşgörüyü , huzur veren yazgıcılığı , azla yetinme alışkanlığını birkaç yıl içinde silip atarak , tam bir köylü kurnazı olup çıkmıştı . , TOBB yönetiminin , hafta içinde gerçekleştirdiği ziyaretlerde , Cumhurbaşkanı , Başbakan , bakanlara sunduğu raporda , mükelleflerin geçmişte beyan dışı kalmış faaliyetlerinin kayıt içine alınmasını sağlayacak ölçüde indirim yapılarak , bir defaya mahsus olmak üzere Unakıtan'dan gönülü beyan müessesesi Emsan kurulması istendi . ]\n",
       " Any[Saffet , geceleyin , yemekler bitmeye yüz tutup , içkiler yarıyı geçtikten sonra , teybe koyduğu şarkıları keser , bağlamasını eline alır ; küçük bir sahne haline getirdiği birkaç metrekare genişliğinde ki , bir karış lık yükseltiye bir tabure koyar , otururdu . , O sıralarda yeni taşındığım apartmanda bir yazarın oturduğunu keşfettim , benden genç ti , on iki yaşında ydı , onu ilk kez asansörle eve çıkarken görmüştüm , somurtkan dudakları , kocaman gözleri vardı , konuşurken hep yere bakıyor konuştuğu insana asla bakmıyordu . , Yazları , harman yerlerinden kalkıp uçup gelen ve insanı hışır hışır kaşındıran yal tozlarını kokladıkları Mihalıcık Köyü yerine , şimdi Sapanca'nın hanımeli koku lu durgun mavi göle bakan dubleks evine gelebilmek için , kolay değil işte , böyle gece gündüz çalışmak gerekiyordu . , Daha doğrusu , kazada ki adam zihninde kendisine otobüsün çarptığına ilişkin ses , görüntü , sertlik hislerini almaya başladığı anda , bu hislerin tamamını , bir müzik teybine bağlanan iki ayrı kolondan aynı şarkının dinlenmesine benzer biçimde , Politzer de almaya başlayacaktır . , Cinayet , duyguların , tutkunun , nefretin , intikamın , korkunun , yaşama isteğinin ; yok etme arzusunun doruğa tırmandığı bir an dı , insanlara ortada bir cinayet olmadan bu duyguları yaşatabilecek tek şey var dı hayatta , o da bir roman dı . , Erdoğan'ın önünü açan Anayasa değişikliklerini daha önce \" kişiye özel düzenleme \" diyerek veto eden , ancak aynı düzenlemenin TBMM tarafından yeniden önüne getirilmesi üzerine değişiklikleri onaylayarak Erdoğan'ın önünü açan Sezer , dün de Akgüney lideri için yapılan bir başka düzenlemeyi veto etti . , Ama öyle bir dedi ki ; madem unutmak için bunca çaba harcıyoruz da bir arpa boyu yol alamıyoruz , madem yanlış bir yerde olduğumuzu düşünüyoruz da doğru denen yere asla varamayacağımızı biliyoruz , senin gibi biri nasıl böyle bir soru sorar , demek istedi . , O muhteşem güzelliğine ve erkeklerin bütün hayranlığına rağmen inanılmaz derecede sadık bir kadın dı , her şeyi dolu dolu , sonuna kadar yaşamak istediğinden , kaçamaklardan , küçük kırıştırmalardan hoşlanmaz , kendini tümüyle sevdiği erkeğe verirdi ve bir gün ansızın beni , terk edivermişti . , Bugün Magadan ve Kamçatka civarında , Çukotka ve Koryak özerk bölgelerinde , Habarovsk ilinin Ohotsk ilçesinde ve Saka Cumhuriyeti'nin ( Yakutistan ) kuzeydoğu ve batı bölgelerinde toplam nüfusu onsekiz bini bulan Even halkı , aynen diğer Sibirya halkları gibi kendi kaderini yeniden inşa etmeye çalışıyor . , Mürettebatın cenazelerinin alanda bekletileceği öğrenilirken , yolcular Kurmay Binbaşı Aktan Tuncer , Abdülbaki Dalar , Nurullah Eren , Şemsi Araç , Behzat Kulur , Erol Şimşek , Servet Karadağ , Sevinç Karadağ , Cavit Erkut , Özgür ILS ve Halit Tunaoğlu'nun cenazeleri ailelerine teslim edildi . ]          \n",
       " Any[Elektrozayıf kuramın oluşturulmasıyla Nobel ödülü alan bilim insanlarından birisi olan Sheldon Glashow , projenin onanma şansının düşük olduğunu şu şakayla anlatıyor : bizi erke düzeylerine çıkaracak olan hızlandırıcının boyu birkaç ışık yılı uzunluklarda ve bir saniyede tüketeceği erke de Güneş'in bir saniyede ürettiği erkeye denk olacaktır . , Bu materyalist yaklaşımdan hareket eden Bilimsel Devrim , gök cisimlerinin devinimi , mekanik , optik , termodinamik , elektromagnetizma , biyoloji , kimya ve bu alanların birçoğunun temelini oluşturan matematik alanlarında elde ettiği tartışılmaz başarılarla , materyalizme , bütün insanlık tarihi boyunca görülmüş en büyük itici gücü vermiştir . , Bu kazada , otobüsün altında ezilen kişinin beş duyu organından beynine giden sinirler , bir başka insanın , örneğin ( eğer bugün yaşasa ) George Politzer'in beynine paralel bir bağlantıyla bağlansa , kazada ki kişiye otobüs çarptığı anda , o sırada evinde oturmakta olan Politzer'e de otobüs çarpacaktır . , Salonu ayıran , çoğu da kitapla doldurulmamış olan o rafların arasından , üzerinde telefon duran yazı masasına , masanın üzerinde ki telefona , viski şişesine , orada ki küçük masada rastgele açılmış kitaplara , bu yanda ki , küçük yuvarlak masanın ardına yerleştirilmiş , rahat , büyük , deri koltuğa bakıyordum . , Pozitif thermal control system etiket li son teknoloji botların ve montların yerine çift kat battaniyeden pantolonu , porsuktan yelek ve eldivenleri , geyik derisinden paltoyu , hele içi keçe çorapla kalınlaştırılmış çift kat geyik derisinden çizmeleri giydiğime pek memnun dum şimdi : Eksi on beş derecede , karlara gömüle gömüle giden geyik kızağında oturuyorum ve üşümüyorum . ]                                                                                                                                                                                                                                                                                                                                                                                                                                                                                                                                                                                                                                                                                                                                                                                                                                                                                                                                                                                                                                                                                                                                                                   "
      ]
     },
     "execution_count": 14,
     "metadata": {},
     "output_type": "execute_result"
    }
   ],
   "source": [
    "bitches = minibatch(corpus, 10)"
   ]
  },
  {
   "cell_type": "code",
   "execution_count": 15,
   "metadata": {},
   "outputs": [
    {
     "name": "stdout",
     "output_type": "stream",
     "text": [
      "[\"Sanal\", \"parçacıklar\", \"sa\", \"bunların\", \"hiçbirini\", \"yapamazlar\", \".\"]\n",
      "(1900, 49)\n",
      "1.9105332\n",
      "[\"Ona\", \"her\", \"şeyimi\", \"verdim\", \".\"]\n",
      "(1900, 25)\n",
      "1.3887413\n",
      "[\"Karşısında\", \",\", \"pantolonu\", \"dizlerine\", \"dek\", \"ıslak\", \",\", \"önlük\", \"torbası\", \"ham\", \"eriklerle\", \"dolu\", \"İbrahim\", \"dikiliyordu\", \".\"]\n",
      "(1900, 225)\n",
      "2.242195\n",
      "[\"Nereden\", \"biliyorsunuz\", \".\"]\n",
      "(1900, 9)\n",
      "0.76994485\n",
      "[\"Aradığımı\", \"Buldum\", \"Sandım\", \".\"]\n",
      "(1900, 16)\n",
      "2.048428\n",
      "[\"Kahveleri\", \"bende\", \"içelim\", \".\"]\n",
      "(1900, 16)\n",
      "2.278029\n",
      "[\"Ne\", \"diyeceğimi\", \"bilemedim\", \".\"]\n",
      "(1900, 16)\n",
      "1.8794291\n",
      "[\"Süpürgen\", \"nerede\", \".\"]\n",
      "(1900, 9)\n",
      "1.0796356\n",
      "[\"Bir\", \"taksi\", \"bulduk\", \".\"]\n",
      "(1900, 16)\n",
      "1.9044781\n",
      "[\"Mebrure\", \"birden\", \"heyecanlanmıştı\", \".\"]\n",
      "(1900, 16)\n",
      "0.83935153\n",
      "[\"\\\"\", \"Burada\", \"ki\", \"üst\", \"düzey\", \"görüşmelerimizde\", \"turizm\", \"için\", \"ellerinden\", \"geleni\", \"yapacaklarını\", \"söylediler\", \".\"]\n",
      "(1900, 169)\n",
      "2.1319084\n",
      "[\"Gel\", \"bak\", \",\", \"sana\", \"evi\", \"göstereyim\", \".\"]\n",
      "(1900, 49)\n",
      "\n",
      "Stacktrace:\n",
      " [1] \u001b[1mcheckbetween\u001b[22m at \u001b[1m/home/ec2-user/.julia/packages/Knet/05UDD/src/karray.jl:641\u001b[22m [inlined]\n",
      " [2] \u001b[1mcheckbetween\u001b[22m\u001b[1m(\u001b[22m::Array{Int32,1}, ::Int64, ::Int64\u001b[1m)\u001b[22m at \u001b[1m/home/ec2-user/.julia/packages/Knet/05UDD/src/karray.jl:635\u001b[22m\n",
      " [3] \u001b[1mgetindex\u001b[22m\u001b[1m(\u001b[22m::KnetArray{Float32,2}, ::Array{Int64,1}\u001b[1m)\u001b[22m at \u001b[1m/home/ec2-user/.julia/packages/Knet/05UDD/src/karray.jl:652\u001b[22m\n",
      " [4] \u001b[1m#forw#1\u001b[22m\u001b[1m(\u001b[22m::Base.Iterators.Pairs{Union{},Union{},Tuple{},NamedTuple{(),Tuple{}}}, ::Function, ::Function, ::AutoGrad.Result{KnetArray{Float32,2}}, ::Vararg{Any,N} where N\u001b[1m)\u001b[22m at \u001b[1m/home/ec2-user/.julia/packages/AutoGrad/KsPMr/src/core.jl:66\u001b[22m\n",
      " [5] \u001b[1mforw\u001b[22m at \u001b[1m/home/ec2-user/.julia/packages/AutoGrad/KsPMr/src/core.jl:65\u001b[22m [inlined]\n",
      " [6] \u001b[1mgetindex\u001b[22m\u001b[1m(\u001b[22m::AutoGrad.Result{KnetArray{Float32,2}}, ::Array{Int64,1}\u001b[1m)\u001b[22m at \u001b[1m./none:0\u001b[22m\n",
      " [7] \u001b[1m#nll#712\u001b[22m\u001b[1m(\u001b[22m::Int64, ::Bool, ::Function, ::AutoGrad.Result{KnetArray{Float32,2}}, ::Array{Int16,1}\u001b[1m)\u001b[22m at \u001b[1m/home/ec2-user/.julia/packages/Knet/05UDD/src/loss.jl:221\u001b[22m\n",
      " [8] \u001b[1mnll\u001b[22m\u001b[1m(\u001b[22m::AutoGrad.Result{KnetArray{Float32,2}}, ::Array{Int16,1}\u001b[1m)\u001b[22m at \u001b[1m/home/ec2-user/.julia/packages/Knet/05UDD/src/loss.jl:220\u001b[22m\n",
      " [9] \u001b[1m(::Linear)\u001b[22m\u001b[1m(\u001b[22m::KnetArray{Float32,2}, ::Array{Int16,1}\u001b[1m)\u001b[22m at \u001b[1m./In[11]:4\u001b[22m\n",
      " [10] \u001b[1m(::getfield(Main, Symbol(\"##31#32\")){Linear,Tuple{KnetArray{Float32,2},Array{Int16,1}}})\u001b[22m\u001b[1m(\u001b[22m\u001b[1m)\u001b[22m at \u001b[1m/home/ec2-user/.julia/packages/AutoGrad/KsPMr/src/core.jl:197\u001b[22m\n",
      " [11] \u001b[1m#differentiate#3\u001b[22m\u001b[1m(\u001b[22m::Base.Iterators.Pairs{Union{},Union{},Tuple{},NamedTuple{(),Tuple{}}}, ::Function, ::Function\u001b[1m)\u001b[22m at \u001b[1m/home/ec2-user/.julia/packages/AutoGrad/KsPMr/src/core.jl:144\u001b[22m\n",
      " [12] \u001b[1mdifferentiate\u001b[22m at \u001b[1m/home/ec2-user/.julia/packages/AutoGrad/KsPMr/src/core.jl:135\u001b[22m [inlined]\n",
      " [13] \u001b[1m#sgdupdate!#30\u001b[22m\u001b[1m(\u001b[22m::Float64, ::Function, ::Linear, ::Tuple{KnetArray{Float32,2},Array{Int16,1}}\u001b[1m)\u001b[22m at \u001b[1m./In[13]:2\u001b[22m\n",
      " [14] \u001b[1msgdupdate!\u001b[22m\u001b[1m(\u001b[22m::Linear, ::Tuple{KnetArray{Float32,2},Array{Int16,1}}\u001b[1m)\u001b[22m at \u001b[1m./In[13]:2\u001b[22m\n",
      " [15] top-level scope at \u001b[1m./In[15]:7\u001b[22m\n",
      " [16] \u001b[1meval\u001b[22m at \u001b[1m./boot.jl:328\u001b[22m [inlined]\n",
      " [17] \u001b[1msoftscope_include_string\u001b[22m\u001b[1m(\u001b[22m::Module, ::String, ::String\u001b[1m)\u001b[22m at \u001b[1m/home/ec2-user/.julia/packages/SoftGlobalScope/cSbw5/src/SoftGlobalScope.jl:218\u001b[22m\n",
      " [18] \u001b[1mexecute_request\u001b[22m\u001b[1m(\u001b[22m::ZMQ.Socket, ::IJulia.Msg\u001b[1m)\u001b[22m at \u001b[1m/home/ec2-user/.julia/packages/IJulia/gI2uA/src/execute_request.jl:67\u001b[22m\n",
      " [19] \u001b[1m#invokelatest#1\u001b[22m at \u001b[1m./essentials.jl:742\u001b[22m [inlined]\n",
      " [20] \u001b[1minvokelatest\u001b[22m at \u001b[1m./essentials.jl:741\u001b[22m [inlined]\n",
      " [21] \u001b[1meventloop\u001b[22m\u001b[1m(\u001b[22m::ZMQ.Socket\u001b[1m)\u001b[22m at \u001b[1m/home/ec2-user/.julia/packages/IJulia/gI2uA/src/eventloop.jl:8\u001b[22m\n",
      " [22] \u001b[1m(::getfield(IJulia, Symbol(\"##15#18\")))\u001b[22m\u001b[1m(\u001b[22m\u001b[1m)\u001b[22m at \u001b[1m./task.jl:259\u001b[22m\n"
     ]
    },
    {
     "ename": "BoundsError",
     "evalue": "BoundsError: attempt to access 49-element UnitRange{Int32} at index [0]",
     "output_type": "error",
     "traceback": [
      "BoundsError: attempt to access 49-element UnitRange{Int32} at index [0]",
      "",
      "Stacktrace:",
      " [1] #differentiate#3(::Base.Iterators.Pairs{Union{},Union{},Tuple{},NamedTuple{(),Tuple{}}}, ::Function, ::Function) at /home/ec2-user/.julia/packages/AutoGrad/KsPMr/src/core.jl:148",
      " [2] differentiate at /home/ec2-user/.julia/packages/AutoGrad/KsPMr/src/core.jl:135 [inlined]",
      " [3] #sgdupdate!#30(::Float64, ::Function, ::Linear, ::Tuple{KnetArray{Float32,2},Array{Int16,1}}) at ./In[13]:2",
      " [4] sgdupdate!(::Linear, ::Tuple{KnetArray{Float32,2},Array{Int16,1}}) at ./In[13]:2",
      " [5] top-level scope at ./In[15]:7"
     ]
    }
   ],
   "source": [
    "#for b in bitches[80:150]\n",
    "   for s in corpus #b\n",
    "        if length(s)>2\n",
    "            println(s.word)\n",
    "            rm = createrelmatrix(s)\n",
    "            println(size(rm))\n",
    "            loss = sgdupdate!(model, (rm, s.head))\n",
    "            println(loss) \n",
    "        end\n",
    "    end \n",
    "    #sleep(10)\n",
    "#end"
   ]
  },
  {
   "cell_type": "code",
   "execution_count": null,
   "metadata": {},
   "outputs": [],
   "source": []
  }
 ],
 "metadata": {
  "@webio": {
   "lastCommId": null,
   "lastKernelId": null
  },
  "kernelspec": {
   "display_name": "Julia 1.1.0",
   "language": "julia",
   "name": "julia-1.1"
  },
  "language_info": {
   "file_extension": ".jl",
   "mimetype": "application/julia",
   "name": "julia",
   "version": "1.1.0"
  }
 },
 "nbformat": 4,
 "nbformat_minor": 2
}
