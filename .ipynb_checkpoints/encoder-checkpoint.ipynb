{
 "cells": [
  {
   "cell_type": "code",
   "execution_count": 3,
   "metadata": {
    "collapsed": true,
    "scrolled": false
   },
   "outputs": [],
   "source": [
    "using JLD,JLD2,Knet\n",
    "using Base.Iterators: flatten"
   ]
  },
  {
   "cell_type": "code",
   "execution_count": 4,
   "metadata": {},
   "outputs": [
    {
     "name": "stderr",
     "output_type": "stream",
     "text": [
      "WARNING: redefining constant UPOSTAG\n",
      "WARNING: redefining constant XPOSTAG\n",
      "WARNING: redefining constant FEATS\n",
      "WARNING: redefining constant UDEPREL\n"
     ]
    },
    {
     "data": {
      "text/plain": [
       "fillvecs! (generic function with 1 method)"
      ]
     },
     "execution_count": 4,
     "metadata": {},
     "output_type": "execute_result"
    }
   ],
   "source": [
    "include(\"types.jl\")\n",
    "include(\"pre_processing.jl\")\n",
    "include(\"encoder_utils.jl\")"
   ]
  },
  {
   "cell_type": "code",
   "execution_count": 5,
   "metadata": {},
   "outputs": [
    {
     "name": "stderr",
     "output_type": "stream",
     "text": [
      "┌ Warning: `getval` is deprecated, use `value` instead.\n",
      "│   caller = #lmloss#25(::Array{Float64,1}, ::Function, ::Array{Array{Float32,2},1}, ::Array{Array{Int64,1},1}, ::Array{Array{Float32,1},1}, ::Array{Any,1}, ::Array{Any,1}) at encoder_utils.jl:59\n",
      "└ @ Main /home/ilayda/GBDP/encoder_utils.jl:59\n"
     ]
    }
   ],
   "source": [
    "d = JLD.load(\"pretrained_model.jld2\")\n",
    "v = create_vocab(d)\n",
    "corpus = load_conllu(\"tr_imst-ud-train.conllu\",v)\n",
    "wmodel = makewmodel(d)\n",
    "fillvecs!(wmodel, corpus, v)"
   ]
  },
  {
   "cell_type": "code",
   "execution_count": 6,
   "metadata": {},
   "outputs": [
    {
     "data": {
      "text/plain": [
       "3685-element Array{Any,1}:\n",
       " Sanal parçacıklar sa bunların hiçbirini yapamazlar .                                                                                                                                                                                                                   \n",
       " Ona her şeyimi verdim .                                                                                                                                                                                                                                                \n",
       " Karşısında , pantolonu dizlerine dek ıslak , önlük torbası ham eriklerle dolu İbrahim dikiliyordu .                                                                                                                                                                    \n",
       " Nereden biliyorsunuz .                                                                                                                                                                                                                                                 \n",
       " Aradığımı Buldum Sandım .                                                                                                                                                                                                                                              \n",
       " Kahveleri bende içelim .                                                                                                                                                                                                                                               \n",
       " Ne diyeceğimi bilemedim .                                                                                                                                                                                                                                              \n",
       " Kanamıyordu ...                                                                                                                                                                                                                                                        \n",
       " Süpürgen nerede .                                                                                                                                                                                                                                                      \n",
       " Bir taksi bulduk .                                                                                                                                                                                                                                                     \n",
       " Mebrure birden heyecanlanmıştı .                                                                                                                                                                                                                                       \n",
       " \" Burada ki üst düzey görüşmelerimizde turizm için ellerinden geleni yapacaklarını söylediler .                                                                                                                                                                        \n",
       " Gel bak , sana evi göstereyim .                                                                                                                                                                                                                                        \n",
       " ⋮                                                                                                                                                                                                                                                                      \n",
       " - Bu senin şalın mış .                                                                                                                                                                                                                                                 \n",
       " Bu kuruluşların ciro büyüklüklerine göre yaklaşık elli trilyon luk bir gelir sağlanacak .                                                                                                                                                                              \n",
       " Bartın gecesinden soğuk bir yel esmeye başlamıştı .                                                                                                                                                                                                                    \n",
       " Yerleştir yerleştirme , devşir devşirme sınavları falan filan yok ...                                                                                                                                                                                                  \n",
       " Rolü başkasına verdik dediler .                                                                                                                                                                                                                                        \n",
       " Derken , ev sahibi beyan değiştiriyor .                                                                                                                                                                                                                                \n",
       " MART'I BEKLİYORLARDI .                                                                                                                                                                                                                                                 \n",
       " Almanya'dan parlamento heyeti gelmiş .                                                                                                                                                                                                                                 \n",
       " Üç ocak lı demirci dükkanı deyip geçme , fayton imalatından zengin bile olmuşlar .                                                                                                                                                                                     \n",
       " Geçici bütçe tasarısı , Meclis'e sunuldu .                                                                                                                                                                                                                             \n",
       " Oysa , beyaz peynirin böyle bir efsanesi olsa .                                                                                                                                                                                                                        \n",
       " Erdoğan'ın milletvekili ve başbakan olmasını sağlayacak düzenlemede , Sezer'in karşı çıktığı , doğrudan başbakanlık getirecek yüzdokuz . madde yerine ara seçimi düzenleyen yetmişsekiz . madde üzerinde değişiklik yapacaklarını belirten Şahin , şu mesajı verdi : . "
      ]
     },
     "execution_count": 6,
     "metadata": {},
     "output_type": "execute_result"
    }
   ],
   "source": [
    "corpus"
   ]
  },
  {
   "cell_type": "code",
   "execution_count": 7,
   "metadata": {},
   "outputs": [
    {
     "data": {
      "text/plain": [
       "Sanal parçacıklar sa bunların hiçbirini yapamazlar . "
      ]
     },
     "execution_count": 7,
     "metadata": {},
     "output_type": "execute_result"
    }
   ],
   "source": [
    "s = corpus[1]"
   ]
  },
  {
   "cell_type": "code",
   "execution_count": 8,
   "metadata": {},
   "outputs": [
    {
     "data": {
      "text/plain": [
       "ExtendedVocab(Dict(\"Abr\"=>26,\"PCNom\"=>18,\"Dup\"=>27,\"PCIns\"=>30,\"Since\"=>32,\"Postp\"=>31,\"Interj\"=>24,\"Ques\"=>14,\"Demons\"=>5,\"NAdj\"=>11…), Dict(\"VerbForm=Vnoun\"=>43,\"Person=3\"=>4,\"Case=Acc\"=>11,\"Number=Sing\"=>7,\"Mood=Nec\"=>54,\"Aspect=Prog\"=>27,\"Person[psor]=3\"=>13,\"VerbForm=Conv\"=>44,\"Aspect=Hab\"=>15,\"Voice=CauPass\"=>46…), Vocab(Dict('\\x00\\x00\\x00\\x42'=>37,'\\x00\\x00\\x20\\x1d'=>116,'\\x00\\x00\\x00\\x58'=>87,'\\x00\\x00\\x20\\x44'=>110,'\\x00\\x00\\x00\\x56'=>59,'\\x00\\x00\\x00\\xd7'=>107,'\\x00\\x00\\x00\\x48'=>29,'\\x00\\x00\\x00\\x75'=>5,'\\x00\\x00\\x00\\x50'=>11,'\\x00\\x00\\x00\\x7a'=>61…), Dict(\"çıkaramayacaklarını\"=>7805,\"apartmanın\"=>13565,\"Güreş\"=>2733,\"karıştı\"=>1790,\"ikibin'de\"=>7225,\"formülü\"=>4676,\"ANAP'ı\"=>4506,\"ihmal\"=>5116,\"Virgülden\"=>9483,\"il\"=>6725…), Dict(\"null\"=>8668,\"Secure\"=>7932,\"Puppy\"=>9040,\"progression\"=>11757,\"gathered\"=>6954,\"Core\"=>3600,\"lovers\"=>8832,\"underground\"=>9093,\"backup\"=>5047,\"caught\"=>2501…), \"<s>\", \"</s>\", \"<unk>\", '\\x00\\x00\\x00\\x12', '\\x00\\x00\\x00\\x13', '\\x00\\x00\\x00\\x11', Dict(\"NUM\"=>0x09,\"DET\"=>0x06,\"X\"=>0x11,\"VERB\"=>0x10,\"PROPN\"=>0x0c,\"ADV\"=>0x03,\"ADJ\"=>0x01,\"AUX\"=>0x04,\"PUNCT\"=>0x0d,\"PRON\"=>0x0b…), Dict(\"reparandum\"=>0x23,\"root\"=>0x01,\"vocative\"=>0x24,\"csubj\"=>0x0f,\"advmod\"=>0x04,\"expl\"=>0x14,\"iobj\"=>0x18,\"mark\"=>0x1a,\"advcl\"=>0x03,\"nmod\"=>0x1b…)))"
      ]
     },
     "execution_count": 8,
     "metadata": {},
     "output_type": "execute_result"
    }
   ],
   "source": [
    "ev = extend_vocab!(v, corpus)"
   ]
  },
  {
   "cell_type": "code",
   "execution_count": 9,
   "metadata": {},
   "outputs": [],
   "source": [
    "createfeatvec!(corpus)"
   ]
  },
  {
   "cell_type": "code",
   "execution_count": 10,
   "metadata": {},
   "outputs": [],
   "source": [
    "padfeatvec!(corpus)"
   ]
  },
  {
   "cell_type": "code",
   "execution_count": 11,
   "metadata": {},
   "outputs": [
    {
     "data": {
      "text/plain": [
       "mlp (generic function with 1 method)"
      ]
     },
     "execution_count": 11,
     "metadata": {},
     "output_type": "execute_result"
    }
   ],
   "source": [
    "function mlp(w,x)\n",
    "    for i=1:2:length(w)-2\n",
    "        x = relu.(w[i]*x .+ w[i+1])\n",
    "    end\n",
    "    return w[end-1]*x .+ w[end]\n",
    "end"
   ]
  },
  {
   "cell_type": "code",
   "execution_count": 12,
   "metadata": {},
   "outputs": [
    {
     "data": {
      "text/plain": [
       "create_input_matrix (generic function with 1 method)"
      ]
     },
     "execution_count": 12,
     "metadata": {},
     "output_type": "execute_result"
    }
   ],
   "source": [
    "function create_input_matrix(corpus)\n",
    "    input = []\n",
    "    for i in 1:length(corpus)\n",
    "        for j in 1:length(corpus[i].word)\n",
    "            push!(input,corpus[i].cavec[j])\n",
    "        end\n",
    "    end\n",
    "    return transpose(hcat(input...))\n",
    "end"
   ]
  },
  {
   "cell_type": "code",
   "execution_count": 13,
   "metadata": {},
   "outputs": [
    {
     "data": {
      "text/plain": [
       "37918×965 LinearAlgebra.Transpose{Real,Array{Real,2}}:\n",
       " -1.26117e-44  -0.00206863   -0.348087   …   0   0   0   0   0  0  0  0  0  0\n",
       " -0.0          -0.000105809  -0.999725       0   0   0   0   0  0  0  0  0  0\n",
       " -1.43166e-26  -0.96306      -0.891741       4   8   0   0   0  0  0  0  0  0\n",
       " -0.0          -0.0692767     0.126127      10   0   0   0   0  0  0  0  0  0\n",
       " -0.0          -0.000671956  -0.999997       4  13  14   0   0  0  0  0  0  0\n",
       " -0.0          -0.0170195    -0.99987    …   4  17   8   0   0  0  0  0  0  0\n",
       " -4.85072e-15   0.631611      0.73056        0   0   0   0   0  0  0  0  0  0\n",
       " -2.69957e-40  -0.994933     -0.779651      19   0   0   0   0  0  0  0  0  0\n",
       " -2.69957e-40  -0.994933     -0.779651       0   0   0   0   0  0  0  0  0  0\n",
       " -0.0          -0.00137349   -0.944697       4  20   0   0   0  0  0  0  0  0\n",
       " -0.0          -0.00137349   -0.944697   …  22  23  24   0   0  0  0  0  0  0\n",
       " -4.85072e-15   0.631611      0.73056        0   0   0   0   0  0  0  0  0  0\n",
       " -0.0          -0.0170195    -0.99987        4  13   0   0   0  0  0  0  0  0\n",
       "  ⋮                                      ⋱   ⋮                  ⋮            \n",
       " -1.26117e-44  -0.00206863   -0.348087       0   0   0   0   0  0  0  0  0  0\n",
       " -0.0          -0.0692767     0.126127       4  13   0   0   0  0  0  0  0  0\n",
       " -0.0          -0.0170195    -0.99987        0   0   0   0   0  0  0  0  0  0\n",
       " -0.0          -2.97675e-5    0.0428736     37  13  23  33  31  0  0  0  0  0\n",
       " -0.0          -0.0692767     0.126127   …   8  31  45   0   0  0  0  0  0  0\n",
       " -1.26117e-44  -0.00206863   -0.348087       0   0   0   0   0  0  0  0  0  0\n",
       " -4.85072e-15   0.631611      0.73056        0   0   0   0   0  0  0  0  0  0\n",
       " -1.43166e-26  -0.96306      -0.891741       0   0   0   0   0  0  0  0  0  0\n",
       " -0.0          -0.00137349   -0.944697       0   0   0   0   0  0  0  0  0  0\n",
       " -1.26117e-44  -0.00206863   -0.348087   …   4  23  24   0   0  0  0  0  0  0\n",
       " -4.85072e-15   0.631611      0.73056        0   0   0   0   0  0  0  0  0  0\n",
       " -4.85072e-15   0.631611      0.73056        0   0   0   0   0  0  0  0  0  0"
      ]
     },
     "execution_count": 13,
     "metadata": {},
     "output_type": "execute_result"
    }
   ],
   "source": [
    "input = create_input_matrix(corpus)"
   ]
  },
  {
   "cell_type": "code",
   "execution_count": 14,
   "metadata": {},
   "outputs": [
    {
     "data": {
      "text/plain": [
       "findmaxnumofwords (generic function with 1 method)"
      ]
     },
     "execution_count": 14,
     "metadata": {},
     "output_type": "execute_result"
    }
   ],
   "source": [
    "function findmaxnumofwords(corpus)\n",
    "    max_ = 0\n",
    "    for i in 1:length(corpus)\n",
    "        if length(corpus[i].word) > max_\n",
    "            max_ = length(corpus[i].word)\n",
    "        end\n",
    "    end\n",
    "    return max_\n",
    "end"
   ]
  },
  {
   "cell_type": "code",
   "execution_count": 15,
   "metadata": {},
   "outputs": [
    {
     "ename": "UndefVarError",
     "evalue": "UndefVarError: tranpose not defined",
     "output_type": "error",
     "traceback": [
      "UndefVarError: tranpose not defined",
      "",
      "Stacktrace:",
      " [1] top-level scope at In[15]:1"
     ]
    }
   ],
   "source": [
    "tranpose(input)"
   ]
  },
  {
   "cell_type": "code",
   "execution_count": 16,
   "metadata": {},
   "outputs": [
    {
     "data": {
      "text/plain": [
       "37"
      ]
     },
     "execution_count": 16,
     "metadata": {},
     "output_type": "execute_result"
    }
   ],
   "source": [
    "totalnumofwords = size(input,1)\n",
    "totalnumoffeatures = size(input,2)\n",
    "#max number of words that can be head in a sentence, number of columns for head output\n",
    "numofhead = findmaxnumofwords(corpus)\n",
    "\n",
    "numofdeprel = length(keys(UDEPREL))"
   ]
  },
  {
   "cell_type": "code",
   "execution_count": 17,
   "metadata": {},
   "outputs": [
    {
     "data": {
      "text/plain": [
       "37918"
      ]
     },
     "execution_count": 17,
     "metadata": {},
     "output_type": "execute_result"
    }
   ],
   "source": [
    "totalnumofwords"
   ]
  },
  {
   "cell_type": "code",
   "execution_count": 18,
   "metadata": {},
   "outputs": [
    {
     "data": {
      "text/plain": [
       "Linear([-0.00354262 0.0171206 … 0.00814133 0.000962559; 0.0111905 0.00657063 … 0.0110165 -0.000714852; … ; -0.00442695 -0.00612499 … -0.00066983 0.00450054; 0.00338266 -0.00967932 … -0.000593275 0.00128743], [0.0, 0.0, 0.0, 0.0, 0.0, 0.0, 0.0, 0.0, 0.0, 0.0  …  0.0, 0.0, 0.0, 0.0, 0.0, 0.0, 0.0, 0.0, 0.0, 0.0])"
      ]
     },
     "execution_count": 18,
     "metadata": {},
     "output_type": "execute_result"
    }
   ],
   "source": [
    "struct Linear; w; b; end\n",
    "Linear(i::Int,o::Int,scale=0.01) = Linear(scale * randn(o,i), zeros(o))\n",
    "batchsize = totalnumoffeatures\n",
    "# This one allows instances to be defined using input and output sizes:\n",
    "model_head = Linear(totalnumoffeatures,numofhead)"
   ]
  },
  {
   "cell_type": "code",
   "execution_count": 19,
   "metadata": {},
   "outputs": [
    {
     "data": {
      "text/plain": [
       "createoutputheadmatrix (generic function with 1 method)"
      ]
     },
     "execution_count": 19,
     "metadata": {},
     "output_type": "execute_result"
    }
   ],
   "source": [
    "function createoutputheadmatrix(corpus)\n",
    "    outputhead = []\n",
    "    for i in 1:length(corpus)\n",
    "        push!(outputhead, corpus[i].head)\n",
    "    end\n",
    "    return vcat(outputhead...)\n",
    "end"
   ]
  },
  {
   "cell_type": "code",
   "execution_count": 20,
   "metadata": {},
   "outputs": [
    {
     "data": {
      "text/plain": [
       "37918-element Array{Int16,1}:\n",
       "  2\n",
       "  6\n",
       "  2\n",
       "  5\n",
       "  6\n",
       "  0\n",
       "  6\n",
       "  4\n",
       "  4\n",
       "  2\n",
       "  0\n",
       "  4\n",
       " 14\n",
       "  ⋮\n",
       " 23\n",
       " 27\n",
       " 29\n",
       " 27\n",
       " 30\n",
       " 33\n",
       " 33\n",
       " 33\n",
       "  0\n",
       " 33\n",
       " 33\n",
       " 33"
      ]
     },
     "execution_count": 20,
     "metadata": {},
     "output_type": "execute_result"
    }
   ],
   "source": [
    "outputhead = createoutputheadmatrix(corpus)"
   ]
  },
  {
   "cell_type": "code",
   "execution_count": 21,
   "metadata": {},
   "outputs": [],
   "source": [
    "(m::Linear)(x) = m.w * x  .+ m.b"
   ]
  },
  {
   "cell_type": "code",
   "execution_count": 22,
   "metadata": {},
   "outputs": [
    {
     "data": {
      "text/plain": [
       "57×37918 Array{Float64,2}:\n",
       " -0.116303    -0.143309    -0.0302629  …  -0.332391    -0.314228  \n",
       "  0.0999228    0.197203     0.100103       0.40601      0.401294  \n",
       "  0.144705     0.119923     0.119261       0.123473     0.105809  \n",
       " -0.0737682   -0.156189    -0.0964071     -0.0401082   -0.0504987 \n",
       " -0.00517487   0.0266543   -0.16986        0.0094689    0.00200721\n",
       " -0.0155143   -0.0587766   -0.035449   …  -0.0319032   -0.0730715 \n",
       "  0.0146146   -0.118453    -0.211064      -0.260806    -0.235163  \n",
       " -0.00277668  -0.0715634    0.236314      -0.168115    -0.166047  \n",
       "  0.0705607    0.250053    -0.0932574      0.430779     0.412236  \n",
       "  0.00604466   0.0736774    0.0639426     -0.00883598  -0.010296  \n",
       " -0.140844    -0.10996      0.0512193  …   0.00460277   0.0487665 \n",
       "  0.153223     0.18696      0.0717883      0.275651     0.279779  \n",
       "  0.129822     0.41408      0.143923       0.343985     0.376798  \n",
       "  ⋮                                    ⋱                          \n",
       "  0.0435424    0.0610618    0.0834931  …   0.00774959   0.0126354 \n",
       "  0.0645018    0.0125241    0.0251113      0.14695      0.15538   \n",
       "  0.124081     0.148648     0.0181579     -0.0216555   -0.0452289 \n",
       "  0.0632213   -0.0186318   -0.0371689     -0.0894311   -0.109969  \n",
       " -0.0705121    0.00643469   0.0134937     -0.0392008   -0.0310973 \n",
       " -0.0417789   -0.120249     0.0498073  …  -0.071525    -0.0941359 \n",
       "  0.23681      0.229753     0.257955       0.23402      0.219953  \n",
       "  0.0080596    0.0357197    0.197823       0.118948     0.122948  \n",
       "  0.0295043    0.0371727    0.208412       0.11219      0.123034  \n",
       " -0.172506    -0.170852    -0.261288      -0.111464    -0.124232  \n",
       "  0.0823252    0.0933963   -0.0807572  …  -0.319566    -0.303936  \n",
       " -0.0183932   -0.0999498   -0.203346      -0.0159698   -0.0345064 "
      ]
     },
     "execution_count": 22,
     "metadata": {},
     "output_type": "execute_result"
    }
   ],
   "source": [
    "ypred = model_head(transpose(input))"
   ]
  },
  {
   "cell_type": "code",
   "execution_count": 23,
   "metadata": {},
   "outputs": [
    {
     "data": {
      "text/plain": [
       "0.012975367899150799"
      ]
     },
     "execution_count": 23,
     "metadata": {},
     "output_type": "execute_result"
    }
   ],
   "source": [
    "accuracy(model_head,transpose(input),outputhead)"
   ]
  },
  {
   "cell_type": "code",
   "execution_count": 24,
   "metadata": {},
   "outputs": [
    {
     "data": {
      "text/plain": [
       "nll (generic function with 1 method)"
      ]
     },
     "execution_count": 24,
     "metadata": {},
     "output_type": "execute_result"
    }
   ],
   "source": [
    "function nll(scores, y)\n",
    "    expscores = exp.(scores)\n",
    "    probabilities = expscores ./ sum(expscores, dims=1)\n",
    "    answerprobs = (probabilities[y[i],i] for i in 1:length(y))\n",
    "    mean(-log.(answerprobs))\n",
    "end"
   ]
  },
  {
   "cell_type": "code",
   "execution_count": 25,
   "metadata": {},
   "outputs": [
    {
     "data": {
      "text/plain": [
       "4.12204938547107"
      ]
     },
     "execution_count": 25,
     "metadata": {},
     "output_type": "execute_result"
    }
   ],
   "source": [
    "(m::Linear)(x, y) = Knet.nll(m(x), y)\n",
    "model_head(transpose(input),outputhead)"
   ]
  },
  {
   "cell_type": "code",
   "execution_count": 26,
   "metadata": {},
   "outputs": [
    {
     "data": {
      "text/plain": [
       "sgd (generic function with 1 method)"
      ]
     },
     "execution_count": 26,
     "metadata": {},
     "output_type": "execute_result"
    }
   ],
   "source": [
    "function sgdupdate!(func, args; lr=0.1)\n",
    "    fval = @diff func(args...)\n",
    "    for param in params(fval)\n",
    "        ∇param = grad(fval, param)\n",
    "        param .-= lr * ∇param\n",
    "    end\n",
    "    return value(fval)\n",
    "end\n",
    "\n",
    "sgd(func, data; lr=0.1) = \n",
    "    (sgdupdate!(func, args; lr=lr) for args in data)"
   ]
  },
  {
   "cell_type": "code",
   "execution_count": 27,
   "metadata": {},
   "outputs": [
    {
     "data": {
      "text/plain": [
       "trainresults (generic function with 1 method)"
      ]
     },
     "execution_count": 27,
     "metadata": {},
     "output_type": "execute_result"
    }
   ],
   "source": [
    "function trainresults(model,dtrn)\n",
    "        # This will take every nth element of an iterator:\n",
    "    takeevery(n,itr) = (x for (i,x) in enumerate(itr) if i % n == 1)\n",
    "        # We will use it to snapshot model and results every epoch (i.e. 600 iterations)\n",
    "    lin = ((deepcopy(model),model(dtrn))\n",
    "        # (progress displays a bar like progress! but returns an iterator, progress! returns nothing)\n",
    "        for x in takeevery(length(dtrn), progress(sgd(model,repeat(dtrn,1)))))\n",
    "        # Save it as a 5x100 array\n",
    "        lin = reshape(collect(flatten(lin)),(2,:))\n",
    "    return lin\n",
    "end"
   ]
  },
  {
   "cell_type": "code",
   "execution_count": null,
   "metadata": {},
   "outputs": [
    {
     "name": "stdout",
     "output_type": "stream",
     "text": [
      "1.72%┣▌                             ┫ 629741/36590870 [13:11/12:45:37, 796.55i/s]"
     ]
    }
   ],
   "source": [
    "lin = trainresults(model_head,transpose(input));"
   ]
  },
  {
   "cell_type": "code",
   "execution_count": null,
   "metadata": {
    "collapsed": true
   },
   "outputs": [],
   "source": []
  }
 ],
 "metadata": {
  "kernelspec": {
   "display_name": "Julia 1.1.0",
   "language": "julia",
   "name": "julia-1.1"
  },
  "language_info": {
   "file_extension": ".jl",
   "mimetype": "application/julia",
   "name": "julia",
   "version": "1.1.0"
  }
 },
 "nbformat": 4,
 "nbformat_minor": 2
}
