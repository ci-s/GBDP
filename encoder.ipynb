{
 "cells": [
  {
   "cell_type": "code",
   "execution_count": 1,
   "metadata": {
    "scrolled": false
   },
   "outputs": [],
   "source": [
    "using JLD,JLD2,Knet"
   ]
  },
  {
   "cell_type": "code",
   "execution_count": 2,
   "metadata": {},
   "outputs": [
    {
     "name": "stderr",
     "output_type": "stream",
     "text": [
      "WARNING: redefining constant UPOSTAG\n",
      "WARNING: redefining constant UDEPREL\n"
     ]
    },
    {
     "data": {
      "text/plain": [
       "minibatch (generic function with 1 method)"
      ]
     },
     "execution_count": 2,
     "metadata": {},
     "output_type": "execute_result"
    }
   ],
   "source": [
    "include(\"types.jl\")\n",
    "include(\"pre_processing.jl\")"
   ]
  },
  {
   "cell_type": "code",
   "execution_count": 3,
   "metadata": {},
   "outputs": [
    {
     "data": {
      "text/plain": [
       "Dict{String,Any} with 13 entries:\n",
       "  \"back\"       => Any[Float32[1.70814 0.787587 … -0.636378 -1.76298; 4.32346 5.…\n",
       "  \"word_vocab\" => Dict{AbstractString,Int64}(\"null\"=>8668,\"Secure\"=>7932,\"Puppy…\n",
       "  \"char_vocab\" => Dict('\\x00\\x00\\x00\\x42'=>37,'\\x00\\x00\\x20\\x1d'=>116,'\\x00\\x00…\n",
       "  \"eowchar\"    => '\\x00\\x00\\x00\\x13'\n",
       "  \"sowchar\"    => '\\x00\\x00\\x00\\x12'\n",
       "  \"forw\"       => Any[Float32[1.47578 0.055072 … -0.2823 -1.58338; -1.95253 -0.…\n",
       "  \"eosword\"    => \"</s>\"\n",
       "  \"sosword\"    => \"<s>\"\n",
       "  \"soft\"       => Array{Float32,2}[[-0.303084 -1.18525 … -0.281071 -0.2053; -0.…\n",
       "  \"unkword\"    => \"<unk>\"\n",
       "  \"cembed\"     => Float32[0.593419 0.190279 … 0.11003 -0.000173569; -0.236287 0…\n",
       "  \"char\"       => Any[Float32[0.0708071 -0.456333 … 0.557484 0.094816; -1.61625…\n",
       "  \"unkchar\"    => '\\x00\\x00\\x00\\x11'"
      ]
     },
     "execution_count": 3,
     "metadata": {},
     "output_type": "execute_result"
    }
   ],
   "source": [
    "d = JLD.load(\"pretrained_model.jld2\")"
   ]
  },
  {
   "cell_type": "code",
   "execution_count": 4,
   "metadata": {},
   "outputs": [
    {
     "data": {
      "text/plain": [
       "Vocab(Dict('\\x00\\x00\\x00\\x42'=>37,'\\x00\\x00\\x20\\x1d'=>116,'\\x00\\x00\\x00\\x58'=>87,'\\x00\\x00\\x20\\x44'=>110,'\\x00\\x00\\x00\\x56'=>59,'\\x00\\x00\\x00\\xd7'=>107,'\\x00\\x00\\x00\\x48'=>29,'\\x00\\x00\\x00\\x75'=>5,'\\x00\\x00\\x00\\x50'=>11,'\\x00\\x00\\x00\\x7a'=>61…), Dict{String,Int64}(), Dict(\"null\"=>8668,\"Secure\"=>7932,\"Puppy\"=>9040,\"progression\"=>11757,\"gathered\"=>6954,\"Core\"=>3600,\"lovers\"=>8832,\"underground\"=>9093,\"backup\"=>5047,\"caught\"=>2501…), \"<s>\", \"</s>\", \"<unk>\", '\\x00\\x00\\x00\\x12', '\\x00\\x00\\x00\\x13', '\\x00\\x00\\x00\\x11', Dict(\"NUM\"=>0x09,\"DET\"=>0x06,\"X\"=>0x11,\"VERB\"=>0x10,\"PROPN\"=>0x0c,\"ADV\"=>0x03,\"ADJ\"=>0x01,\"AUX\"=>0x04,\"PUNCT\"=>0x0d,\"PRON\"=>0x0b…), Dict(\"reparandum\"=>0x23,\"root\"=>0x01,\"vocative\"=>0x24,\"csubj\"=>0x0f,\"advmod\"=>0x04,\"expl\"=>0x14,\"iobj\"=>0x18,\"mark\"=>0x1a,\"advcl\"=>0x03,\"nmod\"=>0x1b…))"
      ]
     },
     "execution_count": 4,
     "metadata": {},
     "output_type": "execute_result"
    }
   ],
   "source": [
    "v = create_vocab(d)"
   ]
  },
  {
   "cell_type": "code",
   "execution_count": 5,
   "metadata": {
    "scrolled": true
   },
   "outputs": [
    {
     "data": {
      "text/plain": [
       "3685-element Array{Any,1}:\n",
       " Sanal parçacıklar sa bunların hiçbirini yapamazlar .                                                                                                                                                                                                                   \n",
       " Ona her şeyimi verdim .                                                                                                                                                                                                                                                \n",
       " Karşısında , pantolonu dizlerine dek ıslak , önlük torbası ham eriklerle dolu İbrahim dikiliyordu .                                                                                                                                                                    \n",
       " Nereden biliyorsunuz .                                                                                                                                                                                                                                                 \n",
       " Aradığımı Buldum Sandım .                                                                                                                                                                                                                                              \n",
       " Kahveleri bende içelim .                                                                                                                                                                                                                                               \n",
       " Ne diyeceğimi bilemedim .                                                                                                                                                                                                                                              \n",
       " Kanamıyordu ...                                                                                                                                                                                                                                                        \n",
       " Süpürgen nerede .                                                                                                                                                                                                                                                      \n",
       " Bir taksi bulduk .                                                                                                                                                                                                                                                     \n",
       " Mebrure birden heyecanlanmıştı .                                                                                                                                                                                                                                       \n",
       " \" Burada ki üst düzey görüşmelerimizde turizm için ellerinden geleni yapacaklarını söylediler .                                                                                                                                                                        \n",
       " Gel bak , sana evi göstereyim .                                                                                                                                                                                                                                        \n",
       " ⋮                                                                                                                                                                                                                                                                      \n",
       " - Bu senin şalın mış .                                                                                                                                                                                                                                                 \n",
       " Bu kuruluşların ciro büyüklüklerine göre yaklaşık elli trilyon luk bir gelir sağlanacak .                                                                                                                                                                              \n",
       " Bartın gecesinden soğuk bir yel esmeye başlamıştı .                                                                                                                                                                                                                    \n",
       " Yerleştir yerleştirme , devşir devşirme sınavları falan filan yok ...                                                                                                                                                                                                  \n",
       " Rolü başkasına verdik dediler .                                                                                                                                                                                                                                        \n",
       " Derken , ev sahibi beyan değiştiriyor .                                                                                                                                                                                                                                \n",
       " MART'I BEKLİYORLARDI .                                                                                                                                                                                                                                                 \n",
       " Almanya'dan parlamento heyeti gelmiş .                                                                                                                                                                                                                                 \n",
       " Üç ocak lı demirci dükkanı deyip geçme , fayton imalatından zengin bile olmuşlar .                                                                                                                                                                                     \n",
       " Geçici bütçe tasarısı , Meclis'e sunuldu .                                                                                                                                                                                                                             \n",
       " Oysa , beyaz peynirin böyle bir efsanesi olsa .                                                                                                                                                                                                                        \n",
       " Erdoğan'ın milletvekili ve başbakan olmasını sağlayacak düzenlemede , Sezer'in karşı çıktığı , doğrudan başbakanlık getirecek yüzdokuz . madde yerine ara seçimi düzenleyen yetmişsekiz . madde üzerinde değişiklik yapacaklarını belirten Şahin , şu mesajı verdi : . "
      ]
     },
     "execution_count": 5,
     "metadata": {},
     "output_type": "execute_result"
    }
   ],
   "source": [
    "corpus = load_conllu(\"tr_imst-ud-train.conllu\",v)"
   ]
  },
  {
   "cell_type": "code",
   "execution_count": 61,
   "metadata": {},
   "outputs": [
    {
     "data": {
      "text/plain": [
       "Sanal parçacıklar sa bunların hiçbirini yapamazlar . "
      ]
     },
     "execution_count": 61,
     "metadata": {},
     "output_type": "execute_result"
    }
   ],
   "source": [
    "s = corpus[1]"
   ]
  },
  {
   "cell_type": "code",
   "execution_count": 62,
   "metadata": {},
   "outputs": [
    {
     "data": {
      "text/plain": [
       "7-element Array{String,1}:\n",
       " \"Sanal\"      \n",
       " \"parçacıklar\"\n",
       " \"sa\"         \n",
       " \"bunların\"   \n",
       " \"hiçbirini\"  \n",
       " \"yapamazlar\" \n",
       " \".\"          "
      ]
     },
     "execution_count": 62,
     "metadata": {},
     "output_type": "execute_result"
    }
   ],
   "source": [
    "s.word"
   ]
  },
  {
   "cell_type": "code",
   "execution_count": 65,
   "metadata": {},
   "outputs": [
    {
     "data": {
      "text/plain": [
       "7-element Array{UInt8,1}:\n",
       " 0x01\n",
       " 0x08\n",
       " 0x04\n",
       " 0x0b\n",
       " 0x0b\n",
       " 0x10\n",
       " 0x0d"
      ]
     },
     "execution_count": 65,
     "metadata": {},
     "output_type": "execute_result"
    }
   ],
   "source": [
    "s.postag"
   ]
  },
  {
   "cell_type": "code",
   "execution_count": 66,
   "metadata": {},
   "outputs": [
    {
     "data": {
      "text/plain": [
       "7-element Array{Any,1}:\n",
       " \"Adj\"   \n",
       " \"Noun\"  \n",
       " \"Zero\"  \n",
       " \"Demons\"\n",
       " \"Quant\" \n",
       " \"Verb\"  \n",
       " \"Punc\"  "
      ]
     },
     "execution_count": 66,
     "metadata": {},
     "output_type": "execute_result"
    }
   ],
   "source": [
    "s.xpostag"
   ]
  },
  {
   "cell_type": "code",
   "execution_count": null,
   "metadata": {},
   "outputs": [],
   "source": []
  }
 ],
 "metadata": {
  "kernelspec": {
   "display_name": "Julia 1.1.0",
   "language": "julia",
   "name": "julia-1.1"
  },
  "language_info": {
   "file_extension": ".jl",
   "mimetype": "application/julia",
   "name": "julia",
   "version": "1.1.0"
  }
 },
 "nbformat": 4,
 "nbformat_minor": 2
}
