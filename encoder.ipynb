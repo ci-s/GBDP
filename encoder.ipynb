{
 "cells": [
  {
   "cell_type": "code",
   "execution_count": 1,
   "metadata": {
    "scrolled": false
   },
   "outputs": [],
   "source": [
    "using JLD,JLD2,Knet"
   ]
  },
  {
   "cell_type": "code",
   "execution_count": 2,
   "metadata": {},
   "outputs": [
    {
     "name": "stderr",
     "output_type": "stream",
     "text": [
      "WARNING: redefining constant UPOSTAG\n",
      "WARNING: redefining constant UDEPREL\n"
     ]
    },
    {
     "data": {
      "text/plain": [
       "minibatch (generic function with 1 method)"
      ]
     },
     "execution_count": 2,
     "metadata": {},
     "output_type": "execute_result"
    }
   ],
   "source": [
    "include(\"types.jl\")\n",
    "include(\"pre_processing.jl\")"
   ]
  },
  {
   "cell_type": "code",
   "execution_count": 3,
   "metadata": {},
   "outputs": [
    {
     "data": {
      "text/plain": [
       "Dict{String,Any} with 13 entries:\n",
       "  \"back\"       => Any[Float32[1.70814 0.787587 … -0.636378 -1.76298; 4.32346 5.…\n",
       "  \"word_vocab\" => Dict{AbstractString,Int64}(\"null\"=>8668,\"Secure\"=>7932,\"Puppy…\n",
       "  \"char_vocab\" => Dict('\\x00\\x00\\x00\\x42'=>37,'\\x00\\x00\\x20\\x1d'=>116,'\\x00\\x00…\n",
       "  \"eowchar\"    => '\\x00\\x00\\x00\\x13'\n",
       "  \"sowchar\"    => '\\x00\\x00\\x00\\x12'\n",
       "  \"forw\"       => Any[Float32[1.47578 0.055072 … -0.2823 -1.58338; -1.95253 -0.…\n",
       "  \"eosword\"    => \"</s>\"\n",
       "  \"sosword\"    => \"<s>\"\n",
       "  \"soft\"       => Array{Float32,2}[[-0.303084 -1.18525 … -0.281071 -0.2053; -0.…\n",
       "  \"unkword\"    => \"<unk>\"\n",
       "  \"cembed\"     => Float32[0.593419 0.190279 … 0.11003 -0.000173569; -0.236287 0…\n",
       "  \"char\"       => Any[Float32[0.0708071 -0.456333 … 0.557484 0.094816; -1.61625…\n",
       "  \"unkchar\"    => '\\x00\\x00\\x00\\x11'"
      ]
     },
     "execution_count": 3,
     "metadata": {},
     "output_type": "execute_result"
    }
   ],
   "source": [
    "d = JLD.load(\"pretrained_model.jld2\")"
   ]
  },
  {
   "cell_type": "code",
   "execution_count": 4,
   "metadata": {},
   "outputs": [
    {
     "data": {
      "text/plain": [
       "Vocab(Dict('\\x00\\x00\\x00\\x42'=>37,'\\x00\\x00\\x20\\x1d'=>116,'\\x00\\x00\\x00\\x58'=>87,'\\x00\\x00\\x20\\x44'=>110,'\\x00\\x00\\x00\\x56'=>59,'\\x00\\x00\\x00\\xd7'=>107,'\\x00\\x00\\x00\\x48'=>29,'\\x00\\x00\\x00\\x75'=>5,'\\x00\\x00\\x00\\x50'=>11,'\\x00\\x00\\x00\\x7a'=>61…), Dict{String,Int64}(), Dict(\"null\"=>8668,\"Secure\"=>7932,\"Puppy\"=>9040,\"progression\"=>11757,\"gathered\"=>6954,\"Core\"=>3600,\"lovers\"=>8832,\"underground\"=>9093,\"backup\"=>5047,\"caught\"=>2501…), \"<s>\", \"</s>\", \"<unk>\", '\\x00\\x00\\x00\\x12', '\\x00\\x00\\x00\\x13', '\\x00\\x00\\x00\\x11', Dict(\"NUM\"=>0x09,\"DET\"=>0x06,\"X\"=>0x11,\"VERB\"=>0x10,\"PROPN\"=>0x0c,\"ADV\"=>0x03,\"ADJ\"=>0x01,\"AUX\"=>0x04,\"PUNCT\"=>0x0d,\"PRON\"=>0x0b…), Dict(\"reparandum\"=>0x23,\"root\"=>0x01,\"vocative\"=>0x24,\"csubj\"=>0x0f,\"advmod\"=>0x04,\"expl\"=>0x14,\"iobj\"=>0x18,\"mark\"=>0x1a,\"advcl\"=>0x03,\"nmod\"=>0x1b…))"
      ]
     },
     "execution_count": 4,
     "metadata": {},
     "output_type": "execute_result"
    }
   ],
   "source": [
    "v = create_vocab(d)"
   ]
  },
  {
   "cell_type": "code",
   "execution_count": 5,
   "metadata": {
    "scrolled": true
   },
   "outputs": [
    {
     "data": {
      "text/plain": [
       "3685-element Array{Any,1}:\n",
       " Sanal parçacıklar sa bunların hiçbirini yapamazlar .                                                                                                                                                                                                                   \n",
       " Ona her şeyimi verdim .                                                                                                                                                                                                                                                \n",
       " Karşısında , pantolonu dizlerine dek ıslak , önlük torbası ham eriklerle dolu İbrahim dikiliyordu .                                                                                                                                                                    \n",
       " Nereden biliyorsunuz .                                                                                                                                                                                                                                                 \n",
       " Aradığımı Buldum Sandım .                                                                                                                                                                                                                                              \n",
       " Kahveleri bende içelim .                                                                                                                                                                                                                                               \n",
       " Ne diyeceğimi bilemedim .                                                                                                                                                                                                                                              \n",
       " Kanamıyordu ...                                                                                                                                                                                                                                                        \n",
       " Süpürgen nerede .                                                                                                                                                                                                                                                      \n",
       " Bir taksi bulduk .                                                                                                                                                                                                                                                     \n",
       " Mebrure birden heyecanlanmıştı .                                                                                                                                                                                                                                       \n",
       " \" Burada ki üst düzey görüşmelerimizde turizm için ellerinden geleni yapacaklarını söylediler .                                                                                                                                                                        \n",
       " Gel bak , sana evi göstereyim .                                                                                                                                                                                                                                        \n",
       " ⋮                                                                                                                                                                                                                                                                      \n",
       " - Bu senin şalın mış .                                                                                                                                                                                                                                                 \n",
       " Bu kuruluşların ciro büyüklüklerine göre yaklaşık elli trilyon luk bir gelir sağlanacak .                                                                                                                                                                              \n",
       " Bartın gecesinden soğuk bir yel esmeye başlamıştı .                                                                                                                                                                                                                    \n",
       " Yerleştir yerleştirme , devşir devşirme sınavları falan filan yok ...                                                                                                                                                                                                  \n",
       " Rolü başkasına verdik dediler .                                                                                                                                                                                                                                        \n",
       " Derken , ev sahibi beyan değiştiriyor .                                                                                                                                                                                                                                \n",
       " MART'I BEKLİYORLARDI .                                                                                                                                                                                                                                                 \n",
       " Almanya'dan parlamento heyeti gelmiş .                                                                                                                                                                                                                                 \n",
       " Üç ocak lı demirci dükkanı deyip geçme , fayton imalatından zengin bile olmuşlar .                                                                                                                                                                                     \n",
       " Geçici bütçe tasarısı , Meclis'e sunuldu .                                                                                                                                                                                                                             \n",
       " Oysa , beyaz peynirin böyle bir efsanesi olsa .                                                                                                                                                                                                                        \n",
       " Erdoğan'ın milletvekili ve başbakan olmasını sağlayacak düzenlemede , Sezer'in karşı çıktığı , doğrudan başbakanlık getirecek yüzdokuz . madde yerine ara seçimi düzenleyen yetmişsekiz . madde üzerinde değişiklik yapacaklarını belirten Şahin , şu mesajı verdi : . "
      ]
     },
     "execution_count": 5,
     "metadata": {},
     "output_type": "execute_result"
    }
   ],
   "source": [
    "corpus = load_conllu(\"tr_imst-ud-train.conllu\",v)"
   ]
  },
  {
   "cell_type": "code",
   "execution_count": 6,
   "metadata": {},
   "outputs": [
    {
     "data": {
      "text/plain": [
       "Sanal parçacıklar sa bunların hiçbirini yapamazlar . "
      ]
     },
     "execution_count": 6,
     "metadata": {},
     "output_type": "execute_result"
    }
   ],
   "source": [
    "s = corpus[1]"
   ]
  },
  {
   "cell_type": "code",
   "execution_count": 7,
   "metadata": {},
   "outputs": [
    {
     "data": {
      "text/plain": [
       "fillwvecs! (generic function with 1 method)"
      ]
     },
     "execution_count": 7,
     "metadata": {},
     "output_type": "execute_result"
    }
   ],
   "source": [
    "function fillwvecs!(sentences, isents, wembed; GPUFEATS=false)\n",
    "    for (s, isents) in zip(sentences, isents)\n",
    "        empty!(s.wvec)\n",
    "        for w in isents\n",
    "            if GPUFEATS\n",
    "                push!(s.wvec, wembed[:, w])\n",
    "            else\n",
    "                push!(s.wvec, Array(wembed[:, w]))\n",
    "            end\n",
    "        end\n",
    "    end\n",
    "end"
   ]
  },
  {
   "cell_type": "code",
   "execution_count": 145,
   "metadata": {},
   "outputs": [
    {
     "data": {
      "text/plain": [
       "fillcvecs! (generic function with 1 method)"
      ]
     },
     "execution_count": 145,
     "metadata": {},
     "output_type": "execute_result"
    }
   ],
   "source": [
    "function fillcvecs!(sentences, forw, back; GPUFEATS=false)\n",
    "    T = length(forw)\n",
    "    for i in 1:length(sentences)\n",
    "        s = sentences[i]\n",
    "        empty!(s.fvec)\n",
    "        empty!(s.bvec)\n",
    "        N = length(s)\n",
    "        for n in 1:N\n",
    "            t = T-N+n\n",
    "            if GPUFEATS #GPU\n",
    "                push!(s.fvec, forw[t][:,i])\n",
    "                push!(s.bvec, back[t][:,i])\n",
    "            else #CPU\n",
    "                push!(s.fvec, Array(forw[t][:,i]))\n",
    "                push!(s.bvec, Array(back[t][:,i]))\n",
    "            end\n",
    "        end\n",
    "    end\n",
    "end"
   ]
  },
  {
   "cell_type": "code",
   "execution_count": 173,
   "metadata": {},
   "outputs": [
    {
     "data": {
      "text/plain": [
       "lmloss (generic function with 1 method)"
      ]
     },
     "execution_count": 173,
     "metadata": {},
     "output_type": "execute_result"
    }
   ],
   "source": [
    "function lmloss(model, data, mask, forw, back; result=nothing)\n",
    "    T = length(data)\n",
    "    B = length(data[1])\n",
    "    weight, bias = wsoft(model), bsoft(model)\n",
    "    idx(t,b,n) = data[t][b] + (b-1)*n\n",
    "\n",
    "    total = count = 0\n",
    "    for t in 1:T\n",
    "        ypred = weight * vcat(forw[t], back[t]) .+ bias\n",
    "        nrows,ncols = size(ypred)\n",
    "        index = Int[]\n",
    "        for b=1:B\n",
    "            if mask[t][b]==1\n",
    "                push!(index, idx(t,b,nrows))\n",
    "            end\n",
    "        end\n",
    "        o1 = logp(ypred, dims=1)\n",
    "        o2 = o1[index]\n",
    "        total += sum(o2)\n",
    "        count += length(o2)\n",
    "    end\n",
    "    \n",
    "    if result != nothing\n",
    "        result[1] += AutoGrad.getval(total)\n",
    "        result[2] += count\n",
    "    end\n",
    "    return total\n",
    "end"
   ]
  },
  {
   "cell_type": "code",
   "execution_count": 147,
   "metadata": {},
   "outputs": [
    {
     "data": {
      "text/plain": [
       "wordlstm (generic function with 1 method)"
      ]
     },
     "execution_count": 147,
     "metadata": {},
     "output_type": "execute_result"
    }
   ],
   "source": [
    "function wordlstm(model, data, mask, embeddings)\n",
    "    weight, bias = wforw(model), bforw(model)\n",
    "    T = length(data)\n",
    "    B = length(data[1])\n",
    "    H = div(length(bias), 4)\n",
    "\n",
    "\n",
    "    if isa(weight, KnetArray)\n",
    "        mask = map(KnetArray, mask)\n",
    "    end\n",
    "    \n",
    "    wzero = fill!(similar(bias, H, B), 0)\n",
    "\n",
    "    # forward lstm\n",
    "    hidden = cell = wzero\n",
    "    fhiddens = Array{Any}(undef,T-2)  # fhiddens = Array(Any, T-2) : deprecated\n",
    "    for t in 1:T-2\n",
    "        (hidden, cell) = _lstm(weight, bias, hidden, cell, embeddings[:, data[t]]; mask=mask[t])\n",
    "        fhiddens[t] = hidden\n",
    "    end\n",
    "\n",
    "    # backward lstm\n",
    "    weight_b, bias_b = wback(model), bback(model)\n",
    "    hidden = cell = wzero\n",
    "    bhiddens = Array{Any}(undef,T-2)  # bhiddens = Array(Any, T-2) : deprecated\n",
    "    for t in T:-1:3\n",
    "        (hidden, cell) = _lstm(weight_b, bias_b, hidden, cell, embeddings[:, data[t]]; mask=mask[t])\n",
    "        bhiddens[t-2] = hidden\n",
    "    end\n",
    "    return fhiddens, bhiddens\n",
    "end"
   ]
  },
  {
   "cell_type": "code",
   "execution_count": 148,
   "metadata": {},
   "outputs": [
    {
     "data": {
      "text/plain": [
       "charlstm (generic function with 1 method)"
      ]
     },
     "execution_count": 148,
     "metadata": {},
     "output_type": "execute_result"
    }
   ],
   "source": [
    "function charlstm(model, data, mask)\n",
    "    weight, bias, embeddings = wchar(model), bchar(model), cembed(model)\n",
    "    T = length(data)\n",
    "    B = length(data[1])\n",
    "    H = div(length(bias), 4)\n",
    "\n",
    "    \n",
    "    if isa(weight, KnetArray)\n",
    "        mask = map(KnetArray, mask)\n",
    "    end\n",
    "    \n",
    "    czero = fill!(similar(bias, H, B), 0)\n",
    "    hidden = cell = czero\n",
    "    for t in 1:T\n",
    "        (hidden, cell) = _lstm(weight, bias, hidden, cell, embeddings[:, data[t]]; mask=mask[t])\n",
    "    end\n",
    "    return hidden\n",
    "end"
   ]
  },
  {
   "cell_type": "code",
   "execution_count": 149,
   "metadata": {},
   "outputs": [
    {
     "data": {
      "text/plain": [
       "_lstm (generic function with 1 method)"
      ]
     },
     "execution_count": 149,
     "metadata": {},
     "output_type": "execute_result"
    }
   ],
   "source": [
    "function _lstm(weight, bias, hidden, cell, input; mask=nothing)\n",
    "    gates = weight * vcat(input, hidden) .+ bias\n",
    "    H = size(hidden, 1)\n",
    "    forget = sigm.(gates[1:H, :])\n",
    "    ingate = sigm.(gates[1+H:2H, :])\n",
    "    outgate = sigm.(gates[1+2H:3H, :])\n",
    "    change = tanh.(gates[1+3H:4H, :])\n",
    "    (mask != nothing) && (mask = reshape(mask, 1, length(mask)))\n",
    "\n",
    "    cell = cell .* forget + ingate .* change\n",
    "    hidden = outgate .* tanh.(cell)\n",
    "    if mask != nothing\n",
    "        hidden = hidden .* mask\n",
    "        cell = cell .* mask\n",
    "    end\n",
    "    return (hidden, cell)\n",
    "end"
   ]
  },
  {
   "cell_type": "code",
   "execution_count": 150,
   "metadata": {},
   "outputs": [
    {
     "data": {
      "text/plain": [
       "goldbatch (generic function with 2 methods)"
      ]
     },
     "execution_count": 150,
     "metadata": {},
     "output_type": "execute_result"
    }
   ],
   "source": [
    "function goldbatch(sentences, maxlen, wdict, unkwid, pad=unkwid)\n",
    "    B = length(sentences)\n",
    "    T = maxlen\n",
    "    data = [ Array{Int}(undef,B) for t in 1:T ]\n",
    "    mask = [ Array{Float32}(undef,B) for t in 1:T ]\n",
    "    for t in 1:T\n",
    "        for b in 1:B\n",
    "            N = length(sentences[b])\n",
    "            n = t - T + N\n",
    "            if n <= 0\n",
    "                mask[t][b] = 0\n",
    "                data[t][b] = pad\n",
    "            else\n",
    "                mask[t][b] = 1\n",
    "                data[t][b] = get(wdict, sentences[b].word[n], unkwid)\n",
    "            end\n",
    "        end\n",
    "    end\n",
    "    return data, mask\n",
    "end"
   ]
  },
  {
   "cell_type": "code",
   "execution_count": 151,
   "metadata": {},
   "outputs": [
    {
     "data": {
      "text/plain": [
       "tokenbatch (generic function with 2 methods)"
      ]
     },
     "execution_count": 151,
     "metadata": {},
     "output_type": "execute_result"
    }
   ],
   "source": [
    "function tokenbatch(words, maxlen, sos, eos, pad=eos)\n",
    "    B = length(words) # batchsize\n",
    "    T = maxlen + 2\n",
    "    data = [ Array{Int}(undef,B) for t in 1:T ]\n",
    "    mask = [ Array{Float32}(undef,B) for t in 1:T ]\n",
    "    @inbounds for t in 1:T\n",
    "        for b in 1:B\n",
    "            N = length(words[b]) # wordlen\n",
    "            n = t - T + N + 1 # cursor \n",
    "            if n < 0\n",
    "                mask[t][b] = 0\n",
    "                data[t][b] = pad\n",
    "            else\n",
    "                mask[t][b] = 1\n",
    "                if n == 0\n",
    "                    data[t][b] = sos\n",
    "                elseif n <= N\n",
    "                    data[t][b] = words[b][n]\n",
    "                elseif n == N+1\n",
    "                    data[t][b] = eos\n",
    "                else\n",
    "                    error()\n",
    "                end\n",
    "            end\n",
    "        end\n",
    "    end\n",
    "    return data, mask\n",
    "end"
   ]
  },
  {
   "cell_type": "code",
   "execution_count": 142,
   "metadata": {},
   "outputs": [
    {
     "data": {
      "text/plain": [
       "maptoint (generic function with 1 method)"
      ]
     },
     "execution_count": 142,
     "metadata": {},
     "output_type": "execute_result"
    }
   ],
   "source": [
    "function maptoint(sentences, v::Vocab)\n",
    "    MAXWORD = 32\n",
    "    wdict = empty!(v.idict) # it is already empty ?\n",
    "    cdict = v.cdict\n",
    "    unkcid = cdict[v.unkchar]\n",
    "    words = Vector{Int}[]\n",
    "    sents = Vector{Int}[]\n",
    "\n",
    "    maxwordlen = 0; maxsentlen = 0;\n",
    "    for w in (v.sosword, v.eosword)\n",
    "        wid = get!(wdict, w, 1+length(wdict))\n",
    "        word = Array{Int}(undef,length(w)) #Array(Int, length(w))\n",
    "        wordi = 0 # to check 2 byte characters\n",
    "        for c in w\n",
    "            word[wordi+=1] = get(cdict, c, unkcid)\n",
    "        end\n",
    "        (wordi != length(w)) && error(\"Missing in single word process\")\n",
    "        (wordi > maxwordlen) && (maxwordlen = wordi)\n",
    "        push!(words, word)\n",
    "    end\n",
    "\n",
    "    for s in sentences\n",
    "        sent = Array{Int}(undef,length(s.word)) #Array(Int, length(s.word))\n",
    "        senti = 0\n",
    "        for w in s.word\n",
    "            ndict = length(wdict)\n",
    "            wid = get!(wdict, w, 1+ndict)\n",
    "            sent[senti+=1] = wid\n",
    "            if wid == 1+ndict\n",
    "                word = Array{Int}(undef,length(w)) #Array(Int, length(w))\n",
    "                wordi = 0\n",
    "                for c in w\n",
    "                    word[wordi+=1] = get(cdict, c, unkcid)\n",
    "                end\n",
    "                (wordi != length(w)) && error(\"Missing in single word process\")\n",
    "                if wordi > MAXWORD; wordi=MAXWORD; word = word[1:wordi]; end;\n",
    "                (wordi > maxwordlen) && (maxwordlen = wordi) \n",
    "                push!(words, word)\n",
    "            end\n",
    "        end\n",
    "        @assert(senti == length(s.word))\n",
    "        (senti > maxsentlen) && (maxsentlen = senti)\n",
    "        push!(sents, sent)\n",
    "    end\n",
    "    @assert(length(wdict) == length(words))\n",
    "    return words, sents, maxwordlen, maxsentlen\n",
    "end"
   ]
  },
  {
   "cell_type": "code",
   "execution_count": 16,
   "metadata": {},
   "outputs": [
    {
     "data": {
      "text/plain": [
       "makewmodel1 (generic function with 1 method)"
      ]
     },
     "execution_count": 16,
     "metadata": {},
     "output_type": "execute_result"
    }
   ],
   "source": [
    "makewmodel1(d)=[ d[\"cembed\"],\n",
    "                 d[\"char\"][1],\n",
    "                 d[\"char\"][2],\n",
    "                 d[\"forw\"][1],\n",
    "                 d[\"forw\"][2],\n",
    "                 d[\"back\"][1],\n",
    "                 d[\"back\"][2],\n",
    "                 d[\"soft\"][1],\n",
    "                 d[\"soft\"][2] ]"
   ]
  },
  {
   "cell_type": "code",
   "execution_count": 17,
   "metadata": {},
   "outputs": [
    {
     "data": {
      "text/plain": [
       "makewmodel (generic function with 1 method)"
      ]
     },
     "execution_count": 17,
     "metadata": {},
     "output_type": "execute_result"
    }
   ],
   "source": [
    "function makewmodel(d)\n",
    "    d1 = makewmodel1(d)\n",
    "    if gpu() >= 0\n",
    "        return map(KnetArray, d1)\n",
    "    else\n",
    "        return map(Array, d1)\n",
    "    end\n",
    "end"
   ]
  },
  {
   "cell_type": "code",
   "execution_count": 18,
   "metadata": {},
   "outputs": [],
   "source": [
    "cembed(m) = m[1]\n",
    "wchar(m) = m[2]; bchar(m) = m[3];\n",
    "wforw(m) = m[4]; bforw(m) = m[5];\n",
    "wback(m) = m[6]; bback(m) = m[7];\n",
    "wsoft(m) = m[8]; bsoft(m) = m[9];"
   ]
  },
  {
   "cell_type": "code",
   "execution_count": 174,
   "metadata": {},
   "outputs": [
    {
     "data": {
      "text/plain": [
       "fillvecs! (generic function with 1 method)"
      ]
     },
     "execution_count": 174,
     "metadata": {},
     "output_type": "execute_result"
    }
   ],
   "source": [
    "function fillvecs!(wmodel, sentences, vocab; batchsize=128)\n",
    "\n",
    "    words, sents, maxwordlen, maxsentlen = maptoint(sentences, vocab)\n",
    "    sow = vocab.cdict[vocab.sowchar]\n",
    "    eow = vocab.cdict[vocab.eowchar]\n",
    "    paw = vocab.cdict[vocab.unkchar]\n",
    " \n",
    "    # word-embeddings calcutation\n",
    "    wembed = Any[]\n",
    "    #free_KnetArray();\n",
    "    for i=1:batchsize:length(words)\n",
    "        j = min(i+batchsize-1,length(words))\n",
    "        wij = view(words,i:j)\n",
    "        maxij = maximum(map(length, wij))\n",
    "        cdata, cmask = tokenbatch(wij, maxij, sow, eow)\n",
    "        push!(wembed, charlstm(wmodel, cdata, cmask))\n",
    "    end\n",
    "    wembed =hcat(wembed...) # Here I applied the changes from hcatn-> hcat in newer version\n",
    "    fillwvecs!(sentences, sents, wembed)\n",
    "\n",
    "    sos,eos,unk = vocab.idict[vocab.sosword], vocab.idict[vocab.eosword], vocab.odict[vocab.unkword]\n",
    "    result = zeros(2)\n",
    "    #free_KnetArray()\n",
    "    for i=1:batchsize:length(sents)\n",
    "        j = min(i+batchsize-1, length(sents))\n",
    "        isentij = view(sents, i:j)\n",
    "        maxij = maximum(map(length, isentij))\n",
    "        wdata, wmask = tokenbatch(isentij, maxij, sos, eos)\n",
    "        forw, back = wordlstm(wmodel, wdata, wmask, wembed)\n",
    "        sentij = view(sentences, i:j)\n",
    "        fillcvecs!(sentij, forw, back)\n",
    "        odata, omask = goldbatch(sentij, maxij, vocab.odict, unk)\n",
    "        lmloss(wmodel,odata,omask,forw,back; result=result) \n",
    "    end\n",
    "    return exp(-result[1]/result[2])\n",
    "end"
   ]
  },
  {
   "cell_type": "code",
   "execution_count": 153,
   "metadata": {
    "scrolled": true
   },
   "outputs": [
    {
     "data": {
      "text/plain": [
       "9-element Array{Array{Float32,2},1}:\n",
       " [0.593419 0.190279 … 0.11003 -0.000173569; -0.236287 0.455614 … 0.138825 -0.0971059; … ; -0.341316 0.0835031 … -0.0285478 -0.0718531; -0.205958 -0.168918 … -0.13226 -0.0319474]\n",
       " [0.0708071 -0.456333 … 0.557484 0.094816; -1.61625 -1.37924 … 0.342474 0.548784; … ; 1.07664 -0.430524 … -0.360356 0.668587; 0.324491 -0.175173 … -0.790751 1.16417]            \n",
       " [1.2185; 1.52402; … ; -1.1745; -1.53404]                                                                                                                                        \n",
       " [1.47578 0.055072 … -0.2823 -1.58338; -1.95253 -0.402249 … -0.221281 -0.667834; … ; 1.28302 -0.0459206 … -2.12551 -0.95058; 0.924036 0.269601 … 0.515548 7.38111]               \n",
       " [-0.916012; -2.25621; … ; -0.166855; 0.169325]                                                                                                                                  \n",
       " [1.70814 0.787587 … -0.636378 -1.76298; 4.32346 5.14362 … 0.705938 -0.0418462; … ; 0.360138 0.894677 … 0.9248 -0.56745; 2.43944 1.57233 … 0.283839 0.257673]                    \n",
       " [-1.57632; -0.465515; … ; 0.232742; 0.0523779]                                                                                                                                  \n",
       " [-0.303084 -1.18525 … -0.281071 -0.2053; -0.105208 -1.07845 … -0.25827 -0.161327; … ; -6.89772 -4.49219 … -6.53177 22.878; -10.3504 -2.46182 … -5.35946 28.4459]                \n",
       " [-23.6416; -24.3744; … ; -1.42056; -3.41009]                                                                                                                                    "
      ]
     },
     "execution_count": 153,
     "metadata": {},
     "output_type": "execute_result"
    }
   ],
   "source": [
    "wmodel = makewmodel(d)"
   ]
  },
  {
   "cell_type": "code",
   "execution_count": 154,
   "metadata": {},
   "outputs": [
    {
     "data": {
      "text/plain": [
       "(Array{Int64,1}[[1, 1, 1], [1, 1, 1, 1], [1, 1, 1, 1, 1], [1, 1, 1, 1, 1, 1, 1, 1, 1, 1, 1], [1, 1], [1, 1, 1, 1, 1, 1, 1, 1], [1, 1, 1, 1, 1, 1, 1, 1, 1], [1, 1, 1, 1, 1, 1, 1, 1, 1, 1], [1], [1, 1, 1]  …  [1, 1, 1, 1, 1, 1], [1, 1, 1, 1, 1, 1, 1, 1], [1, 1, 1, 1, 1, 1, 1], [1, 1, 1, 1, 1, 1, 1, 1], [1, 1, 1, 1, 1, 1, 1, 1], [1, 1, 1, 1, 1, 1, 1, 1], [1, 1, 1, 1, 1, 1, 1, 1, 1, 1, 1], [1, 1, 1, 1, 1, 1, 1, 1, 1], [1, 1, 1, 1, 1, 1, 1, 1, 1, 1, 1], [1, 1, 1, 1, 1, 1]], Array{Int64,1}[[3, 4, 5, 6, 7, 8, 9], [10, 11, 12, 13, 9], [14, 15, 16, 17, 18, 19, 15, 20, 21, 22, 23, 24, 25, 26, 9], [27, 28, 9], [29, 30, 31, 9], [32, 33, 34, 9], [35, 36, 37, 9], [38, 39], [40, 41, 9], [42, 43, 44, 9]  …  [13779, 13780, 1124, 73, 13781, 13782, 9633, 9], [13783, 13784, 15, 13785, 13786, 13787, 606, 607, 99, 39], [13788, 9628, 1915, 215, 9], [13789, 15, 854, 658, 4761, 13790, 9], [13791, 13792, 9], [5308, 13793, 6209, 146, 9], [8698, 5901, 160, 13794, 7669, 3910, 13795, 15, 13796, 13797, 1161, 941, 13798, 9], [13799, 5739, 13800, 15, 10256, 13801, 9], [1076, 15, 3222, 13802, 613, 73, 13803, 1595, 9], [2787, 2948, 79, 13804, 11635, 6047, 13805, 15, 663, 912  …  13198, 58, 3996, 866, 15, 1028, 13808, 1982, 282, 9]], 32, 57)"
      ]
     },
     "execution_count": 154,
     "metadata": {},
     "output_type": "execute_result"
    }
   ],
   "source": [
    "words, sents, maxwordlen, maxsentlen = maptoint(corpus, v)"
   ]
  },
  {
   "cell_type": "code",
   "execution_count": 175,
   "metadata": {},
   "outputs": [
    {
     "name": "stderr",
     "output_type": "stream",
     "text": [
      "┌ Warning: `getval` is deprecated, use `value` instead.\n",
      "│   caller = #lmloss#43(::Array{Float64,1}, ::Function, ::Array{Array{Float32,2},1}, ::Array{Array{Int64,1},1}, ::Array{Array{Float32,1},1}, ::Array{Any,1}, ::Array{Any,1}) at In[173]:24\n",
      "└ @ Main ./In[173]:24\n"
     ]
    },
    {
     "data": {
      "text/plain": [
       "9.343284618635387"
      ]
     },
     "execution_count": 175,
     "metadata": {},
     "output_type": "execute_result"
    }
   ],
   "source": [
    "fillvecs!(wmodel, corpus, v)"
   ]
  },
  {
   "cell_type": "code",
   "execution_count": 176,
   "metadata": {},
   "outputs": [
    {
     "data": {
      "text/plain": [
       "3685-element Array{Any,1}:\n",
       " Sanal parçacıklar sa bunların hiçbirini yapamazlar .                                                                                                                                                                                                                   \n",
       " Ona her şeyimi verdim .                                                                                                                                                                                                                                                \n",
       " Karşısında , pantolonu dizlerine dek ıslak , önlük torbası ham eriklerle dolu İbrahim dikiliyordu .                                                                                                                                                                    \n",
       " Nereden biliyorsunuz .                                                                                                                                                                                                                                                 \n",
       " Aradığımı Buldum Sandım .                                                                                                                                                                                                                                              \n",
       " Kahveleri bende içelim .                                                                                                                                                                                                                                               \n",
       " Ne diyeceğimi bilemedim .                                                                                                                                                                                                                                              \n",
       " Kanamıyordu ...                                                                                                                                                                                                                                                        \n",
       " Süpürgen nerede .                                                                                                                                                                                                                                                      \n",
       " Bir taksi bulduk .                                                                                                                                                                                                                                                     \n",
       " Mebrure birden heyecanlanmıştı .                                                                                                                                                                                                                                       \n",
       " \" Burada ki üst düzey görüşmelerimizde turizm için ellerinden geleni yapacaklarını söylediler .                                                                                                                                                                        \n",
       " Gel bak , sana evi göstereyim .                                                                                                                                                                                                                                        \n",
       " ⋮                                                                                                                                                                                                                                                                      \n",
       " - Bu senin şalın mış .                                                                                                                                                                                                                                                 \n",
       " Bu kuruluşların ciro büyüklüklerine göre yaklaşık elli trilyon luk bir gelir sağlanacak .                                                                                                                                                                              \n",
       " Bartın gecesinden soğuk bir yel esmeye başlamıştı .                                                                                                                                                                                                                    \n",
       " Yerleştir yerleştirme , devşir devşirme sınavları falan filan yok ...                                                                                                                                                                                                  \n",
       " Rolü başkasına verdik dediler .                                                                                                                                                                                                                                        \n",
       " Derken , ev sahibi beyan değiştiriyor .                                                                                                                                                                                                                                \n",
       " MART'I BEKLİYORLARDI .                                                                                                                                                                                                                                                 \n",
       " Almanya'dan parlamento heyeti gelmiş .                                                                                                                                                                                                                                 \n",
       " Üç ocak lı demirci dükkanı deyip geçme , fayton imalatından zengin bile olmuşlar .                                                                                                                                                                                     \n",
       " Geçici bütçe tasarısı , Meclis'e sunuldu .                                                                                                                                                                                                                             \n",
       " Oysa , beyaz peynirin böyle bir efsanesi olsa .                                                                                                                                                                                                                        \n",
       " Erdoğan'ın milletvekili ve başbakan olmasını sağlayacak düzenlemede , Sezer'in karşı çıktığı , doğrudan başbakanlık getirecek yüzdokuz . madde yerine ara seçimi düzenleyen yetmişsekiz . madde üzerinde değişiklik yapacaklarını belirten Şahin , şu mesajı verdi : . "
      ]
     },
     "execution_count": 176,
     "metadata": {},
     "output_type": "execute_result"
    }
   ],
   "source": [
    "corpus"
   ]
  },
  {
   "cell_type": "code",
   "execution_count": null,
   "metadata": {},
   "outputs": [],
   "source": []
  }
 ],
 "metadata": {
  "kernelspec": {
   "display_name": "Julia 1.1.0",
   "language": "julia",
   "name": "julia-1.1"
  },
  "language_info": {
   "file_extension": ".jl",
   "mimetype": "application/julia",
   "name": "julia",
   "version": "1.1.0"
  }
 },
 "nbformat": 4,
 "nbformat_minor": 2
}
