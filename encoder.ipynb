{
 "cells": [
  {
   "cell_type": "code",
   "execution_count": 7,
   "metadata": {},
   "outputs": [
    {
     "name": "stderr",
     "output_type": "stream",
     "text": [
      "┌ Info: Precompiling Distributions [31c24e10-a181-5473-b8eb-7969acd0382f]\n",
      "└ @ Base loading.jl:1186\n",
      "WARNING: redefining constant UPOSTAG\n",
      "WARNING: redefining constant XPOSTAG\n",
      "WARNING: redefining constant FEATS\n",
      "WARNING: redefining constant UDEPREL\n",
      "WARNING: redefining constant UPOSTAG\n",
      "WARNING: redefining constant XPOSTAG\n",
      "WARNING: redefining constant FEATS\n",
      "WARNING: redefining constant UDEPREL\n"
     ]
    },
    {
     "data": {
      "text/plain": [
       "fillvecs! (generic function with 1 method)"
      ]
     },
     "execution_count": 7,
     "metadata": {},
     "output_type": "execute_result"
    }
   ],
   "source": [
    "using JLD,JLD2,Knet, Distributions \n",
    "using Base.Iterators: flatten\n",
    "include(\"types.jl\")\n",
    "include(\"pre_processing.jl\")\n",
    "include(\"encoder_utils.jl\")"
   ]
  },
  {
   "cell_type": "code",
   "execution_count": 2,
   "metadata": {},
   "outputs": [
    {
     "name": "stderr",
     "output_type": "stream",
     "text": [
      "┌ Warning: `getval` is deprecated, use `value` instead.\n",
      "│   caller = #lmloss#18(::Array{Float64,1}, ::Function, ::Array{Array{Float32,2},1}, ::Array{Array{Int64,1},1}, ::Array{Array{Float32,1},1}, ::Array{Any,1}, ::Array{Any,1}) at encoder_utils.jl:59\n",
      "└ @ Main /home/ilayda/GBDP/encoder_utils.jl:59\n"
     ]
    }
   ],
   "source": [
    "d = JLD.load(\"pretrained_model.jld2\")\n",
    "v = create_vocab(d)\n",
    "corpus = load_conllu(\"tr_imst-ud-train.conllu\",v)\n",
    "wmodel = makewmodel(d)\n",
    "fillvecs!(wmodel, corpus, v)"
   ]
  },
  {
   "cell_type": "code",
   "execution_count": 3,
   "metadata": {},
   "outputs": [
    {
     "data": {
      "text/plain": [
       "ExtendedVocab(Dict(\"Abr\"=>26,\"PCNom\"=>18,\"Dup\"=>27,\"PCIns\"=>30,\"Since\"=>32,\"Postp\"=>31,\"Interj\"=>24,\"Ques\"=>14,\"Demons\"=>5,\"NAdj\"=>11…), Dict(\"VerbForm=Vnoun\"=>43,\"Person=3\"=>4,\"Case=Acc\"=>11,\"Number=Sing\"=>7,\"Mood=Nec\"=>54,\"Aspect=Prog\"=>27,\"Person[psor]=3\"=>13,\"VerbForm=Conv\"=>44,\"Aspect=Hab\"=>15,\"Voice=CauPass\"=>46…), Vocab(Dict('\\x00\\x00\\x00\\x42'=>37,'\\x00\\x00\\x20\\x1d'=>116,'\\x00\\x00\\x00\\x58'=>87,'\\x00\\x00\\x20\\x44'=>110,'\\x00\\x00\\x00\\x56'=>59,'\\x00\\x00\\x00\\xd7'=>107,'\\x00\\x00\\x00\\x48'=>29,'\\x00\\x00\\x00\\x75'=>5,'\\x00\\x00\\x00\\x50'=>11,'\\x00\\x00\\x00\\x7a'=>61…), Dict(\"çıkaramayacaklarını\"=>7805,\"apartmanın\"=>13565,\"Güreş\"=>2733,\"karıştı\"=>1790,\"ikibin'de\"=>7225,\"formülü\"=>4676,\"ANAP'ı\"=>4506,\"ihmal\"=>5116,\"Virgülden\"=>9483,\"il\"=>6725…), Dict(\"null\"=>8668,\"Secure\"=>7932,\"Puppy\"=>9040,\"progression\"=>11757,\"gathered\"=>6954,\"Core\"=>3600,\"lovers\"=>8832,\"underground\"=>9093,\"backup\"=>5047,\"caught\"=>2501…), \"<s>\", \"</s>\", \"<unk>\", '\\x00\\x00\\x00\\x12', '\\x00\\x00\\x00\\x13', '\\x00\\x00\\x00\\x11', Dict(\"NUM\"=>0x09,\"DET\"=>0x06,\"X\"=>0x11,\"VERB\"=>0x10,\"PROPN\"=>0x0c,\"ADV\"=>0x03,\"ADJ\"=>0x01,\"AUX\"=>0x04,\"PUNCT\"=>0x0d,\"PRON\"=>0x0b…), Dict(\"reparandum\"=>0x23,\"root\"=>0x01,\"vocative\"=>0x24,\"csubj\"=>0x0f,\"advmod\"=>0x04,\"expl\"=>0x14,\"iobj\"=>0x18,\"mark\"=>0x1a,\"advcl\"=>0x03,\"nmod\"=>0x1b…)))"
      ]
     },
     "execution_count": 3,
     "metadata": {},
     "output_type": "execute_result"
    }
   ],
   "source": [
    "ev = extend_vocab!(v, corpus)"
   ]
  },
  {
   "cell_type": "code",
   "execution_count": 9,
   "metadata": {},
   "outputs": [
    {
     "ename": "MethodError",
     "evalue": "MethodError: no method matching Array(::Type{Float64})\nClosest candidates are:\n  Array(!Matched::LinearAlgebra.SymTridiagonal) at /buildworker/worker/package_linux64/build/usr/share/julia/stdlib/v1.1/LinearAlgebra/src/tridiag.jl:111\n  Array(!Matched::LinearAlgebra.Tridiagonal) at /buildworker/worker/package_linux64/build/usr/share/julia/stdlib/v1.1/LinearAlgebra/src/tridiag.jl:489\n  Array(!Matched::LinearAlgebra.AbstractTriangular) at /buildworker/worker/package_linux64/build/usr/share/julia/stdlib/v1.1/LinearAlgebra/src/triangular.jl:106\n  ...",
     "output_type": "error",
     "traceback": [
      "MethodError: no method matching Array(::Type{Float64})\nClosest candidates are:\n  Array(!Matched::LinearAlgebra.SymTridiagonal) at /buildworker/worker/package_linux64/build/usr/share/julia/stdlib/v1.1/LinearAlgebra/src/tridiag.jl:111\n  Array(!Matched::LinearAlgebra.Tridiagonal) at /buildworker/worker/package_linux64/build/usr/share/julia/stdlib/v1.1/LinearAlgebra/src/tridiag.jl:489\n  Array(!Matched::LinearAlgebra.AbstractTriangular) at /buildworker/worker/package_linux64/build/usr/share/julia/stdlib/v1.1/LinearAlgebra/src/triangular.jl:106\n  ...",
      "",
      "Stacktrace:",
      " [1] top-level scope at none:0"
     ]
    }
   ],
   "source": [
    "mutable struct FeatureSource\n",
    "    upostags::Array{Array(Float64)}\n",
    "    xpostags::Array{Array(Float64)}\n",
    "    feats::Array{Array(Float64)}\n",
    "end"
   ]
  },
  {
   "cell_type": "code",
   "execution_count": null,
   "metadata": {
    "collapsed": true
   },
   "outputs": [],
   "source": [
    "function createcolvecs!(Extended_vocab,corpus)\n",
    "    xpostags = []\n",
    "    upostags = []\n",
    "    feats = []\n",
    "    \n",
    "    for sent in corpus\n",
    "        for i in 1:length(sent)\n",
    "            push!(sent.cavec, vcat(sent.wvec[i], sent.fvec[i], sent.bvec[i], sent.postag[i], sent.xpostag[i], sent.feats[i]))\n",
    "        end\n",
    "    end\n",
    "end"
   ]
  },
  {
   "cell_type": "code",
   "execution_count": 10,
   "metadata": {},
   "outputs": [
    {
     "data": {
      "text/plain": [
       "Normal{Float64}(μ=0.0, σ=1.0)"
      ]
     },
     "execution_count": 10,
     "metadata": {},
     "output_type": "execute_result"
    }
   ],
   "source": [
    "dist = Normal()"
   ]
  },
  {
   "cell_type": "code",
   "execution_count": 11,
   "metadata": {},
   "outputs": [
    {
     "data": {
      "text/plain": [
       "2×3 Array{Float64,2}:\n",
       " -0.102956  -0.259788  -0.855981\n",
       "  0.115339   0.122011   1.64104 "
      ]
     },
     "execution_count": 11,
     "metadata": {},
     "output_type": "execute_result"
    }
   ],
   "source": [
    "a = rand(dist,(2,3))"
   ]
  },
  {
   "cell_type": "code",
   "execution_count": 15,
   "metadata": {},
   "outputs": [
    {
     "data": {
      "text/plain": [
       "32×34 Array{Float64,2}:\n",
       "  2.64738    0.356065   -0.522548   …   0.737931    1.50616     0.631333 \n",
       " -1.05943   -0.401209    1.01543        0.418382   -0.703719    0.162307 \n",
       " -1.02163    0.7962     -0.785027       0.807925   -0.414833    0.855289 \n",
       " -1.01973   -0.366373    0.591055      -0.555129   -1.15228    -0.23496  \n",
       " -1.00136    0.804621    0.0312298     -0.569443   -0.103049   -1.00356  \n",
       "  0.242632  -0.881878   -1.35345    …   0.492098   -0.762552   -0.0121825\n",
       " -1.75792   -0.486942    0.59028        1.36616    -0.0716801  -0.773718 \n",
       " -1.2243     1.37588     0.816867       0.157569    0.600204    0.119614 \n",
       " -0.746943  -1.03267    -0.930638       0.0182059  -0.253404    0.46443  \n",
       "  0.4705    -0.0229171   1.33537        0.803932   -1.41742     0.730859 \n",
       "  0.409764  -2.79941     0.69334    …   0.681647   -0.899705   -2.08417  \n",
       "  2.28966    0.453024    0.186135       0.292267   -3.71119     0.478341 \n",
       " -0.775112  -1.19674     0.11783        0.0893091   0.01477    -0.26964  \n",
       "  ⋮                                 ⋱                                    \n",
       "  0.644121  -0.489883    1.2699     …   1.15245    -0.964741    0.0537638\n",
       "  2.53817   -0.751038   -1.75438        0.616483   -0.86946    -0.0464886\n",
       " -1.01131   -0.0578692  -1.20736        0.477173    0.170616    0.900946 \n",
       " -1.04053    0.363272    2.17655       -0.0151975  -1.30901    -0.475236 \n",
       "  1.34823   -0.850811    0.365386      -1.24174     1.06741     0.889203 \n",
       " -0.133581  -1.1187      0.0748979  …  -0.808693    1.13824     0.826315 \n",
       "  0.371399  -1.29354     0.0994965     -0.0365468   0.713613    0.651237 \n",
       "  0.442148   0.105176   -1.17148       -1.05567    -1.20599    -1.95048  \n",
       " -1.18601    1.89842    -0.890104      -0.0307693  -1.12021     0.402626 \n",
       "  0.761438  -0.231999    0.205416       1.53815    -0.27691     1.3249   \n",
       "  0.576599  -1.13186    -0.933582   …  -0.520391    1.74355    -0.964596 \n",
       " -0.111942  -0.1973     -0.51479       -1.79743    -2.18417     1.60079  "
      ]
     },
     "execution_count": 15,
     "metadata": {},
     "output_type": "execute_result"
    }
   ],
   "source": [
    "a = rand(dist,(32, length(keys(ev.xpostags))))"
   ]
  },
  {
   "cell_type": "code",
   "execution_count": 14,
   "metadata": {},
   "outputs": [
    {
     "data": {
      "text/plain": [
       "34"
      ]
     },
     "execution_count": 14,
     "metadata": {},
     "output_type": "execute_result"
    }
   ],
   "source": [
    "length(keys(ev.xpostags))"
   ]
  },
  {
   "cell_type": "code",
   "execution_count": 16,
   "metadata": {},
   "outputs": [
    {
     "ename": "ErrorException",
     "evalue": "type ExtendedVocab has no field upostags",
     "output_type": "error",
     "traceback": [
      "type ExtendedVocab has no field upostags",
      "",
      "Stacktrace:",
      " [1] getproperty(::Any, ::Symbol) at ./sysimg.jl:18",
      " [2] top-level scope at In[16]:1"
     ]
    }
   ],
   "source": [
    "ev.upostags"
   ]
  },
  {
   "cell_type": "code",
   "execution_count": 17,
   "metadata": {},
   "outputs": [
    {
     "ename": "ErrorException",
     "evalue": "type ExtendedVocab has no field v",
     "output_type": "error",
     "traceback": [
      "type ExtendedVocab has no field v",
      "",
      "Stacktrace:",
      " [1] getproperty(::Any, ::Symbol) at ./sysimg.jl:18",
      " [2] top-level scope at In[17]:1"
     ]
    }
   ],
   "source": [
    "ev.v"
   ]
  },
  {
   "cell_type": "code",
   "execution_count": 18,
   "metadata": {},
   "outputs": [
    {
     "data": {
      "text/plain": [
       "Vocab(Dict('\\x00\\x00\\x00\\x42'=>37,'\\x00\\x00\\x20\\x1d'=>116,'\\x00\\x00\\x00\\x58'=>87,'\\x00\\x00\\x20\\x44'=>110,'\\x00\\x00\\x00\\x56'=>59,'\\x00\\x00\\x00\\xd7'=>107,'\\x00\\x00\\x00\\x48'=>29,'\\x00\\x00\\x00\\x75'=>5,'\\x00\\x00\\x00\\x50'=>11,'\\x00\\x00\\x00\\x7a'=>61…), Dict(\"çıkaramayacaklarını\"=>7805,\"apartmanın\"=>13565,\"Güreş\"=>2733,\"karıştı\"=>1790,\"ikibin'de\"=>7225,\"formülü\"=>4676,\"ANAP'ı\"=>4506,\"ihmal\"=>5116,\"Virgülden\"=>9483,\"il\"=>6725…), Dict(\"null\"=>8668,\"Secure\"=>7932,\"Puppy\"=>9040,\"progression\"=>11757,\"gathered\"=>6954,\"Core\"=>3600,\"lovers\"=>8832,\"underground\"=>9093,\"backup\"=>5047,\"caught\"=>2501…), \"<s>\", \"</s>\", \"<unk>\", '\\x00\\x00\\x00\\x12', '\\x00\\x00\\x00\\x13', '\\x00\\x00\\x00\\x11', Dict(\"NUM\"=>0x09,\"DET\"=>0x06,\"X\"=>0x11,\"VERB\"=>0x10,\"PROPN\"=>0x0c,\"ADV\"=>0x03,\"ADJ\"=>0x01,\"AUX\"=>0x04,\"PUNCT\"=>0x0d,\"PRON\"=>0x0b…), Dict(\"reparandum\"=>0x23,\"root\"=>0x01,\"vocative\"=>0x24,\"csubj\"=>0x0f,\"advmod\"=>0x04,\"expl\"=>0x14,\"iobj\"=>0x18,\"mark\"=>0x1a,\"advcl\"=>0x03,\"nmod\"=>0x1b…))"
      ]
     },
     "execution_count": 18,
     "metadata": {},
     "output_type": "execute_result"
    }
   ],
   "source": [
    "ev.vocab"
   ]
  },
  {
   "cell_type": "code",
   "execution_count": 20,
   "metadata": {},
   "outputs": [
    {
     "data": {
      "text/plain": [
       "Dict{String,Int64} with 62 entries:\n",
       "  \"VerbForm=Vnoun\"    => 43\n",
       "  \"Person=3\"          => 4\n",
       "  \"Case=Acc\"          => 11\n",
       "  \"Number=Sing\"       => 7\n",
       "  \"Mood=Nec\"          => 54\n",
       "  \"Aspect=Prog\"       => 27\n",
       "  \"Person[psor]=3\"    => 13\n",
       "  \"VerbForm=Conv\"     => 44\n",
       "  \"Aspect=Hab\"        => 15\n",
       "  \"Voice=CauPass\"     => 46\n",
       "  \"Mood=Cnd\"          => 6\n",
       "  \"Polite=Form\"       => 53\n",
       "  \"Mood=CndPot\"       => 55\n",
       "  \"Number=Plur\"       => 3\n",
       "  \"Aspect=Perf\"       => 5\n",
       "  \"Number[psor]=Sing\" => 12\n",
       "  \"Tense=Fut,Past\"    => 48\n",
       "  \"Case=Gen\"          => 9\n",
       "  \"NumType=Ord\"       => 52\n",
       "  \"Tense=Pres\"        => 8\n",
       "  \"Case=Abl\"          => 29\n",
       "  \"Person[psor]=1\"    => 20\n",
       "  \"VerbForm=Part\"     => 31\n",
       "  \"Abbr=Yes\"          => 49\n",
       "  \"Mood=Gen\"          => 42\n",
       "  ⋮                   => ⋮"
      ]
     },
     "execution_count": 20,
     "metadata": {},
     "output_type": "execute_result"
    }
   ],
   "source": [
    "ev.feats"
   ]
  },
  {
   "cell_type": "code",
   "execution_count": 21,
   "metadata": {},
   "outputs": [
    {
     "data": {
      "text/plain": [
       "23×2 Array{Float64,2}:\n",
       " 0.0  0.0\n",
       " 0.0  0.0\n",
       " 0.0  0.0\n",
       " 0.0  0.0\n",
       " 0.0  0.0\n",
       " 0.0  0.0\n",
       " 0.0  0.0\n",
       " 0.0  0.0\n",
       " 0.0  0.0\n",
       " 0.0  0.0\n",
       " 0.0  0.0\n",
       " 0.0  0.0\n",
       " 0.0  0.0\n",
       " 0.0  0.0\n",
       " 0.0  0.0\n",
       " 0.0  0.0\n",
       " 0.0  0.0\n",
       " 0.0  0.0\n",
       " 0.0  0.0\n",
       " 0.0  0.0\n",
       " 0.0  0.0\n",
       " 0.0  0.0\n",
       " 0.0  0.0"
      ]
     },
     "execution_count": 21,
     "metadata": {},
     "output_type": "execute_result"
    }
   ],
   "source": [
    "a = zeros(23,2)"
   ]
  },
  {
   "cell_type": "code",
   "execution_count": 22,
   "metadata": {},
   "outputs": [
    {
     "data": {
      "text/plain": [
       "23×2 Array{Float64,2}:\n",
       " 1.0  1.0\n",
       " 1.0  1.0\n",
       " 1.0  1.0\n",
       " 1.0  1.0\n",
       " 1.0  1.0\n",
       " 1.0  1.0\n",
       " 1.0  1.0\n",
       " 1.0  1.0\n",
       " 1.0  1.0\n",
       " 1.0  1.0\n",
       " 1.0  1.0\n",
       " 1.0  1.0\n",
       " 1.0  1.0\n",
       " 1.0  1.0\n",
       " 1.0  1.0\n",
       " 1.0  1.0\n",
       " 1.0  1.0\n",
       " 1.0  1.0\n",
       " 1.0  1.0\n",
       " 1.0  1.0\n",
       " 1.0  1.0\n",
       " 1.0  1.0\n",
       " 1.0  1.0"
      ]
     },
     "execution_count": 22,
     "metadata": {},
     "output_type": "execute_result"
    }
   ],
   "source": [
    "a .+= 1"
   ]
  },
  {
   "cell_type": "code",
   "execution_count": null,
   "metadata": {
    "collapsed": true
   },
   "outputs": [],
   "source": []
  }
 ],
 "metadata": {
  "kernelspec": {
   "display_name": "Julia 1.1.0",
   "language": "julia",
   "name": "julia-1.1"
  },
  "language_info": {
   "file_extension": ".jl",
   "mimetype": "application/julia",
   "name": "julia",
   "version": "1.1.0"
  }
 },
 "nbformat": 4,
 "nbformat_minor": 2
}
