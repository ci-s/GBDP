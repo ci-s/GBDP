{
 "cells": [
  {
   "cell_type": "code",
   "execution_count": 38,
   "metadata": {
    "collapsed": true,
    "scrolled": false
   },
   "outputs": [],
   "source": [
    "using JLD,JLD2,Knet\n",
    "using Base.Iterators: flatten"
   ]
  },
  {
   "cell_type": "code",
   "execution_count": 39,
   "metadata": {},
   "outputs": [
    {
     "name": "stderr",
     "output_type": "stream",
     "text": [
      "WARNING: redefining constant UPOSTAG\n",
      "WARNING: redefining constant XPOSTAG\n",
      "WARNING: redefining constant FEATS\n",
      "WARNING: redefining constant UDEPREL\n",
      "WARNING: redefining constant UPOSTAG\n",
      "WARNING: redefining constant XPOSTAG\n",
      "WARNING: redefining constant FEATS\n",
      "WARNING: redefining constant UDEPREL\n"
     ]
    },
    {
     "data": {
      "text/plain": [
       "fillvecs! (generic function with 1 method)"
      ]
     },
     "execution_count": 39,
     "metadata": {},
     "output_type": "execute_result"
    }
   ],
   "source": [
    "include(\"types.jl\")\n",
    "include(\"pre_processing.jl\")\n",
    "include(\"encoder_utils.jl\")"
   ]
  },
  {
   "cell_type": "code",
   "execution_count": 41,
   "metadata": {},
   "outputs": [
    {
     "ename": "KeyError",
     "evalue": "KeyError: key '\\x00\\x00\\x00\\x11' not found",
     "output_type": "error",
     "traceback": [
      "KeyError: key '\\x00\\x00\\x00\\x11' not found",
      "",
      "Stacktrace:",
      " [1] getindex at ./dict.jl:478 [inlined]",
      " [2] maptoint(::Array{Any,1}, ::Vocab) at /home/ilayda/GBDP/encoder_utils.jl:194",
      " [3] #fillvecs!#85(::Int64, ::Function, ::Array{Array{Float32,2},1}, ::Array{Any,1}, ::Vocab) at /home/ilayda/GBDP/encoder_utils.jl:269",
      " [4] fillvecs!(::Array{Array{Float32,2},1}, ::Array{Any,1}, ::Vocab) at /home/ilayda/GBDP/encoder_utils.jl:269",
      " [5] top-level scope at In[41]:5"
     ]
    }
   ],
   "source": [
    "d = JLD.load(\"english_chmodel_updated.jld2\")\n",
    "v = create_vocab(d[\"new_d2\"])\n",
    "corpus = load_conllu(\"tr_imst-ud-train.conllu\",v)\n",
    "wmodel = makewmodel(d[\"new_d2\"])\n",
    "fillvecs!(wmodel, corpus, v)"
   ]
  },
  {
   "cell_type": "code",
   "execution_count": 53,
   "metadata": {},
   "outputs": [
    {
     "data": {
      "text/plain": [
       "Dict{String,Any} with 13 entries:\n",
       "  \"back\"       => Any[Float32[1.70814 0.787587 … -0.636378 -1.76298; 4.32346 5.…\n",
       "  \"word_vocab\" => Dict(\"null\"=>8668,\"Secure\"=>7932,\"Puppy\"=>9040,\"progression\"=…\n",
       "  \"char_vocab\" => Dict('E'=>45,'«'=>94,'⁄'=>110,']'=>109,'Z'=>78,'B'=>37,'5'=>6…\n",
       "  \"eowchar\"    => '\\x00\\x00\\x00\\x13'\n",
       "  \"sowchar\"    => '\\x00\\x00\\x00\\x12'\n",
       "  \"forw\"       => Any[Float32[1.47578 0.055072 … -0.2823 -1.58338; -1.95253 -0.…\n",
       "  \"eosword\"    => \"</s>\"\n",
       "  \"sosword\"    => \"<s>\"\n",
       "  \"soft\"       => Array{Float32,2}[[-0.303084 -1.18525 … -0.281071 -0.2053; -0.…\n",
       "  \"unkword\"    => \"<unk>\"\n",
       "  \"cembed\"     => Float32[0.593419 0.190279 … 0.11003 -0.000173569; -0.236287 0…\n",
       "  \"char\"       => Any[Float32[0.0708071 -0.456333 … 0.557484 0.094816; -1.61625…\n",
       "  \"unkchar\"    => '\\x00\\x00\\x00\\x11'"
      ]
     },
     "execution_count": 53,
     "metadata": {},
     "output_type": "execute_result"
    }
   ],
   "source": [
    "d[\"new_d2\"]"
   ]
  },
  {
   "cell_type": "code",
   "execution_count": 4,
   "metadata": {},
   "outputs": [
    {
     "ename": "UndefVarError",
     "evalue": "UndefVarError: v not defined",
     "output_type": "error",
     "traceback": [
      "UndefVarError: v not defined",
      "",
      "Stacktrace:",
      " [1] top-level scope at In[4]:1"
     ]
    }
   ],
   "source": [
    "ev = extend_vocab!(v, corpus)"
   ]
  },
  {
   "cell_type": "code",
   "execution_count": 5,
   "metadata": {},
   "outputs": [
    {
     "ename": "UndefVarError",
     "evalue": "UndefVarError: ev not defined",
     "output_type": "error",
     "traceback": [
      "UndefVarError: ev not defined",
      "",
      "Stacktrace:",
      " [1] top-level scope at In[5]:1"
     ]
    }
   ],
   "source": [
    "ev.xpostags"
   ]
  },
  {
   "cell_type": "code",
   "execution_count": 6,
   "metadata": {},
   "outputs": [
    {
     "ename": "UndefVarError",
     "evalue": "UndefVarError: corpus not defined",
     "output_type": "error",
     "traceback": [
      "UndefVarError: corpus not defined",
      "",
      "Stacktrace:",
      " [1] top-level scope at In[6]:1"
     ]
    }
   ],
   "source": [
    "s = corpus[1]"
   ]
  },
  {
   "cell_type": "code",
   "execution_count": 7,
   "metadata": {},
   "outputs": [
    {
     "ename": "UndefVarError",
     "evalue": "UndefVarError: s not defined",
     "output_type": "error",
     "traceback": [
      "UndefVarError: s not defined",
      "",
      "Stacktrace:",
      " [1] top-level scope at In[7]:1"
     ]
    }
   ],
   "source": [
    "s.xpostag"
   ]
  },
  {
   "cell_type": "code",
   "execution_count": 8,
   "metadata": {},
   "outputs": [
    {
     "ename": "UndefVarError",
     "evalue": "UndefVarError: v not defined",
     "output_type": "error",
     "traceback": [
      "UndefVarError: v not defined",
      "",
      "Stacktrace:",
      " [1] top-level scope at In[8]:1"
     ]
    }
   ],
   "source": [
    "ev = extend_vocab!(v, corpus)"
   ]
  },
  {
   "cell_type": "code",
   "execution_count": 9,
   "metadata": {},
   "outputs": [
    {
     "ename": "UndefVarError",
     "evalue": "UndefVarError: corpus not defined",
     "output_type": "error",
     "traceback": [
      "UndefVarError: corpus not defined",
      "",
      "Stacktrace:",
      " [1] top-level scope at In[9]:1"
     ]
    }
   ],
   "source": [
    "createfeatvec!(corpus)"
   ]
  },
  {
   "cell_type": "code",
   "execution_count": 10,
   "metadata": {},
   "outputs": [
    {
     "ename": "UndefVarError",
     "evalue": "UndefVarError: corpus not defined",
     "output_type": "error",
     "traceback": [
      "UndefVarError: corpus not defined",
      "",
      "Stacktrace:",
      " [1] top-level scope at In[10]:1"
     ]
    }
   ],
   "source": [
    "padfeatvec!(corpus)"
   ]
  },
  {
   "cell_type": "code",
   "execution_count": 11,
   "metadata": {},
   "outputs": [
    {
     "data": {
      "text/plain": [
       "mlp (generic function with 1 method)"
      ]
     },
     "execution_count": 11,
     "metadata": {},
     "output_type": "execute_result"
    }
   ],
   "source": [
    "function mlp(w,x)\n",
    "    for i=1:2:length(w)-2\n",
    "        x = relu.(w[i]*x .+ w[i+1])\n",
    "    end\n",
    "    return w[end-1]*x .+ w[end]\n",
    "end"
   ]
  },
  {
   "cell_type": "code",
   "execution_count": 12,
   "metadata": {},
   "outputs": [
    {
     "data": {
      "text/plain": [
       "create_input_matrix (generic function with 1 method)"
      ]
     },
     "execution_count": 12,
     "metadata": {},
     "output_type": "execute_result"
    }
   ],
   "source": [
    "function create_input_matrix(corpus)\n",
    "    input = []\n",
    "    for i in 1:length(corpus)\n",
    "        for j in 1:length(corpus[i].word)\n",
    "            push!(input,corpus[i].cavec[j])\n",
    "        end\n",
    "    end\n",
    "    return transpose(hcat(input...))\n",
    "end"
   ]
  },
  {
   "cell_type": "code",
   "execution_count": 13,
   "metadata": {},
   "outputs": [
    {
     "ename": "UndefVarError",
     "evalue": "UndefVarError: corpus not defined",
     "output_type": "error",
     "traceback": [
      "UndefVarError: corpus not defined",
      "",
      "Stacktrace:",
      " [1] top-level scope at In[13]:1"
     ]
    }
   ],
   "source": [
    "input = create_input_matrix(corpus)"
   ]
  },
  {
   "cell_type": "code",
   "execution_count": 14,
   "metadata": {},
   "outputs": [
    {
     "data": {
      "text/plain": [
       "findmaxnumofwords (generic function with 1 method)"
      ]
     },
     "execution_count": 14,
     "metadata": {},
     "output_type": "execute_result"
    }
   ],
   "source": [
    "function findmaxnumofwords(corpus)\n",
    "    max_ = 0\n",
    "    for i in 1:length(corpus)\n",
    "        if length(corpus[i].word) > max_\n",
    "            max_ = length(corpus[i].word)\n",
    "        end\n",
    "    end\n",
    "    return max_\n",
    "end"
   ]
  },
  {
   "cell_type": "code",
   "execution_count": 15,
   "metadata": {},
   "outputs": [
    {
     "ename": "UndefVarError",
     "evalue": "UndefVarError: input not defined",
     "output_type": "error",
     "traceback": [
      "UndefVarError: input not defined",
      "",
      "Stacktrace:",
      " [1] top-level scope at In[15]:1"
     ]
    }
   ],
   "source": [
    "totalnumofwords = size(input,1)\n",
    "totalnumoffeatures = size(input,2)\n",
    "#max number of words that can be head in a sentence, number of columns for head output\n",
    "numofhead = findmaxnumofwords(corpus)\n",
    "\n",
    "numofdeprel = length(keys(UDEPREL))"
   ]
  },
  {
   "cell_type": "code",
   "execution_count": 16,
   "metadata": {},
   "outputs": [
    {
     "ename": "UndefVarError",
     "evalue": "UndefVarError: totalnumofwords not defined",
     "output_type": "error",
     "traceback": [
      "UndefVarError: totalnumofwords not defined",
      "",
      "Stacktrace:",
      " [1] top-level scope at In[16]:1"
     ]
    }
   ],
   "source": [
    "totalnumofwords"
   ]
  },
  {
   "cell_type": "code",
   "execution_count": 17,
   "metadata": {},
   "outputs": [
    {
     "ename": "UndefVarError",
     "evalue": "UndefVarError: totalnumoffeatures not defined",
     "output_type": "error",
     "traceback": [
      "UndefVarError: totalnumoffeatures not defined",
      "",
      "Stacktrace:",
      " [1] top-level scope at In[17]:3"
     ]
    }
   ],
   "source": [
    "struct Linear; w; b; end\n",
    "Linear(i::Int,o::Int,scale=0.01) = Linear(scale * randn(o,i), zeros(o))\n",
    "batchsize = totalnumoffeatures\n",
    "# This one allows instances to be defined using input and output sizes:\n",
    "model_head = Linear(totalnumoffeatures,numofhead)"
   ]
  },
  {
   "cell_type": "code",
   "execution_count": 18,
   "metadata": {},
   "outputs": [
    {
     "data": {
      "text/plain": [
       "createoutputheadmatrix (generic function with 1 method)"
      ]
     },
     "execution_count": 18,
     "metadata": {},
     "output_type": "execute_result"
    }
   ],
   "source": [
    "function createoutputheadmatrix(corpus)\n",
    "    outputhead = []\n",
    "    for i in 1:length(corpus)\n",
    "        push!(outputhead, corpus[i].head)\n",
    "    end\n",
    "    return vcat(outputhead...)\n",
    "end"
   ]
  },
  {
   "cell_type": "code",
   "execution_count": 19,
   "metadata": {},
   "outputs": [
    {
     "ename": "UndefVarError",
     "evalue": "UndefVarError: corpus not defined",
     "output_type": "error",
     "traceback": [
      "UndefVarError: corpus not defined",
      "",
      "Stacktrace:",
      " [1] top-level scope at In[19]:1"
     ]
    }
   ],
   "source": [
    "outputhead = createoutputheadmatrix(corpus)"
   ]
  },
  {
   "cell_type": "code",
   "execution_count": 20,
   "metadata": {
    "collapsed": true
   },
   "outputs": [],
   "source": [
    "(m::Linear)(x) = m.w * x  .+ m.b"
   ]
  },
  {
   "cell_type": "code",
   "execution_count": 21,
   "metadata": {},
   "outputs": [
    {
     "ename": "UndefVarError",
     "evalue": "UndefVarError: input not defined",
     "output_type": "error",
     "traceback": [
      "UndefVarError: input not defined",
      "",
      "Stacktrace:",
      " [1] top-level scope at In[21]:1"
     ]
    }
   ],
   "source": [
    "ypred = model_head(transpose(input))"
   ]
  },
  {
   "cell_type": "code",
   "execution_count": 22,
   "metadata": {},
   "outputs": [
    {
     "ename": "UndefVarError",
     "evalue": "UndefVarError: input not defined",
     "output_type": "error",
     "traceback": [
      "UndefVarError: input not defined",
      "",
      "Stacktrace:",
      " [1] top-level scope at In[22]:1"
     ]
    }
   ],
   "source": [
    "accuracy(model_head,transpose(input),outputhead)"
   ]
  },
  {
   "cell_type": "code",
   "execution_count": 23,
   "metadata": {},
   "outputs": [
    {
     "data": {
      "text/plain": [
       "nll (generic function with 1 method)"
      ]
     },
     "execution_count": 23,
     "metadata": {},
     "output_type": "execute_result"
    }
   ],
   "source": [
    "function nll(scores, y)\n",
    "    expscores = exp.(scores)\n",
    "    probabilities = expscores ./ sum(expscores, dims=1)\n",
    "    answerprobs = (probabilities[y[i],i] for i in 1:length(y))\n",
    "    mean(-log.(answerprobs))\n",
    "end"
   ]
  },
  {
   "cell_type": "code",
   "execution_count": 24,
   "metadata": {},
   "outputs": [
    {
     "ename": "UndefVarError",
     "evalue": "UndefVarError: input not defined",
     "output_type": "error",
     "traceback": [
      "UndefVarError: input not defined",
      "",
      "Stacktrace:",
      " [1] top-level scope at In[24]:2"
     ]
    }
   ],
   "source": [
    "(m::Linear)(x, y) = Knet.nll(m(x), y)\n",
    "model_head(transpose(input),outputhead)"
   ]
  },
  {
   "cell_type": "code",
   "execution_count": 25,
   "metadata": {},
   "outputs": [
    {
     "ename": "UndefVarError",
     "evalue": "UndefVarError: v not defined",
     "output_type": "error",
     "traceback": [
      "UndefVarError: v not defined",
      "",
      "Stacktrace:",
      " [1] top-level scope at In[25]:1"
     ]
    }
   ],
   "source": [
    "v.cdict"
   ]
  },
  {
   "cell_type": "code",
   "execution_count": 26,
   "metadata": {},
   "outputs": [
    {
     "data": {
      "text/plain": [
       "'i': ASCII/Unicode U+0069 (category Ll: Letter, lowercase)"
      ]
     },
     "execution_count": 26,
     "metadata": {},
     "output_type": "execute_result"
    }
   ],
   "source": [
    "a ='i'"
   ]
  },
  {
   "cell_type": "code",
   "execution_count": 27,
   "metadata": {},
   "outputs": [
    {
     "data": {
      "text/plain": [
       "'i': ASCII/Unicode U+0069 (category Ll: Letter, lowercase)"
      ]
     },
     "execution_count": 27,
     "metadata": {},
     "output_type": "execute_result"
    }
   ],
   "source": [
    "a"
   ]
  },
  {
   "cell_type": "code",
   "execution_count": 28,
   "metadata": {},
   "outputs": [
    {
     "ename": "ErrorException",
     "evalue": "type Dict has no field sowchar",
     "output_type": "error",
     "traceback": [
      "type Dict has no field sowchar",
      "",
      "Stacktrace:",
      " [1] getproperty(::Any, ::Symbol) at ./sysimg.jl:18",
      " [2] top-level scope at In[28]:1"
     ]
    }
   ],
   "source": [
    "m = d.sowchar"
   ]
  },
  {
   "cell_type": "code",
   "execution_count": 29,
   "metadata": {},
   "outputs": [
    {
     "data": {
      "text/plain": [
       "2×3 Array{Float64,2}:\n",
       " 9.88131e-324  6.94656e-310  4.94066e-324\n",
       " 4.94066e-324  1.4822e-323   6.94656e-310"
      ]
     },
     "execution_count": 29,
     "metadata": {},
     "output_type": "execute_result"
    }
   ],
   "source": [
    "A = Array{Float64}(undef, 2, 3)"
   ]
  },
  {
   "cell_type": "code",
   "execution_count": 38,
   "metadata": {},
   "outputs": [
    {
     "ename": "MethodError",
     "evalue": "MethodError: Cannot `convert` an object of type Array{Float64,2} to an object of type Float64\nClosest candidates are:\n  convert(::Type{T<:Number}, !Matched::T<:Number) where T<:Number at number.jl:6\n  convert(::Type{T<:Number}, !Matched::Number) where T<:Number at number.jl:7\n  convert(::Type{T<:Number}, !Matched::Base.TwicePrecision) where T<:Number at twiceprecision.jl:250\n  ...",
     "output_type": "error",
     "traceback": [
      "MethodError: Cannot `convert` an object of type Array{Float64,2} to an object of type Float64\nClosest candidates are:\n  convert(::Type{T<:Number}, !Matched::T<:Number) where T<:Number at number.jl:6\n  convert(::Type{T<:Number}, !Matched::Number) where T<:Number at number.jl:7\n  convert(::Type{T<:Number}, !Matched::Base.TwicePrecision) where T<:Number at twiceprecision.jl:250\n  ...",
      "",
      "Stacktrace:",
      " [1] setindex!(::Array{Float64,2}, ::Array{Float64,2}, ::Int64) at ./array.jl:767",
      " [2] top-level scope at In[38]:1"
     ]
    }
   ],
   "source": [
    "A[1] = [1.0 2.0 3.0]"
   ]
  },
  {
   "cell_type": "code",
   "execution_count": 29,
   "metadata": {},
   "outputs": [
    {
     "ename": "UndefVarError",
     "evalue": "UndefVarError: m not defined",
     "output_type": "error",
     "traceback": [
      "UndefVarError: m not defined",
      "",
      "Stacktrace:",
      " [1] top-level scope at In[29]:1"
     ]
    }
   ],
   "source": [
    "function wordlstm(model, data, mask, embeddings)\n",
    "    weight, bias = wforw(model), bforw(model)\n",
    "    T = length(data)\n",
    "    B = length(data[1])\n",
    "    H = div(length(bias), 4)\n",
    "    \n",
    "    num = \n",
    "\n",
    "    if isa(weight, KnetArray)\n",
    "        mask = map(KnetArray, mask)\n",
    "    end\n",
    "\n",
    "    wzero = fill!(similar(bias, H, B), 0)\n",
    "\n",
    "    # forward lstm\n",
    "    hidden = cell = wzero\n",
    "    fhiddens = Array{Any}(T-2)  # fhiddens = Array(Any, T-2) : deprecated\n",
    "    for t in 1:T-2\n",
    "        (hidden, cell) = _lstm(weight, bias, hidden, cell, embeddings[:, data[t]]; mask=mask[t])\n",
    "        fhiddens[t] = hidden\n",
    "    end"
   ]
  },
  {
   "cell_type": "code",
   "execution_count": 58,
   "metadata": {},
   "outputs": [
    {
     "name": "stderr",
     "output_type": "stream",
     "text": [
      "┌ Info: Recompiling stale cache file /home/ilayda/.julia/compiled/v1.1/Distributions/xILW0.ji for Distributions [31c24e10-a181-5473-b8eb-7969acd0382f]\n",
      "└ @ Base loading.jl:1184\n"
     ]
    },
    {
     "data": {
      "text/plain": [
       "Normal{Float64}(μ=0.0, σ=1.0)"
      ]
     },
     "execution_count": 58,
     "metadata": {},
     "output_type": "execute_result"
    }
   ],
   "source": [
    "using Random,Distributions\n",
    "dist = Normal()"
   ]
  },
  {
   "cell_type": "code",
   "execution_count": 59,
   "metadata": {},
   "outputs": [
    {
     "data": {
      "text/plain": [
       "2×3 Array{Float64,2}:\n",
       "  0.556994  0.220333  0.965141\n",
       " -0.658875  0.17955   1.01849 "
      ]
     },
     "execution_count": 59,
     "metadata": {},
     "output_type": "execute_result"
    }
   ],
   "source": [
    "a = rand(dist, (2,3))"
   ]
  },
  {
   "cell_type": "code",
   "execution_count": 62,
   "metadata": {},
   "outputs": [
    {
     "ename": "BoundsError",
     "evalue": "BoundsError: attempt to access 2×3 Array{Float64,2} at index [0]",
     "output_type": "error",
     "traceback": [
      "BoundsError: attempt to access 2×3 Array{Float64,2} at index [0]",
      "",
      "Stacktrace:",
      " [1] getindex(::Array{Float64,2}, ::Int64) at ./array.jl:729",
      " [2] top-level scope at In[62]:1"
     ]
    }
   ],
   "source": [
    "b = size(a[0])"
   ]
  },
  {
   "cell_type": "code",
   "execution_count": 63,
   "metadata": {},
   "outputs": [
    {
     "data": {
      "text/plain": [
       "3685-element Array{Any,1}:\n",
       " Sanal parçacıklar sa bunların hiçbirini yapamazlar .                                                                                                                                                                                                                   \n",
       " Ona her şeyimi verdim .                                                                                                                                                                                                                                                \n",
       " Karşısında , pantolonu dizlerine dek ıslak , önlük torbası ham eriklerle dolu İbrahim dikiliyordu .                                                                                                                                                                    \n",
       " Nereden biliyorsunuz .                                                                                                                                                                                                                                                 \n",
       " Aradığımı Buldum Sandım .                                                                                                                                                                                                                                              \n",
       " Kahveleri bende içelim .                                                                                                                                                                                                                                               \n",
       " Ne diyeceğimi bilemedim .                                                                                                                                                                                                                                              \n",
       " Kanamıyordu ...                                                                                                                                                                                                                                                        \n",
       " Süpürgen nerede .                                                                                                                                                                                                                                                      \n",
       " Bir taksi bulduk .                                                                                                                                                                                                                                                     \n",
       " Mebrure birden heyecanlanmıştı .                                                                                                                                                                                                                                       \n",
       " \" Burada ki üst düzey görüşmelerimizde turizm için ellerinden geleni yapacaklarını söylediler .                                                                                                                                                                        \n",
       " Gel bak , sana evi göstereyim .                                                                                                                                                                                                                                        \n",
       " ⋮                                                                                                                                                                                                                                                                      \n",
       " - Bu senin şalın mış .                                                                                                                                                                                                                                                 \n",
       " Bu kuruluşların ciro büyüklüklerine göre yaklaşık elli trilyon luk bir gelir sağlanacak .                                                                                                                                                                              \n",
       " Bartın gecesinden soğuk bir yel esmeye başlamıştı .                                                                                                                                                                                                                    \n",
       " Yerleştir yerleştirme , devşir devşirme sınavları falan filan yok ...                                                                                                                                                                                                  \n",
       " Rolü başkasına verdik dediler .                                                                                                                                                                                                                                        \n",
       " Derken , ev sahibi beyan değiştiriyor .                                                                                                                                                                                                                                \n",
       " MART'I BEKLİYORLARDI .                                                                                                                                                                                                                                                 \n",
       " Almanya'dan parlamento heyeti gelmiş .                                                                                                                                                                                                                                 \n",
       " Üç ocak lı demirci dükkanı deyip geçme , fayton imalatından zengin bile olmuşlar .                                                                                                                                                                                     \n",
       " Geçici bütçe tasarısı , Meclis'e sunuldu .                                                                                                                                                                                                                             \n",
       " Oysa , beyaz peynirin böyle bir efsanesi olsa .                                                                                                                                                                                                                        \n",
       " Erdoğan'ın milletvekili ve başbakan olmasını sağlayacak düzenlemede , Sezer'in karşı çıktığı , doğrudan başbakanlık getirecek yüzdokuz . madde yerine ara seçimi düzenleyen yetmişsekiz . madde üzerinde değişiklik yapacaklarını belirten Şahin , şu mesajı verdi : . "
      ]
     },
     "execution_count": 63,
     "metadata": {},
     "output_type": "execute_result"
    }
   ],
   "source": [
    "corpus"
   ]
  },
  {
   "cell_type": "code",
   "execution_count": null,
   "metadata": {
    "collapsed": true
   },
   "outputs": [],
   "source": []
  }
 ],
 "metadata": {
  "kernelspec": {
   "display_name": "Julia 1.1.0",
   "language": "julia",
   "name": "julia-1.1"
  },
  "language_info": {
   "file_extension": ".jl",
   "mimetype": "application/julia",
   "name": "julia",
   "version": "1.1.0"
  }
 },
 "nbformat": 4,
 "nbformat_minor": 2
}
